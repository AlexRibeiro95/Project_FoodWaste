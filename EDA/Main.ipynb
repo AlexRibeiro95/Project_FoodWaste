{
 "cells": [
  {
   "cell_type": "markdown",
   "metadata": {},
   "source": []
  },
  {
   "cell_type": "code",
   "execution_count": 1,
   "metadata": {},
   "outputs": [
    {
     "ename": "FileNotFoundError",
     "evalue": "[Errno 2] No such file or directory: '/Users/alexandreribeiro/Desktop/Emissions_dataset.csv'",
     "output_type": "error",
     "traceback": [
      "\u001b[1;31m---------------------------------------------------------------------------\u001b[0m",
      "\u001b[1;31mFileNotFoundError\u001b[0m                         Traceback (most recent call last)",
      "Cell \u001b[1;32mIn[1], line 6\u001b[0m\n\u001b[0;32m      3\u001b[0m \u001b[38;5;28;01mimport\u001b[39;00m \u001b[38;5;21;01mpandas\u001b[39;00m \u001b[38;5;28;01mas\u001b[39;00m \u001b[38;5;21;01mpd\u001b[39;00m\n\u001b[0;32m      4\u001b[0m \u001b[38;5;28;01mimport\u001b[39;00m \u001b[38;5;21;01mnumpy\u001b[39;00m \u001b[38;5;28;01mas\u001b[39;00m \u001b[38;5;21;01mnp\u001b[39;00m\n\u001b[1;32m----> 6\u001b[0m emissions_df \u001b[38;5;241m=\u001b[39m pd\u001b[38;5;241m.\u001b[39mread_csv(\u001b[38;5;124m'\u001b[39m\u001b[38;5;124m/Users/alexandreribeiro/Desktop/Emissions_dataset.csv\u001b[39m\u001b[38;5;124m'\u001b[39m)\n\u001b[0;32m      7\u001b[0m foodwaste_df \u001b[38;5;241m=\u001b[39m pd\u001b[38;5;241m.\u001b[39mread_csv(\u001b[38;5;124m'\u001b[39m\u001b[38;5;124m/Users/alexandreribeiro/Desktop/Food-Waste_dataset.csv\u001b[39m\u001b[38;5;124m'\u001b[39m)\n\u001b[0;32m      9\u001b[0m \u001b[38;5;66;03m#Check the first 5 rows of the emissions dataset\u001b[39;00m\n",
      "File \u001b[1;32mc:\\Users\\USER\\anaconda3\\Lib\\site-packages\\pandas\\io\\parsers\\readers.py:948\u001b[0m, in \u001b[0;36mread_csv\u001b[1;34m(filepath_or_buffer, sep, delimiter, header, names, index_col, usecols, dtype, engine, converters, true_values, false_values, skipinitialspace, skiprows, skipfooter, nrows, na_values, keep_default_na, na_filter, verbose, skip_blank_lines, parse_dates, infer_datetime_format, keep_date_col, date_parser, date_format, dayfirst, cache_dates, iterator, chunksize, compression, thousands, decimal, lineterminator, quotechar, quoting, doublequote, escapechar, comment, encoding, encoding_errors, dialect, on_bad_lines, delim_whitespace, low_memory, memory_map, float_precision, storage_options, dtype_backend)\u001b[0m\n\u001b[0;32m    935\u001b[0m kwds_defaults \u001b[38;5;241m=\u001b[39m _refine_defaults_read(\n\u001b[0;32m    936\u001b[0m     dialect,\n\u001b[0;32m    937\u001b[0m     delimiter,\n\u001b[1;32m   (...)\u001b[0m\n\u001b[0;32m    944\u001b[0m     dtype_backend\u001b[38;5;241m=\u001b[39mdtype_backend,\n\u001b[0;32m    945\u001b[0m )\n\u001b[0;32m    946\u001b[0m kwds\u001b[38;5;241m.\u001b[39mupdate(kwds_defaults)\n\u001b[1;32m--> 948\u001b[0m \u001b[38;5;28;01mreturn\u001b[39;00m _read(filepath_or_buffer, kwds)\n",
      "File \u001b[1;32mc:\\Users\\USER\\anaconda3\\Lib\\site-packages\\pandas\\io\\parsers\\readers.py:611\u001b[0m, in \u001b[0;36m_read\u001b[1;34m(filepath_or_buffer, kwds)\u001b[0m\n\u001b[0;32m    608\u001b[0m _validate_names(kwds\u001b[38;5;241m.\u001b[39mget(\u001b[38;5;124m\"\u001b[39m\u001b[38;5;124mnames\u001b[39m\u001b[38;5;124m\"\u001b[39m, \u001b[38;5;28;01mNone\u001b[39;00m))\n\u001b[0;32m    610\u001b[0m \u001b[38;5;66;03m# Create the parser.\u001b[39;00m\n\u001b[1;32m--> 611\u001b[0m parser \u001b[38;5;241m=\u001b[39m TextFileReader(filepath_or_buffer, \u001b[38;5;241m*\u001b[39m\u001b[38;5;241m*\u001b[39mkwds)\n\u001b[0;32m    613\u001b[0m \u001b[38;5;28;01mif\u001b[39;00m chunksize \u001b[38;5;129;01mor\u001b[39;00m iterator:\n\u001b[0;32m    614\u001b[0m     \u001b[38;5;28;01mreturn\u001b[39;00m parser\n",
      "File \u001b[1;32mc:\\Users\\USER\\anaconda3\\Lib\\site-packages\\pandas\\io\\parsers\\readers.py:1448\u001b[0m, in \u001b[0;36mTextFileReader.__init__\u001b[1;34m(self, f, engine, **kwds)\u001b[0m\n\u001b[0;32m   1445\u001b[0m     \u001b[38;5;28mself\u001b[39m\u001b[38;5;241m.\u001b[39moptions[\u001b[38;5;124m\"\u001b[39m\u001b[38;5;124mhas_index_names\u001b[39m\u001b[38;5;124m\"\u001b[39m] \u001b[38;5;241m=\u001b[39m kwds[\u001b[38;5;124m\"\u001b[39m\u001b[38;5;124mhas_index_names\u001b[39m\u001b[38;5;124m\"\u001b[39m]\n\u001b[0;32m   1447\u001b[0m \u001b[38;5;28mself\u001b[39m\u001b[38;5;241m.\u001b[39mhandles: IOHandles \u001b[38;5;241m|\u001b[39m \u001b[38;5;28;01mNone\u001b[39;00m \u001b[38;5;241m=\u001b[39m \u001b[38;5;28;01mNone\u001b[39;00m\n\u001b[1;32m-> 1448\u001b[0m \u001b[38;5;28mself\u001b[39m\u001b[38;5;241m.\u001b[39m_engine \u001b[38;5;241m=\u001b[39m \u001b[38;5;28mself\u001b[39m\u001b[38;5;241m.\u001b[39m_make_engine(f, \u001b[38;5;28mself\u001b[39m\u001b[38;5;241m.\u001b[39mengine)\n",
      "File \u001b[1;32mc:\\Users\\USER\\anaconda3\\Lib\\site-packages\\pandas\\io\\parsers\\readers.py:1705\u001b[0m, in \u001b[0;36mTextFileReader._make_engine\u001b[1;34m(self, f, engine)\u001b[0m\n\u001b[0;32m   1703\u001b[0m     \u001b[38;5;28;01mif\u001b[39;00m \u001b[38;5;124m\"\u001b[39m\u001b[38;5;124mb\u001b[39m\u001b[38;5;124m\"\u001b[39m \u001b[38;5;129;01mnot\u001b[39;00m \u001b[38;5;129;01min\u001b[39;00m mode:\n\u001b[0;32m   1704\u001b[0m         mode \u001b[38;5;241m+\u001b[39m\u001b[38;5;241m=\u001b[39m \u001b[38;5;124m\"\u001b[39m\u001b[38;5;124mb\u001b[39m\u001b[38;5;124m\"\u001b[39m\n\u001b[1;32m-> 1705\u001b[0m \u001b[38;5;28mself\u001b[39m\u001b[38;5;241m.\u001b[39mhandles \u001b[38;5;241m=\u001b[39m get_handle(\n\u001b[0;32m   1706\u001b[0m     f,\n\u001b[0;32m   1707\u001b[0m     mode,\n\u001b[0;32m   1708\u001b[0m     encoding\u001b[38;5;241m=\u001b[39m\u001b[38;5;28mself\u001b[39m\u001b[38;5;241m.\u001b[39moptions\u001b[38;5;241m.\u001b[39mget(\u001b[38;5;124m\"\u001b[39m\u001b[38;5;124mencoding\u001b[39m\u001b[38;5;124m\"\u001b[39m, \u001b[38;5;28;01mNone\u001b[39;00m),\n\u001b[0;32m   1709\u001b[0m     compression\u001b[38;5;241m=\u001b[39m\u001b[38;5;28mself\u001b[39m\u001b[38;5;241m.\u001b[39moptions\u001b[38;5;241m.\u001b[39mget(\u001b[38;5;124m\"\u001b[39m\u001b[38;5;124mcompression\u001b[39m\u001b[38;5;124m\"\u001b[39m, \u001b[38;5;28;01mNone\u001b[39;00m),\n\u001b[0;32m   1710\u001b[0m     memory_map\u001b[38;5;241m=\u001b[39m\u001b[38;5;28mself\u001b[39m\u001b[38;5;241m.\u001b[39moptions\u001b[38;5;241m.\u001b[39mget(\u001b[38;5;124m\"\u001b[39m\u001b[38;5;124mmemory_map\u001b[39m\u001b[38;5;124m\"\u001b[39m, \u001b[38;5;28;01mFalse\u001b[39;00m),\n\u001b[0;32m   1711\u001b[0m     is_text\u001b[38;5;241m=\u001b[39mis_text,\n\u001b[0;32m   1712\u001b[0m     errors\u001b[38;5;241m=\u001b[39m\u001b[38;5;28mself\u001b[39m\u001b[38;5;241m.\u001b[39moptions\u001b[38;5;241m.\u001b[39mget(\u001b[38;5;124m\"\u001b[39m\u001b[38;5;124mencoding_errors\u001b[39m\u001b[38;5;124m\"\u001b[39m, \u001b[38;5;124m\"\u001b[39m\u001b[38;5;124mstrict\u001b[39m\u001b[38;5;124m\"\u001b[39m),\n\u001b[0;32m   1713\u001b[0m     storage_options\u001b[38;5;241m=\u001b[39m\u001b[38;5;28mself\u001b[39m\u001b[38;5;241m.\u001b[39moptions\u001b[38;5;241m.\u001b[39mget(\u001b[38;5;124m\"\u001b[39m\u001b[38;5;124mstorage_options\u001b[39m\u001b[38;5;124m\"\u001b[39m, \u001b[38;5;28;01mNone\u001b[39;00m),\n\u001b[0;32m   1714\u001b[0m )\n\u001b[0;32m   1715\u001b[0m \u001b[38;5;28;01massert\u001b[39;00m \u001b[38;5;28mself\u001b[39m\u001b[38;5;241m.\u001b[39mhandles \u001b[38;5;129;01mis\u001b[39;00m \u001b[38;5;129;01mnot\u001b[39;00m \u001b[38;5;28;01mNone\u001b[39;00m\n\u001b[0;32m   1716\u001b[0m f \u001b[38;5;241m=\u001b[39m \u001b[38;5;28mself\u001b[39m\u001b[38;5;241m.\u001b[39mhandles\u001b[38;5;241m.\u001b[39mhandle\n",
      "File \u001b[1;32mc:\\Users\\USER\\anaconda3\\Lib\\site-packages\\pandas\\io\\common.py:863\u001b[0m, in \u001b[0;36mget_handle\u001b[1;34m(path_or_buf, mode, encoding, compression, memory_map, is_text, errors, storage_options)\u001b[0m\n\u001b[0;32m    858\u001b[0m \u001b[38;5;28;01melif\u001b[39;00m \u001b[38;5;28misinstance\u001b[39m(handle, \u001b[38;5;28mstr\u001b[39m):\n\u001b[0;32m    859\u001b[0m     \u001b[38;5;66;03m# Check whether the filename is to be opened in binary mode.\u001b[39;00m\n\u001b[0;32m    860\u001b[0m     \u001b[38;5;66;03m# Binary mode does not support 'encoding' and 'newline'.\u001b[39;00m\n\u001b[0;32m    861\u001b[0m     \u001b[38;5;28;01mif\u001b[39;00m ioargs\u001b[38;5;241m.\u001b[39mencoding \u001b[38;5;129;01mand\u001b[39;00m \u001b[38;5;124m\"\u001b[39m\u001b[38;5;124mb\u001b[39m\u001b[38;5;124m\"\u001b[39m \u001b[38;5;129;01mnot\u001b[39;00m \u001b[38;5;129;01min\u001b[39;00m ioargs\u001b[38;5;241m.\u001b[39mmode:\n\u001b[0;32m    862\u001b[0m         \u001b[38;5;66;03m# Encoding\u001b[39;00m\n\u001b[1;32m--> 863\u001b[0m         handle \u001b[38;5;241m=\u001b[39m \u001b[38;5;28mopen\u001b[39m(\n\u001b[0;32m    864\u001b[0m             handle,\n\u001b[0;32m    865\u001b[0m             ioargs\u001b[38;5;241m.\u001b[39mmode,\n\u001b[0;32m    866\u001b[0m             encoding\u001b[38;5;241m=\u001b[39mioargs\u001b[38;5;241m.\u001b[39mencoding,\n\u001b[0;32m    867\u001b[0m             errors\u001b[38;5;241m=\u001b[39merrors,\n\u001b[0;32m    868\u001b[0m             newline\u001b[38;5;241m=\u001b[39m\u001b[38;5;124m\"\u001b[39m\u001b[38;5;124m\"\u001b[39m,\n\u001b[0;32m    869\u001b[0m         )\n\u001b[0;32m    870\u001b[0m     \u001b[38;5;28;01melse\u001b[39;00m:\n\u001b[0;32m    871\u001b[0m         \u001b[38;5;66;03m# Binary mode\u001b[39;00m\n\u001b[0;32m    872\u001b[0m         handle \u001b[38;5;241m=\u001b[39m \u001b[38;5;28mopen\u001b[39m(handle, ioargs\u001b[38;5;241m.\u001b[39mmode)\n",
      "\u001b[1;31mFileNotFoundError\u001b[0m: [Errno 2] No such file or directory: '/Users/alexandreribeiro/Desktop/Emissions_dataset.csv'"
     ]
    }
   ],
   "source": [
    "#Import relevant libraries for data analysis\n",
    "\n",
    "import pandas as pd\n",
    "import numpy as np\n",
    "\n",
    "emissions_df = pd.read_csv('/Users/alexandreribeiro/Desktop/Emissions_dataset.csv')\n",
    "\n",
    "foodwaste_df = pd.read_csv('/Users/alexandreribeiro/Desktop/Food-Waste_dataset.csv')\n",
    "\n",
    "#Check the first 5 rows of the emissions dataset\n",
    "\n",
    "emissions_df.head()\n",
    "\n",
    "\n"
   ]
  },
  {
   "cell_type": "code",
   "execution_count": 21,
   "metadata": {},
   "outputs": [
    {
     "data": {
      "text/html": [
       "<div>\n",
       "<style scoped>\n",
       "    .dataframe tbody tr th:only-of-type {\n",
       "        vertical-align: middle;\n",
       "    }\n",
       "\n",
       "    .dataframe tbody tr th {\n",
       "        vertical-align: top;\n",
       "    }\n",
       "\n",
       "    .dataframe thead th {\n",
       "        text-align: right;\n",
       "    }\n",
       "</style>\n",
       "<table border=\"1\" class=\"dataframe\">\n",
       "  <thead>\n",
       "    <tr style=\"text-align: right;\">\n",
       "      <th></th>\n",
       "      <th>country</th>\n",
       "      <th>year</th>\n",
       "      <th>food_supply_stage</th>\n",
       "      <th>commodity</th>\n",
       "      <th>loss_percentage</th>\n",
       "    </tr>\n",
       "  </thead>\n",
       "  <tbody>\n",
       "    <tr>\n",
       "      <th>0</th>\n",
       "      <td>Angola</td>\n",
       "      <td>2010</td>\n",
       "      <td>Farm</td>\n",
       "      <td>Maize (corn)</td>\n",
       "      <td>3.6</td>\n",
       "    </tr>\n",
       "    <tr>\n",
       "      <th>1</th>\n",
       "      <td>Angola</td>\n",
       "      <td>2010</td>\n",
       "      <td>Farm</td>\n",
       "      <td>Millet</td>\n",
       "      <td>1.7</td>\n",
       "    </tr>\n",
       "    <tr>\n",
       "      <th>2</th>\n",
       "      <td>Angola</td>\n",
       "      <td>2010</td>\n",
       "      <td>Farm</td>\n",
       "      <td>Rice</td>\n",
       "      <td>1.5</td>\n",
       "    </tr>\n",
       "    <tr>\n",
       "      <th>3</th>\n",
       "      <td>Angola</td>\n",
       "      <td>2010</td>\n",
       "      <td>Farm</td>\n",
       "      <td>Sorghum</td>\n",
       "      <td>3.0</td>\n",
       "    </tr>\n",
       "    <tr>\n",
       "      <th>4</th>\n",
       "      <td>Angola</td>\n",
       "      <td>2010</td>\n",
       "      <td>Farm</td>\n",
       "      <td>Wheat</td>\n",
       "      <td>4.2</td>\n",
       "    </tr>\n",
       "  </tbody>\n",
       "</table>\n",
       "</div>"
      ],
      "text/plain": [
       "  country  year food_supply_stage     commodity  loss_percentage\n",
       "0  Angola  2010              Farm  Maize (corn)              3.6\n",
       "1  Angola  2010              Farm        Millet              1.7\n",
       "2  Angola  2010              Farm          Rice              1.5\n",
       "3  Angola  2010              Farm       Sorghum              3.0\n",
       "4  Angola  2010              Farm         Wheat              4.2"
      ]
     },
     "execution_count": 21,
     "metadata": {},
     "output_type": "execute_result"
    }
   ],
   "source": [
    "foodwaste_df.head()"
   ]
  },
  {
   "cell_type": "code",
   "execution_count": 22,
   "metadata": {},
   "outputs": [
    {
     "data": {
      "text/plain": [
       "(array(['Farm', 'Harvest', 'Shelling and processing', 'Storage',\n",
       "        'Transport', 'Households', 'Retail, wholesale and market',\n",
       "        'Whole supply chain', 'Distribution and export', 'Packing'],\n",
       "       dtype=object),\n",
       " array(['Agrifood Systems Waste Disposal', 'Crop Residues',\n",
       "        'Food Household Consumption', 'Food Packaging', 'Food Processing',\n",
       "        'Food Retail', 'Food Transport', 'Manure Management',\n",
       "        'Manure applied to Soils', 'Manure left on Pasture',\n",
       "        'Rice Cultivation', 'Synthetic Fertilizers'], dtype=object))"
      ]
     },
     "execution_count": 22,
     "metadata": {},
     "output_type": "execute_result"
    }
   ],
   "source": [
    "#In order to merge the two datasets, we can create a mapping based on the logical correspondence between the food_supply_stage and items.\n",
    "\n",
    "# Get unique values of 'food_supply_stage' and 'item'\n",
    "\n",
    "food_supply_stages = foodwaste_df['food_supply_stage'].unique()\n",
    "items = emissions_df['item'].unique()\n",
    "\n",
    "food_supply_stages, items"
   ]
  },
  {
   "cell_type": "code",
   "execution_count": 23,
   "metadata": {},
   "outputs": [
    {
     "data": {
      "text/html": [
       "<div>\n",
       "<style scoped>\n",
       "    .dataframe tbody tr th:only-of-type {\n",
       "        vertical-align: middle;\n",
       "    }\n",
       "\n",
       "    .dataframe tbody tr th {\n",
       "        vertical-align: top;\n",
       "    }\n",
       "\n",
       "    .dataframe thead th {\n",
       "        text-align: right;\n",
       "    }\n",
       "</style>\n",
       "<table border=\"1\" class=\"dataframe\">\n",
       "  <thead>\n",
       "    <tr style=\"text-align: right;\">\n",
       "      <th></th>\n",
       "      <th>country</th>\n",
       "      <th>year</th>\n",
       "      <th>element</th>\n",
       "      <th>item</th>\n",
       "      <th>unit</th>\n",
       "      <th>value</th>\n",
       "      <th>food_supply_stage</th>\n",
       "    </tr>\n",
       "  </thead>\n",
       "  <tbody>\n",
       "    <tr>\n",
       "      <th>0</th>\n",
       "      <td>Angola</td>\n",
       "      <td>2010</td>\n",
       "      <td>Carbon Dioxide (CO2)</td>\n",
       "      <td>Agrifood Systems Waste Disposal</td>\n",
       "      <td>kt</td>\n",
       "      <td>1134.35</td>\n",
       "      <td>NaN</td>\n",
       "    </tr>\n",
       "    <tr>\n",
       "      <th>1</th>\n",
       "      <td>Angola</td>\n",
       "      <td>2010</td>\n",
       "      <td>Carbon Dioxide (CO2)</td>\n",
       "      <td>Crop Residues</td>\n",
       "      <td>kt</td>\n",
       "      <td>138.57</td>\n",
       "      <td>Farm</td>\n",
       "    </tr>\n",
       "    <tr>\n",
       "      <th>2</th>\n",
       "      <td>Angola</td>\n",
       "      <td>2010</td>\n",
       "      <td>Carbon Dioxide (CO2)</td>\n",
       "      <td>Food Household Consumption</td>\n",
       "      <td>kt</td>\n",
       "      <td>281.49</td>\n",
       "      <td>Households</td>\n",
       "    </tr>\n",
       "    <tr>\n",
       "      <th>3</th>\n",
       "      <td>Angola</td>\n",
       "      <td>2010</td>\n",
       "      <td>Carbon Dioxide (CO2)</td>\n",
       "      <td>Food Packaging</td>\n",
       "      <td>kt</td>\n",
       "      <td>8.13</td>\n",
       "      <td>Packing</td>\n",
       "    </tr>\n",
       "    <tr>\n",
       "      <th>4</th>\n",
       "      <td>Angola</td>\n",
       "      <td>2010</td>\n",
       "      <td>Carbon Dioxide (CO2)</td>\n",
       "      <td>Food Processing</td>\n",
       "      <td>kt</td>\n",
       "      <td>0.00</td>\n",
       "      <td>Shelling and processing</td>\n",
       "    </tr>\n",
       "  </tbody>\n",
       "</table>\n",
       "</div>"
      ],
      "text/plain": [
       "  country  year               element                             item unit  \\\n",
       "0  Angola  2010  Carbon Dioxide (CO2)  Agrifood Systems Waste Disposal   kt   \n",
       "1  Angola  2010  Carbon Dioxide (CO2)                    Crop Residues   kt   \n",
       "2  Angola  2010  Carbon Dioxide (CO2)       Food Household Consumption   kt   \n",
       "3  Angola  2010  Carbon Dioxide (CO2)                   Food Packaging   kt   \n",
       "4  Angola  2010  Carbon Dioxide (CO2)                  Food Processing   kt   \n",
       "\n",
       "     value        food_supply_stage  \n",
       "0  1134.35                      NaN  \n",
       "1   138.57                     Farm  \n",
       "2   281.49               Households  \n",
       "3     8.13                  Packing  \n",
       "4     0.00  Shelling and processing  "
      ]
     },
     "execution_count": 23,
     "metadata": {},
     "output_type": "execute_result"
    }
   ],
   "source": [
    "# Create a mapping dictionary for food_supply_stage to item\n",
    "\n",
    "mapping = {\n",
    "    'Farm': ['Crop Residues', 'Rice Cultivation', 'Synthetic Fertilizers'],\n",
    "    'Harvest': ['Crop Residues'],\n",
    "    'Shelling and processing': ['Food Processing'],\n",
    "    'Storage': ['Food Processing'],  # No direct item mapping\n",
    "    'Transport': ['Food Transport'],\n",
    "    'Households': ['Food Household Consumption'],\n",
    "    'Retail, wholesale and market': ['Food Retail'],\n",
    "    'Whole supply chain': ['Food Transport'],  # Aggregate, not mapped to a single item\n",
    "    'Distribution and export': ['Food Transport'],\n",
    "    'Packing': ['Food Packaging']\n",
    "}\n",
    "\n",
    "#Function to apply mapping and filter the emissions dataset\n",
    "\n",
    "def map_stages(row):\n",
    "    for stage, items in mapping.items():\n",
    "        if row['item'] in items:\n",
    "            return stage\n",
    "    return np.nan\n",
    "\n",
    "# Apply the mapping function to create a new column in the emissions dataset\n",
    "\n",
    "emissions_df['food_supply_stage'] = emissions_df.apply(map_stages, axis=1)\n",
    "\n",
    "# Check the first 5 rows of the updated emissions dataset\n",
    "\n",
    "emissions_df.head()\n",
    "\n"
   ]
  },
  {
   "cell_type": "code",
   "execution_count": 27,
   "metadata": {},
   "outputs": [
    {
     "data": {
      "text/plain": [
       "food_supply_stage\n",
       "Farm                            11208\n",
       "Shelling and processing          3810\n",
       "Transport                        2694\n",
       "Retail, wholesale and market      615\n",
       "Households                         84\n",
       "Packing                            78\n",
       "Name: count, dtype: int64"
      ]
     },
     "execution_count": 27,
     "metadata": {},
     "output_type": "execute_result"
    }
   ],
   "source": [
    "# Merge the two datasets on 'country' 'year' and 'food_supply_stage'\n",
    "\n",
    "merged_df = pd.merge(emissions_df, foodwaste_df, on=['country', 'year', 'food_supply_stage'])\n",
    "\n",
    "# Check the first 5 rows of the merged dataset\n",
    "\n",
    "merged_df.food_supply_stage.value_counts()"
   ]
  },
  {
   "cell_type": "code",
   "execution_count": 45,
   "metadata": {},
   "outputs": [
    {
     "data": {
      "text/html": [
       "<div>\n",
       "<style scoped>\n",
       "    .dataframe tbody tr th:only-of-type {\n",
       "        vertical-align: middle;\n",
       "    }\n",
       "\n",
       "    .dataframe tbody tr th {\n",
       "        vertical-align: top;\n",
       "    }\n",
       "\n",
       "    .dataframe thead th {\n",
       "        text-align: right;\n",
       "    }\n",
       "</style>\n",
       "<table border=\"1\" class=\"dataframe\">\n",
       "  <thead>\n",
       "    <tr style=\"text-align: right;\">\n",
       "      <th></th>\n",
       "      <th>country</th>\n",
       "      <th>year</th>\n",
       "      <th>element</th>\n",
       "      <th>item</th>\n",
       "      <th>unit</th>\n",
       "      <th>value</th>\n",
       "      <th>food_supply_stage</th>\n",
       "      <th>commodity</th>\n",
       "      <th>loss_percentage</th>\n",
       "    </tr>\n",
       "  </thead>\n",
       "  <tbody>\n",
       "    <tr>\n",
       "      <th>0</th>\n",
       "      <td>Angola</td>\n",
       "      <td>2010</td>\n",
       "      <td>Carbon Dioxide (CO2)</td>\n",
       "      <td>Crop Residues</td>\n",
       "      <td>kt</td>\n",
       "      <td>138.57</td>\n",
       "      <td>Farm</td>\n",
       "      <td>Maize (corn)</td>\n",
       "      <td>3.6</td>\n",
       "    </tr>\n",
       "    <tr>\n",
       "      <th>1</th>\n",
       "      <td>Angola</td>\n",
       "      <td>2010</td>\n",
       "      <td>Carbon Dioxide (CO2)</td>\n",
       "      <td>Crop Residues</td>\n",
       "      <td>kt</td>\n",
       "      <td>138.57</td>\n",
       "      <td>Farm</td>\n",
       "      <td>Millet</td>\n",
       "      <td>1.7</td>\n",
       "    </tr>\n",
       "    <tr>\n",
       "      <th>2</th>\n",
       "      <td>Angola</td>\n",
       "      <td>2010</td>\n",
       "      <td>Carbon Dioxide (CO2)</td>\n",
       "      <td>Crop Residues</td>\n",
       "      <td>kt</td>\n",
       "      <td>138.57</td>\n",
       "      <td>Farm</td>\n",
       "      <td>Rice</td>\n",
       "      <td>1.5</td>\n",
       "    </tr>\n",
       "    <tr>\n",
       "      <th>3</th>\n",
       "      <td>Angola</td>\n",
       "      <td>2010</td>\n",
       "      <td>Carbon Dioxide (CO2)</td>\n",
       "      <td>Crop Residues</td>\n",
       "      <td>kt</td>\n",
       "      <td>138.57</td>\n",
       "      <td>Farm</td>\n",
       "      <td>Sorghum</td>\n",
       "      <td>3.0</td>\n",
       "    </tr>\n",
       "    <tr>\n",
       "      <th>4</th>\n",
       "      <td>Angola</td>\n",
       "      <td>2010</td>\n",
       "      <td>Carbon Dioxide (CO2)</td>\n",
       "      <td>Crop Residues</td>\n",
       "      <td>kt</td>\n",
       "      <td>138.57</td>\n",
       "      <td>Farm</td>\n",
       "      <td>Wheat</td>\n",
       "      <td>4.2</td>\n",
       "    </tr>\n",
       "  </tbody>\n",
       "</table>\n",
       "</div>"
      ],
      "text/plain": [
       "  country  year               element           item unit   value  \\\n",
       "0  Angola  2010  Carbon Dioxide (CO2)  Crop Residues   kt  138.57   \n",
       "1  Angola  2010  Carbon Dioxide (CO2)  Crop Residues   kt  138.57   \n",
       "2  Angola  2010  Carbon Dioxide (CO2)  Crop Residues   kt  138.57   \n",
       "3  Angola  2010  Carbon Dioxide (CO2)  Crop Residues   kt  138.57   \n",
       "4  Angola  2010  Carbon Dioxide (CO2)  Crop Residues   kt  138.57   \n",
       "\n",
       "  food_supply_stage     commodity  loss_percentage  \n",
       "0              Farm  Maize (corn)              3.6  \n",
       "1              Farm        Millet              1.7  \n",
       "2              Farm          Rice              1.5  \n",
       "3              Farm       Sorghum              3.0  \n",
       "4              Farm         Wheat              4.2  "
      ]
     },
     "execution_count": 45,
     "metadata": {},
     "output_type": "execute_result"
    }
   ],
   "source": [
    "merged_df.head()"
   ]
  },
  {
   "cell_type": "code",
   "execution_count": 47,
   "metadata": {},
   "outputs": [
    {
     "data": {
      "text/html": [
       "<div>\n",
       "<style scoped>\n",
       "    .dataframe tbody tr th:only-of-type {\n",
       "        vertical-align: middle;\n",
       "    }\n",
       "\n",
       "    .dataframe tbody tr th {\n",
       "        vertical-align: top;\n",
       "    }\n",
       "\n",
       "    .dataframe thead th {\n",
       "        text-align: right;\n",
       "    }\n",
       "</style>\n",
       "<table border=\"1\" class=\"dataframe\">\n",
       "  <thead>\n",
       "    <tr style=\"text-align: right;\">\n",
       "      <th></th>\n",
       "      <th>value</th>\n",
       "      <th>loss_percentage</th>\n",
       "    </tr>\n",
       "  </thead>\n",
       "  <tbody>\n",
       "    <tr>\n",
       "      <th>count</th>\n",
       "      <td>18489.00</td>\n",
       "      <td>18489.00</td>\n",
       "    </tr>\n",
       "    <tr>\n",
       "      <th>mean</th>\n",
       "      <td>1579.97</td>\n",
       "      <td>3.29</td>\n",
       "    </tr>\n",
       "    <tr>\n",
       "      <th>std</th>\n",
       "      <td>11347.12</td>\n",
       "      <td>4.50</td>\n",
       "    </tr>\n",
       "    <tr>\n",
       "      <th>min</th>\n",
       "      <td>0.00</td>\n",
       "      <td>0.00</td>\n",
       "    </tr>\n",
       "    <tr>\n",
       "      <th>25%</th>\n",
       "      <td>0.04</td>\n",
       "      <td>1.50</td>\n",
       "    </tr>\n",
       "    <tr>\n",
       "      <th>50%</th>\n",
       "      <td>2.93</td>\n",
       "      <td>2.00</td>\n",
       "    </tr>\n",
       "    <tr>\n",
       "      <th>75%</th>\n",
       "      <td>124.95</td>\n",
       "      <td>3.50</td>\n",
       "    </tr>\n",
       "    <tr>\n",
       "      <th>max</th>\n",
       "      <td>171822.50</td>\n",
       "      <td>63.00</td>\n",
       "    </tr>\n",
       "  </tbody>\n",
       "</table>\n",
       "</div>"
      ],
      "text/plain": [
       "           value  loss_percentage\n",
       "count   18489.00         18489.00\n",
       "mean     1579.97             3.29\n",
       "std     11347.12             4.50\n",
       "min         0.00             0.00\n",
       "25%         0.04             1.50\n",
       "50%         2.93             2.00\n",
       "75%       124.95             3.50\n",
       "max    171822.50            63.00"
      ]
     },
     "execution_count": 47,
     "metadata": {},
     "output_type": "execute_result"
    }
   ],
   "source": [
    "#Describe value and loss_percentage\n",
    "\n",
    "merged_df[['value', 'loss_percentage']].describe().round(2)"
   ]
  },
  {
   "cell_type": "code",
   "execution_count": 48,
   "metadata": {},
   "outputs": [
    {
     "data": {
      "text/plain": [
       "commodity\n",
       "Maize (corn)          3877\n",
       "Rice                  3129\n",
       "Sorghum               3069\n",
       "Millet                2977\n",
       "Wheat                 1629\n",
       "                      ... \n",
       "Bambara beans, dry       3\n",
       "Sweet potatoes           3\n",
       "Plums and sloes          3\n",
       "Figs                     3\n",
       "Watermelons              3\n",
       "Name: count, Length: 100, dtype: int64"
      ]
     },
     "execution_count": 48,
     "metadata": {},
     "output_type": "execute_result"
    }
   ],
   "source": []
  },
  {
   "cell_type": "markdown",
   "metadata": {},
   "source": [
    "JOSE PEDRO"
   ]
  },
  {
   "cell_type": "code",
   "execution_count": 2,
   "metadata": {},
   "outputs": [],
   "source": [
    "import pandas as pd\n",
    "import numpy as np\n",
    "\n",
    "df_third = pd.read_csv('C:\\\\Users\\\\USER\\\\Documents\\\\GitHub\\\\Project1\\\\Merged_dataset.csv')"
   ]
  },
  {
   "cell_type": "code",
   "execution_count": 3,
   "metadata": {},
   "outputs": [],
   "source": [
    "#change name of column value to quantity of emissions\n",
    "df_third.rename(columns = {'value':'quantity_emissions'}, inplace = True)"
   ]
  },
  {
   "cell_type": "code",
   "execution_count": 4,
   "metadata": {},
   "outputs": [
    {
     "data": {
      "text/html": [
       "<div>\n",
       "<style scoped>\n",
       "    .dataframe tbody tr th:only-of-type {\n",
       "        vertical-align: middle;\n",
       "    }\n",
       "\n",
       "    .dataframe tbody tr th {\n",
       "        vertical-align: top;\n",
       "    }\n",
       "\n",
       "    .dataframe thead th {\n",
       "        text-align: right;\n",
       "    }\n",
       "</style>\n",
       "<table border=\"1\" class=\"dataframe\">\n",
       "  <thead>\n",
       "    <tr style=\"text-align: right;\">\n",
       "      <th></th>\n",
       "      <th>country</th>\n",
       "      <th>year</th>\n",
       "      <th>element</th>\n",
       "      <th>item</th>\n",
       "      <th>unit</th>\n",
       "      <th>quantity_emissions</th>\n",
       "      <th>food_supply_stage</th>\n",
       "      <th>commodity</th>\n",
       "      <th>loss_percentage</th>\n",
       "    </tr>\n",
       "  </thead>\n",
       "  <tbody>\n",
       "    <tr>\n",
       "      <th>0</th>\n",
       "      <td>Angola</td>\n",
       "      <td>2010</td>\n",
       "      <td>Carbon Dioxide (CO2)</td>\n",
       "      <td>Crop Residues</td>\n",
       "      <td>kt</td>\n",
       "      <td>138.57</td>\n",
       "      <td>Farm</td>\n",
       "      <td>Maize (corn)</td>\n",
       "      <td>3.6</td>\n",
       "    </tr>\n",
       "    <tr>\n",
       "      <th>1</th>\n",
       "      <td>Angola</td>\n",
       "      <td>2010</td>\n",
       "      <td>Carbon Dioxide (CO2)</td>\n",
       "      <td>Crop Residues</td>\n",
       "      <td>kt</td>\n",
       "      <td>138.57</td>\n",
       "      <td>Farm</td>\n",
       "      <td>Millet</td>\n",
       "      <td>1.7</td>\n",
       "    </tr>\n",
       "    <tr>\n",
       "      <th>2</th>\n",
       "      <td>Angola</td>\n",
       "      <td>2010</td>\n",
       "      <td>Carbon Dioxide (CO2)</td>\n",
       "      <td>Crop Residues</td>\n",
       "      <td>kt</td>\n",
       "      <td>138.57</td>\n",
       "      <td>Farm</td>\n",
       "      <td>Rice</td>\n",
       "      <td>1.5</td>\n",
       "    </tr>\n",
       "  </tbody>\n",
       "</table>\n",
       "</div>"
      ],
      "text/plain": [
       "  country  year               element           item unit  quantity_emissions  \\\n",
       "0  Angola  2010  Carbon Dioxide (CO2)  Crop Residues   kt              138.57   \n",
       "1  Angola  2010  Carbon Dioxide (CO2)  Crop Residues   kt              138.57   \n",
       "2  Angola  2010  Carbon Dioxide (CO2)  Crop Residues   kt              138.57   \n",
       "\n",
       "  food_supply_stage     commodity  loss_percentage  \n",
       "0              Farm  Maize (corn)              3.6  \n",
       "1              Farm        Millet              1.7  \n",
       "2              Farm          Rice              1.5  "
      ]
     },
     "execution_count": 4,
     "metadata": {},
     "output_type": "execute_result"
    }
   ],
   "source": [
    "df_third.head(3)"
   ]
  },
  {
   "cell_type": "code",
   "execution_count": 34,
   "metadata": {},
   "outputs": [],
   "source": [
    "#Average of emissions by food supply stage and country\n",
    "average_emissions = df_third.groupby(['country', 'food_supply_stage'])['quantity_emissions'].mean().reset_index()"
   ]
  },
  {
   "cell_type": "code",
   "execution_count": 35,
   "metadata": {},
   "outputs": [
    {
     "data": {
      "text/html": [
       "<div>\n",
       "<style scoped>\n",
       "    .dataframe tbody tr th:only-of-type {\n",
       "        vertical-align: middle;\n",
       "    }\n",
       "\n",
       "    .dataframe tbody tr th {\n",
       "        vertical-align: top;\n",
       "    }\n",
       "\n",
       "    .dataframe thead th {\n",
       "        text-align: right;\n",
       "    }\n",
       "</style>\n",
       "<table border=\"1\" class=\"dataframe\">\n",
       "  <thead>\n",
       "    <tr style=\"text-align: right;\">\n",
       "      <th></th>\n",
       "      <th>country</th>\n",
       "      <th>food_supply_stage</th>\n",
       "      <th>quantity_emissions</th>\n",
       "    </tr>\n",
       "  </thead>\n",
       "  <tbody>\n",
       "    <tr>\n",
       "      <th>0</th>\n",
       "      <td>Angola</td>\n",
       "      <td>Farm</td>\n",
       "      <td>77.659394</td>\n",
       "    </tr>\n",
       "    <tr>\n",
       "      <th>1</th>\n",
       "      <td>Angola</td>\n",
       "      <td>Shelling and processing</td>\n",
       "      <td>0.000000</td>\n",
       "    </tr>\n",
       "    <tr>\n",
       "      <th>2</th>\n",
       "      <td>Angola</td>\n",
       "      <td>Transport</td>\n",
       "      <td>90.162727</td>\n",
       "    </tr>\n",
       "    <tr>\n",
       "      <th>3</th>\n",
       "      <td>Armenia</td>\n",
       "      <td>Farm</td>\n",
       "      <td>91.310000</td>\n",
       "    </tr>\n",
       "    <tr>\n",
       "      <th>4</th>\n",
       "      <td>Armenia</td>\n",
       "      <td>Households</td>\n",
       "      <td>33.613333</td>\n",
       "    </tr>\n",
       "    <tr>\n",
       "      <th>...</th>\n",
       "      <td>...</td>\n",
       "      <td>...</td>\n",
       "      <td>...</td>\n",
       "    </tr>\n",
       "    <tr>\n",
       "      <th>231</th>\n",
       "      <td>Zambia</td>\n",
       "      <td>Shelling and processing</td>\n",
       "      <td>0.000000</td>\n",
       "    </tr>\n",
       "    <tr>\n",
       "      <th>232</th>\n",
       "      <td>Zambia</td>\n",
       "      <td>Transport</td>\n",
       "      <td>28.749091</td>\n",
       "    </tr>\n",
       "    <tr>\n",
       "      <th>233</th>\n",
       "      <td>Zimbabwe</td>\n",
       "      <td>Farm</td>\n",
       "      <td>65.562424</td>\n",
       "    </tr>\n",
       "    <tr>\n",
       "      <th>234</th>\n",
       "      <td>Zimbabwe</td>\n",
       "      <td>Shelling and processing</td>\n",
       "      <td>48.566061</td>\n",
       "    </tr>\n",
       "    <tr>\n",
       "      <th>235</th>\n",
       "      <td>Zimbabwe</td>\n",
       "      <td>Transport</td>\n",
       "      <td>36.886364</td>\n",
       "    </tr>\n",
       "  </tbody>\n",
       "</table>\n",
       "<p>236 rows × 3 columns</p>\n",
       "</div>"
      ],
      "text/plain": [
       "      country        food_supply_stage  quantity_emissions\n",
       "0      Angola                     Farm           77.659394\n",
       "1      Angola  Shelling and processing            0.000000\n",
       "2      Angola                Transport           90.162727\n",
       "3     Armenia                     Farm           91.310000\n",
       "4     Armenia               Households           33.613333\n",
       "..        ...                      ...                 ...\n",
       "231    Zambia  Shelling and processing            0.000000\n",
       "232    Zambia                Transport           28.749091\n",
       "233  Zimbabwe                     Farm           65.562424\n",
       "234  Zimbabwe  Shelling and processing           48.566061\n",
       "235  Zimbabwe                Transport           36.886364\n",
       "\n",
       "[236 rows x 3 columns]"
      ]
     },
     "execution_count": 35,
     "metadata": {},
     "output_type": "execute_result"
    }
   ],
   "source": [
    "average_emissions"
   ]
  },
  {
   "cell_type": "code",
   "execution_count": 36,
   "metadata": {},
   "outputs": [],
   "source": [
    "#Now pick the countries with the highest average emissions by food supply stage\n",
    "highest_average_emissions = average_emissions.groupby('food_supply_stage').apply(lambda x: x.nlargest(3, 'quantity_emissions')).reset_index(drop=True)"
   ]
  },
  {
   "cell_type": "code",
   "execution_count": 37,
   "metadata": {},
   "outputs": [
    {
     "data": {
      "text/html": [
       "<div>\n",
       "<style scoped>\n",
       "    .dataframe tbody tr th:only-of-type {\n",
       "        vertical-align: middle;\n",
       "    }\n",
       "\n",
       "    .dataframe tbody tr th {\n",
       "        vertical-align: top;\n",
       "    }\n",
       "\n",
       "    .dataframe thead th {\n",
       "        text-align: right;\n",
       "    }\n",
       "</style>\n",
       "<table border=\"1\" class=\"dataframe\">\n",
       "  <thead>\n",
       "    <tr style=\"text-align: right;\">\n",
       "      <th></th>\n",
       "      <th>country</th>\n",
       "      <th>food_supply_stage</th>\n",
       "      <th>quantity_emissions</th>\n",
       "    </tr>\n",
       "  </thead>\n",
       "  <tbody>\n",
       "    <tr>\n",
       "      <th>0</th>\n",
       "      <td>China</td>\n",
       "      <td>Farm</td>\n",
       "      <td>59752.211111</td>\n",
       "    </tr>\n",
       "    <tr>\n",
       "      <th>1</th>\n",
       "      <td>India</td>\n",
       "      <td>Farm</td>\n",
       "      <td>41316.153416</td>\n",
       "    </tr>\n",
       "    <tr>\n",
       "      <th>2</th>\n",
       "      <td>United States of America</td>\n",
       "      <td>Farm</td>\n",
       "      <td>17321.080000</td>\n",
       "    </tr>\n",
       "    <tr>\n",
       "      <th>3</th>\n",
       "      <td>China</td>\n",
       "      <td>Households</td>\n",
       "      <td>51311.720000</td>\n",
       "    </tr>\n",
       "    <tr>\n",
       "      <th>4</th>\n",
       "      <td>Iran (Islamic Republic of)</td>\n",
       "      <td>Households</td>\n",
       "      <td>2381.063333</td>\n",
       "    </tr>\n",
       "    <tr>\n",
       "      <th>5</th>\n",
       "      <td>Ukraine</td>\n",
       "      <td>Households</td>\n",
       "      <td>1678.623333</td>\n",
       "    </tr>\n",
       "    <tr>\n",
       "      <th>6</th>\n",
       "      <td>United Kingdom of Great Britain and Northern I...</td>\n",
       "      <td>Packing</td>\n",
       "      <td>487.965439</td>\n",
       "    </tr>\n",
       "    <tr>\n",
       "      <th>7</th>\n",
       "      <td>Mexico</td>\n",
       "      <td>Packing</td>\n",
       "      <td>416.296667</td>\n",
       "    </tr>\n",
       "    <tr>\n",
       "      <th>8</th>\n",
       "      <td>Philippines</td>\n",
       "      <td>Packing</td>\n",
       "      <td>96.366667</td>\n",
       "    </tr>\n",
       "    <tr>\n",
       "      <th>9</th>\n",
       "      <td>China</td>\n",
       "      <td>Retail, wholesale and market</td>\n",
       "      <td>13743.463333</td>\n",
       "    </tr>\n",
       "    <tr>\n",
       "      <th>10</th>\n",
       "      <td>United States of America</td>\n",
       "      <td>Retail, wholesale and market</td>\n",
       "      <td>11777.083876</td>\n",
       "    </tr>\n",
       "    <tr>\n",
       "      <th>11</th>\n",
       "      <td>India</td>\n",
       "      <td>Retail, wholesale and market</td>\n",
       "      <td>4191.568333</td>\n",
       "    </tr>\n",
       "    <tr>\n",
       "      <th>12</th>\n",
       "      <td>China</td>\n",
       "      <td>Shelling and processing</td>\n",
       "      <td>43351.146667</td>\n",
       "    </tr>\n",
       "    <tr>\n",
       "      <th>13</th>\n",
       "      <td>United States of America</td>\n",
       "      <td>Shelling and processing</td>\n",
       "      <td>13530.740000</td>\n",
       "    </tr>\n",
       "    <tr>\n",
       "      <th>14</th>\n",
       "      <td>France</td>\n",
       "      <td>Shelling and processing</td>\n",
       "      <td>5924.820000</td>\n",
       "    </tr>\n",
       "    <tr>\n",
       "      <th>15</th>\n",
       "      <td>India</td>\n",
       "      <td>Transport</td>\n",
       "      <td>3374.885800</td>\n",
       "    </tr>\n",
       "    <tr>\n",
       "      <th>16</th>\n",
       "      <td>France</td>\n",
       "      <td>Transport</td>\n",
       "      <td>1629.876667</td>\n",
       "    </tr>\n",
       "    <tr>\n",
       "      <th>17</th>\n",
       "      <td>Republic of Korea</td>\n",
       "      <td>Transport</td>\n",
       "      <td>1384.360000</td>\n",
       "    </tr>\n",
       "  </tbody>\n",
       "</table>\n",
       "</div>"
      ],
      "text/plain": [
       "                                              country  \\\n",
       "0                                               China   \n",
       "1                                               India   \n",
       "2                            United States of America   \n",
       "3                                               China   \n",
       "4                          Iran (Islamic Republic of)   \n",
       "5                                             Ukraine   \n",
       "6   United Kingdom of Great Britain and Northern I...   \n",
       "7                                              Mexico   \n",
       "8                                         Philippines   \n",
       "9                                               China   \n",
       "10                           United States of America   \n",
       "11                                              India   \n",
       "12                                              China   \n",
       "13                           United States of America   \n",
       "14                                             France   \n",
       "15                                              India   \n",
       "16                                             France   \n",
       "17                                  Republic of Korea   \n",
       "\n",
       "               food_supply_stage  quantity_emissions  \n",
       "0                           Farm        59752.211111  \n",
       "1                           Farm        41316.153416  \n",
       "2                           Farm        17321.080000  \n",
       "3                     Households        51311.720000  \n",
       "4                     Households         2381.063333  \n",
       "5                     Households         1678.623333  \n",
       "6                        Packing          487.965439  \n",
       "7                        Packing          416.296667  \n",
       "8                        Packing           96.366667  \n",
       "9   Retail, wholesale and market        13743.463333  \n",
       "10  Retail, wholesale and market        11777.083876  \n",
       "11  Retail, wholesale and market         4191.568333  \n",
       "12       Shelling and processing        43351.146667  \n",
       "13       Shelling and processing        13530.740000  \n",
       "14       Shelling and processing         5924.820000  \n",
       "15                     Transport         3374.885800  \n",
       "16                     Transport         1629.876667  \n",
       "17                     Transport         1384.360000  "
      ]
     },
     "execution_count": 37,
     "metadata": {},
     "output_type": "execute_result"
    }
   ],
   "source": [
    "highest_average_emissions"
   ]
  },
  {
   "cell_type": "code",
   "execution_count": 5,
   "metadata": {},
   "outputs": [],
   "source": [
    "#top10 countries with most quantity_emisions\n",
    "top10_emissions = df_third.groupby('country')['quantity_emissions'].sum().sort_values(ascending=False).head(10)"
   ]
  },
  {
   "cell_type": "code",
   "execution_count": 6,
   "metadata": {},
   "outputs": [
    {
     "data": {
      "text/plain": [
       "country\n",
       "India                                                   20736779.89\n",
       "United States of America                                 1744946.96\n",
       "China                                                    1613273.01\n",
       "Nigeria                                                   803545.10\n",
       "Bangladesh                                                610907.11\n",
       "United Republic of Tanzania                               348285.36\n",
       "United Kingdom of Great Britain and Northern Ireland      316773.01\n",
       "Guinea                                                    251318.08\n",
       "Philippines                                               217364.78\n",
       "Ethiopia                                                  209082.39\n",
       "Name: quantity_emissions, dtype: float64"
      ]
     },
     "execution_count": 6,
     "metadata": {},
     "output_type": "execute_result"
    }
   ],
   "source": [
    "top10_emissions"
   ]
  },
  {
   "cell_type": "code",
   "execution_count": 7,
   "metadata": {},
   "outputs": [],
   "source": [
    "#for those top10_emissions pick the food_supply_stage with most quantity_emissions and the respective quantity_emissions with the type of element in a pivot table\n",
    "top10_emissions_stage = df_third[df_third['country'].isin(top10_emissions.index)].groupby(['country', 'food_supply_stage'])['quantity_emissions'].sum().reset_index()"
   ]
  },
  {
   "cell_type": "code",
   "execution_count": 8,
   "metadata": {},
   "outputs": [
    {
     "data": {
      "text/html": [
       "<div>\n",
       "<style scoped>\n",
       "    .dataframe tbody tr th:only-of-type {\n",
       "        vertical-align: middle;\n",
       "    }\n",
       "\n",
       "    .dataframe tbody tr th {\n",
       "        vertical-align: top;\n",
       "    }\n",
       "\n",
       "    .dataframe thead th {\n",
       "        text-align: right;\n",
       "    }\n",
       "</style>\n",
       "<table border=\"1\" class=\"dataframe\">\n",
       "  <thead>\n",
       "    <tr style=\"text-align: right;\">\n",
       "      <th></th>\n",
       "      <th>country</th>\n",
       "      <th>food_supply_stage</th>\n",
       "      <th>quantity_emissions</th>\n",
       "    </tr>\n",
       "  </thead>\n",
       "  <tbody>\n",
       "    <tr>\n",
       "      <th>0</th>\n",
       "      <td>Bangladesh</td>\n",
       "      <td>Farm</td>\n",
       "      <td>602193.41</td>\n",
       "    </tr>\n",
       "    <tr>\n",
       "      <th>1</th>\n",
       "      <td>Bangladesh</td>\n",
       "      <td>Retail, wholesale and market</td>\n",
       "      <td>7587.34</td>\n",
       "    </tr>\n",
       "    <tr>\n",
       "      <th>2</th>\n",
       "      <td>Bangladesh</td>\n",
       "      <td>Shelling and processing</td>\n",
       "      <td>0.00</td>\n",
       "    </tr>\n",
       "    <tr>\n",
       "      <th>3</th>\n",
       "      <td>Bangladesh</td>\n",
       "      <td>Transport</td>\n",
       "      <td>1126.36</td>\n",
       "    </tr>\n",
       "    <tr>\n",
       "      <th>4</th>\n",
       "      <td>China</td>\n",
       "      <td>Farm</td>\n",
       "      <td>1075539.80</td>\n",
       "    </tr>\n",
       "    <tr>\n",
       "      <th>5</th>\n",
       "      <td>China</td>\n",
       "      <td>Households</td>\n",
       "      <td>153935.16</td>\n",
       "    </tr>\n",
       "    <tr>\n",
       "      <th>6</th>\n",
       "      <td>China</td>\n",
       "      <td>Retail, wholesale and market</td>\n",
       "      <td>123691.17</td>\n",
       "    </tr>\n",
       "    <tr>\n",
       "      <th>7</th>\n",
       "      <td>China</td>\n",
       "      <td>Shelling and processing</td>\n",
       "      <td>260106.88</td>\n",
       "    </tr>\n",
       "    <tr>\n",
       "      <th>8</th>\n",
       "      <td>Ethiopia</td>\n",
       "      <td>Farm</td>\n",
       "      <td>194336.86</td>\n",
       "    </tr>\n",
       "    <tr>\n",
       "      <th>9</th>\n",
       "      <td>Ethiopia</td>\n",
       "      <td>Retail, wholesale and market</td>\n",
       "      <td>157.19</td>\n",
       "    </tr>\n",
       "    <tr>\n",
       "      <th>10</th>\n",
       "      <td>Ethiopia</td>\n",
       "      <td>Shelling and processing</td>\n",
       "      <td>0.00</td>\n",
       "    </tr>\n",
       "    <tr>\n",
       "      <th>11</th>\n",
       "      <td>Ethiopia</td>\n",
       "      <td>Transport</td>\n",
       "      <td>14588.34</td>\n",
       "    </tr>\n",
       "    <tr>\n",
       "      <th>12</th>\n",
       "      <td>Guinea</td>\n",
       "      <td>Farm</td>\n",
       "      <td>251318.08</td>\n",
       "    </tr>\n",
       "    <tr>\n",
       "      <th>13</th>\n",
       "      <td>India</td>\n",
       "      <td>Farm</td>\n",
       "      <td>20079650.56</td>\n",
       "    </tr>\n",
       "    <tr>\n",
       "      <th>14</th>\n",
       "      <td>India</td>\n",
       "      <td>Retail, wholesale and market</td>\n",
       "      <td>150896.46</td>\n",
       "    </tr>\n",
       "    <tr>\n",
       "      <th>15</th>\n",
       "      <td>India</td>\n",
       "      <td>Transport</td>\n",
       "      <td>506232.87</td>\n",
       "    </tr>\n",
       "    <tr>\n",
       "      <th>16</th>\n",
       "      <td>Nigeria</td>\n",
       "      <td>Farm</td>\n",
       "      <td>770273.96</td>\n",
       "    </tr>\n",
       "    <tr>\n",
       "      <th>17</th>\n",
       "      <td>Nigeria</td>\n",
       "      <td>Retail, wholesale and market</td>\n",
       "      <td>13527.29</td>\n",
       "    </tr>\n",
       "    <tr>\n",
       "      <th>18</th>\n",
       "      <td>Nigeria</td>\n",
       "      <td>Shelling and processing</td>\n",
       "      <td>0.00</td>\n",
       "    </tr>\n",
       "    <tr>\n",
       "      <th>19</th>\n",
       "      <td>Nigeria</td>\n",
       "      <td>Transport</td>\n",
       "      <td>19743.85</td>\n",
       "    </tr>\n",
       "    <tr>\n",
       "      <th>20</th>\n",
       "      <td>Philippines</td>\n",
       "      <td>Farm</td>\n",
       "      <td>204512.38</td>\n",
       "    </tr>\n",
       "    <tr>\n",
       "      <th>21</th>\n",
       "      <td>Philippines</td>\n",
       "      <td>Packing</td>\n",
       "      <td>289.10</td>\n",
       "    </tr>\n",
       "    <tr>\n",
       "      <th>22</th>\n",
       "      <td>Philippines</td>\n",
       "      <td>Retail, wholesale and market</td>\n",
       "      <td>9953.68</td>\n",
       "    </tr>\n",
       "    <tr>\n",
       "      <th>23</th>\n",
       "      <td>Philippines</td>\n",
       "      <td>Transport</td>\n",
       "      <td>2609.62</td>\n",
       "    </tr>\n",
       "    <tr>\n",
       "      <th>24</th>\n",
       "      <td>United Kingdom of Great Britain and Northern I...</td>\n",
       "      <td>Farm</td>\n",
       "      <td>133541.66</td>\n",
       "    </tr>\n",
       "    <tr>\n",
       "      <th>25</th>\n",
       "      <td>United Kingdom of Great Britain and Northern I...</td>\n",
       "      <td>Packing</td>\n",
       "      <td>27814.03</td>\n",
       "    </tr>\n",
       "    <tr>\n",
       "      <th>26</th>\n",
       "      <td>United Kingdom of Great Britain and Northern I...</td>\n",
       "      <td>Retail, wholesale and market</td>\n",
       "      <td>127932.68</td>\n",
       "    </tr>\n",
       "    <tr>\n",
       "      <th>27</th>\n",
       "      <td>United Kingdom of Great Britain and Northern I...</td>\n",
       "      <td>Shelling and processing</td>\n",
       "      <td>27484.64</td>\n",
       "    </tr>\n",
       "    <tr>\n",
       "      <th>28</th>\n",
       "      <td>United Republic of Tanzania</td>\n",
       "      <td>Farm</td>\n",
       "      <td>334933.54</td>\n",
       "    </tr>\n",
       "    <tr>\n",
       "      <th>29</th>\n",
       "      <td>United Republic of Tanzania</td>\n",
       "      <td>Packing</td>\n",
       "      <td>7.37</td>\n",
       "    </tr>\n",
       "    <tr>\n",
       "      <th>30</th>\n",
       "      <td>United Republic of Tanzania</td>\n",
       "      <td>Retail, wholesale and market</td>\n",
       "      <td>11469.94</td>\n",
       "    </tr>\n",
       "    <tr>\n",
       "      <th>31</th>\n",
       "      <td>United Republic of Tanzania</td>\n",
       "      <td>Shelling and processing</td>\n",
       "      <td>0.00</td>\n",
       "    </tr>\n",
       "    <tr>\n",
       "      <th>32</th>\n",
       "      <td>United Republic of Tanzania</td>\n",
       "      <td>Transport</td>\n",
       "      <td>1874.51</td>\n",
       "    </tr>\n",
       "    <tr>\n",
       "      <th>33</th>\n",
       "      <td>United States of America</td>\n",
       "      <td>Farm</td>\n",
       "      <td>103926.48</td>\n",
       "    </tr>\n",
       "    <tr>\n",
       "      <th>34</th>\n",
       "      <td>United States of America</td>\n",
       "      <td>Retail, wholesale and market</td>\n",
       "      <td>1519243.82</td>\n",
       "    </tr>\n",
       "    <tr>\n",
       "      <th>35</th>\n",
       "      <td>United States of America</td>\n",
       "      <td>Shelling and processing</td>\n",
       "      <td>121776.66</td>\n",
       "    </tr>\n",
       "  </tbody>\n",
       "</table>\n",
       "</div>"
      ],
      "text/plain": [
       "                                              country  \\\n",
       "0                                          Bangladesh   \n",
       "1                                          Bangladesh   \n",
       "2                                          Bangladesh   \n",
       "3                                          Bangladesh   \n",
       "4                                               China   \n",
       "5                                               China   \n",
       "6                                               China   \n",
       "7                                               China   \n",
       "8                                            Ethiopia   \n",
       "9                                            Ethiopia   \n",
       "10                                           Ethiopia   \n",
       "11                                           Ethiopia   \n",
       "12                                             Guinea   \n",
       "13                                              India   \n",
       "14                                              India   \n",
       "15                                              India   \n",
       "16                                            Nigeria   \n",
       "17                                            Nigeria   \n",
       "18                                            Nigeria   \n",
       "19                                            Nigeria   \n",
       "20                                        Philippines   \n",
       "21                                        Philippines   \n",
       "22                                        Philippines   \n",
       "23                                        Philippines   \n",
       "24  United Kingdom of Great Britain and Northern I...   \n",
       "25  United Kingdom of Great Britain and Northern I...   \n",
       "26  United Kingdom of Great Britain and Northern I...   \n",
       "27  United Kingdom of Great Britain and Northern I...   \n",
       "28                        United Republic of Tanzania   \n",
       "29                        United Republic of Tanzania   \n",
       "30                        United Republic of Tanzania   \n",
       "31                        United Republic of Tanzania   \n",
       "32                        United Republic of Tanzania   \n",
       "33                           United States of America   \n",
       "34                           United States of America   \n",
       "35                           United States of America   \n",
       "\n",
       "               food_supply_stage  quantity_emissions  \n",
       "0                           Farm           602193.41  \n",
       "1   Retail, wholesale and market             7587.34  \n",
       "2        Shelling and processing                0.00  \n",
       "3                      Transport             1126.36  \n",
       "4                           Farm          1075539.80  \n",
       "5                     Households           153935.16  \n",
       "6   Retail, wholesale and market           123691.17  \n",
       "7        Shelling and processing           260106.88  \n",
       "8                           Farm           194336.86  \n",
       "9   Retail, wholesale and market              157.19  \n",
       "10       Shelling and processing                0.00  \n",
       "11                     Transport            14588.34  \n",
       "12                          Farm           251318.08  \n",
       "13                          Farm         20079650.56  \n",
       "14  Retail, wholesale and market           150896.46  \n",
       "15                     Transport           506232.87  \n",
       "16                          Farm           770273.96  \n",
       "17  Retail, wholesale and market            13527.29  \n",
       "18       Shelling and processing                0.00  \n",
       "19                     Transport            19743.85  \n",
       "20                          Farm           204512.38  \n",
       "21                       Packing              289.10  \n",
       "22  Retail, wholesale and market             9953.68  \n",
       "23                     Transport             2609.62  \n",
       "24                          Farm           133541.66  \n",
       "25                       Packing            27814.03  \n",
       "26  Retail, wholesale and market           127932.68  \n",
       "27       Shelling and processing            27484.64  \n",
       "28                          Farm           334933.54  \n",
       "29                       Packing                7.37  \n",
       "30  Retail, wholesale and market            11469.94  \n",
       "31       Shelling and processing                0.00  \n",
       "32                     Transport             1874.51  \n",
       "33                          Farm           103926.48  \n",
       "34  Retail, wholesale and market          1519243.82  \n",
       "35       Shelling and processing           121776.66  "
      ]
     },
     "execution_count": 8,
     "metadata": {},
     "output_type": "execute_result"
    }
   ],
   "source": [
    "top10_emissions_stage"
   ]
  },
  {
   "cell_type": "code",
   "execution_count": 9,
   "metadata": {},
   "outputs": [],
   "source": [
    "#now pick the food_supply_stage with most quantity_emissions for each country always in a pivot table\n",
    "top10_emissions_stage_max = top10_emissions_stage.loc[top10_emissions_stage.groupby('country')['quantity_emissions'].idxmax()]"
   ]
  },
  {
   "cell_type": "code",
   "execution_count": 10,
   "metadata": {},
   "outputs": [],
   "source": [
    "top10_emissions_stage_max.reset_index(drop=True, inplace=True)"
   ]
  },
  {
   "cell_type": "code",
   "execution_count": 11,
   "metadata": {},
   "outputs": [
    {
     "data": {
      "text/html": [
       "<div>\n",
       "<style scoped>\n",
       "    .dataframe tbody tr th:only-of-type {\n",
       "        vertical-align: middle;\n",
       "    }\n",
       "\n",
       "    .dataframe tbody tr th {\n",
       "        vertical-align: top;\n",
       "    }\n",
       "\n",
       "    .dataframe thead th {\n",
       "        text-align: right;\n",
       "    }\n",
       "</style>\n",
       "<table border=\"1\" class=\"dataframe\">\n",
       "  <thead>\n",
       "    <tr style=\"text-align: right;\">\n",
       "      <th></th>\n",
       "      <th>country</th>\n",
       "      <th>food_supply_stage</th>\n",
       "      <th>quantity_emissions</th>\n",
       "    </tr>\n",
       "  </thead>\n",
       "  <tbody>\n",
       "    <tr>\n",
       "      <th>0</th>\n",
       "      <td>Bangladesh</td>\n",
       "      <td>Farm</td>\n",
       "      <td>602193.41</td>\n",
       "    </tr>\n",
       "    <tr>\n",
       "      <th>1</th>\n",
       "      <td>China</td>\n",
       "      <td>Farm</td>\n",
       "      <td>1075539.80</td>\n",
       "    </tr>\n",
       "    <tr>\n",
       "      <th>2</th>\n",
       "      <td>Ethiopia</td>\n",
       "      <td>Farm</td>\n",
       "      <td>194336.86</td>\n",
       "    </tr>\n",
       "    <tr>\n",
       "      <th>3</th>\n",
       "      <td>Guinea</td>\n",
       "      <td>Farm</td>\n",
       "      <td>251318.08</td>\n",
       "    </tr>\n",
       "    <tr>\n",
       "      <th>4</th>\n",
       "      <td>India</td>\n",
       "      <td>Farm</td>\n",
       "      <td>20079650.56</td>\n",
       "    </tr>\n",
       "    <tr>\n",
       "      <th>5</th>\n",
       "      <td>Nigeria</td>\n",
       "      <td>Farm</td>\n",
       "      <td>770273.96</td>\n",
       "    </tr>\n",
       "    <tr>\n",
       "      <th>6</th>\n",
       "      <td>Philippines</td>\n",
       "      <td>Farm</td>\n",
       "      <td>204512.38</td>\n",
       "    </tr>\n",
       "    <tr>\n",
       "      <th>7</th>\n",
       "      <td>United Kingdom of Great Britain and Northern I...</td>\n",
       "      <td>Farm</td>\n",
       "      <td>133541.66</td>\n",
       "    </tr>\n",
       "    <tr>\n",
       "      <th>8</th>\n",
       "      <td>United Republic of Tanzania</td>\n",
       "      <td>Farm</td>\n",
       "      <td>334933.54</td>\n",
       "    </tr>\n",
       "    <tr>\n",
       "      <th>9</th>\n",
       "      <td>United States of America</td>\n",
       "      <td>Retail, wholesale and market</td>\n",
       "      <td>1519243.82</td>\n",
       "    </tr>\n",
       "  </tbody>\n",
       "</table>\n",
       "</div>"
      ],
      "text/plain": [
       "                                             country  \\\n",
       "0                                         Bangladesh   \n",
       "1                                              China   \n",
       "2                                           Ethiopia   \n",
       "3                                             Guinea   \n",
       "4                                              India   \n",
       "5                                            Nigeria   \n",
       "6                                        Philippines   \n",
       "7  United Kingdom of Great Britain and Northern I...   \n",
       "8                        United Republic of Tanzania   \n",
       "9                           United States of America   \n",
       "\n",
       "              food_supply_stage  quantity_emissions  \n",
       "0                          Farm           602193.41  \n",
       "1                          Farm          1075539.80  \n",
       "2                          Farm           194336.86  \n",
       "3                          Farm           251318.08  \n",
       "4                          Farm         20079650.56  \n",
       "5                          Farm           770273.96  \n",
       "6                          Farm           204512.38  \n",
       "7                          Farm           133541.66  \n",
       "8                          Farm           334933.54  \n",
       "9  Retail, wholesale and market          1519243.82  "
      ]
     },
     "execution_count": 11,
     "metadata": {},
     "output_type": "execute_result"
    }
   ],
   "source": [
    "top10_emissions_stage_max"
   ]
  },
  {
   "cell_type": "code",
   "execution_count": 12,
   "metadata": {},
   "outputs": [],
   "source": [
    "#i would like to know from these pivot table which element has the most quantity_emissions\n",
    "top10_emissions_stage_max_element = df_third[df_third['country'].isin(top10_emissions_stage_max['country'])].groupby(['country', 'food_supply_stage', 'element'])['quantity_emissions'].sum().reset_index()"
   ]
  },
  {
   "cell_type": "code",
   "execution_count": 13,
   "metadata": {},
   "outputs": [
    {
     "data": {
      "text/html": [
       "<div>\n",
       "<style scoped>\n",
       "    .dataframe tbody tr th:only-of-type {\n",
       "        vertical-align: middle;\n",
       "    }\n",
       "\n",
       "    .dataframe tbody tr th {\n",
       "        vertical-align: top;\n",
       "    }\n",
       "\n",
       "    .dataframe thead th {\n",
       "        text-align: right;\n",
       "    }\n",
       "</style>\n",
       "<table border=\"1\" class=\"dataframe\">\n",
       "  <thead>\n",
       "    <tr style=\"text-align: right;\">\n",
       "      <th></th>\n",
       "      <th>country</th>\n",
       "      <th>food_supply_stage</th>\n",
       "      <th>element</th>\n",
       "      <th>quantity_emissions</th>\n",
       "    </tr>\n",
       "  </thead>\n",
       "  <tbody>\n",
       "    <tr>\n",
       "      <th>0</th>\n",
       "      <td>Bangladesh</td>\n",
       "      <td>Farm</td>\n",
       "      <td>Carbon Dioxide (CO2)</td>\n",
       "      <td>585702.62</td>\n",
       "    </tr>\n",
       "    <tr>\n",
       "      <th>1</th>\n",
       "      <td>Bangladesh</td>\n",
       "      <td>Farm</td>\n",
       "      <td>Methane (CH4)</td>\n",
       "      <td>16032.45</td>\n",
       "    </tr>\n",
       "    <tr>\n",
       "      <th>2</th>\n",
       "      <td>Bangladesh</td>\n",
       "      <td>Farm</td>\n",
       "      <td>Nitrous Oxide (N2O)</td>\n",
       "      <td>458.34</td>\n",
       "    </tr>\n",
       "    <tr>\n",
       "      <th>3</th>\n",
       "      <td>Bangladesh</td>\n",
       "      <td>Retail, wholesale and market</td>\n",
       "      <td>Carbon Dioxide (CO2)</td>\n",
       "      <td>7587.18</td>\n",
       "    </tr>\n",
       "    <tr>\n",
       "      <th>4</th>\n",
       "      <td>Bangladesh</td>\n",
       "      <td>Retail, wholesale and market</td>\n",
       "      <td>Methane (CH4)</td>\n",
       "      <td>0.16</td>\n",
       "    </tr>\n",
       "    <tr>\n",
       "      <th>...</th>\n",
       "      <td>...</td>\n",
       "      <td>...</td>\n",
       "      <td>...</td>\n",
       "      <td>...</td>\n",
       "    </tr>\n",
       "    <tr>\n",
       "      <th>102</th>\n",
       "      <td>United States of America</td>\n",
       "      <td>Retail, wholesale and market</td>\n",
       "      <td>Methane (CH4)</td>\n",
       "      <td>38.97</td>\n",
       "    </tr>\n",
       "    <tr>\n",
       "      <th>103</th>\n",
       "      <td>United States of America</td>\n",
       "      <td>Retail, wholesale and market</td>\n",
       "      <td>Nitrous Oxide (N2O)</td>\n",
       "      <td>21.47</td>\n",
       "    </tr>\n",
       "    <tr>\n",
       "      <th>104</th>\n",
       "      <td>United States of America</td>\n",
       "      <td>Shelling and processing</td>\n",
       "      <td>Carbon Dioxide (CO2)</td>\n",
       "      <td>121720.11</td>\n",
       "    </tr>\n",
       "    <tr>\n",
       "      <th>105</th>\n",
       "      <td>United States of America</td>\n",
       "      <td>Shelling and processing</td>\n",
       "      <td>Methane (CH4)</td>\n",
       "      <td>54.24</td>\n",
       "    </tr>\n",
       "    <tr>\n",
       "      <th>106</th>\n",
       "      <td>United States of America</td>\n",
       "      <td>Shelling and processing</td>\n",
       "      <td>Nitrous Oxide (N2O)</td>\n",
       "      <td>2.31</td>\n",
       "    </tr>\n",
       "  </tbody>\n",
       "</table>\n",
       "<p>107 rows × 4 columns</p>\n",
       "</div>"
      ],
      "text/plain": [
       "                      country             food_supply_stage  \\\n",
       "0                  Bangladesh                          Farm   \n",
       "1                  Bangladesh                          Farm   \n",
       "2                  Bangladesh                          Farm   \n",
       "3                  Bangladesh  Retail, wholesale and market   \n",
       "4                  Bangladesh  Retail, wholesale and market   \n",
       "..                        ...                           ...   \n",
       "102  United States of America  Retail, wholesale and market   \n",
       "103  United States of America  Retail, wholesale and market   \n",
       "104  United States of America       Shelling and processing   \n",
       "105  United States of America       Shelling and processing   \n",
       "106  United States of America       Shelling and processing   \n",
       "\n",
       "                  element  quantity_emissions  \n",
       "0    Carbon Dioxide (CO2)           585702.62  \n",
       "1           Methane (CH4)            16032.45  \n",
       "2     Nitrous Oxide (N2O)              458.34  \n",
       "3    Carbon Dioxide (CO2)             7587.18  \n",
       "4           Methane (CH4)                0.16  \n",
       "..                    ...                 ...  \n",
       "102         Methane (CH4)               38.97  \n",
       "103   Nitrous Oxide (N2O)               21.47  \n",
       "104  Carbon Dioxide (CO2)           121720.11  \n",
       "105         Methane (CH4)               54.24  \n",
       "106   Nitrous Oxide (N2O)                2.31  \n",
       "\n",
       "[107 rows x 4 columns]"
      ]
     },
     "execution_count": 13,
     "metadata": {},
     "output_type": "execute_result"
    }
   ],
   "source": [
    "top10_emissions_stage_max_element"
   ]
  },
  {
   "cell_type": "code",
   "execution_count": 30,
   "metadata": {},
   "outputs": [],
   "source": [
    "#Can you do the average of emissions for each country and food_supply_stage for the top10 countries with most emissions?\n",
    "top10_emissions_avg = df_third[df_third['country'].isin(top10_emissions.index)].groupby(['country', 'food_supply_stage'])['quantity_emissions'].mean().reset_index()"
   ]
  },
  {
   "cell_type": "code",
   "execution_count": 32,
   "metadata": {},
   "outputs": [
    {
     "data": {
      "text/html": [
       "<div>\n",
       "<style scoped>\n",
       "    .dataframe tbody tr th:only-of-type {\n",
       "        vertical-align: middle;\n",
       "    }\n",
       "\n",
       "    .dataframe tbody tr th {\n",
       "        vertical-align: top;\n",
       "    }\n",
       "\n",
       "    .dataframe thead th {\n",
       "        text-align: right;\n",
       "    }\n",
       "</style>\n",
       "<table border=\"1\" class=\"dataframe\">\n",
       "  <thead>\n",
       "    <tr style=\"text-align: right;\">\n",
       "      <th></th>\n",
       "      <th>country</th>\n",
       "      <th>food_supply_stage</th>\n",
       "      <th>quantity_emissions</th>\n",
       "    </tr>\n",
       "  </thead>\n",
       "  <tbody>\n",
       "    <tr>\n",
       "      <th>0</th>\n",
       "      <td>Bangladesh</td>\n",
       "      <td>Farm</td>\n",
       "      <td>7168.969167</td>\n",
       "    </tr>\n",
       "    <tr>\n",
       "      <th>1</th>\n",
       "      <td>Bangladesh</td>\n",
       "      <td>Retail, wholesale and market</td>\n",
       "      <td>158.069583</td>\n",
       "    </tr>\n",
       "    <tr>\n",
       "      <th>2</th>\n",
       "      <td>Bangladesh</td>\n",
       "      <td>Shelling and processing</td>\n",
       "      <td>0.000000</td>\n",
       "    </tr>\n",
       "    <tr>\n",
       "      <th>3</th>\n",
       "      <td>Bangladesh</td>\n",
       "      <td>Transport</td>\n",
       "      <td>125.151111</td>\n",
       "    </tr>\n",
       "    <tr>\n",
       "      <th>4</th>\n",
       "      <td>China</td>\n",
       "      <td>Farm</td>\n",
       "      <td>59752.211111</td>\n",
       "    </tr>\n",
       "    <tr>\n",
       "      <th>5</th>\n",
       "      <td>China</td>\n",
       "      <td>Households</td>\n",
       "      <td>51311.720000</td>\n",
       "    </tr>\n",
       "    <tr>\n",
       "      <th>6</th>\n",
       "      <td>China</td>\n",
       "      <td>Retail, wholesale and market</td>\n",
       "      <td>13743.463333</td>\n",
       "    </tr>\n",
       "    <tr>\n",
       "      <th>7</th>\n",
       "      <td>China</td>\n",
       "      <td>Shelling and processing</td>\n",
       "      <td>43351.146667</td>\n",
       "    </tr>\n",
       "    <tr>\n",
       "      <th>8</th>\n",
       "      <td>Ethiopia</td>\n",
       "      <td>Farm</td>\n",
       "      <td>483.425025</td>\n",
       "    </tr>\n",
       "    <tr>\n",
       "      <th>9</th>\n",
       "      <td>Ethiopia</td>\n",
       "      <td>Retail, wholesale and market</td>\n",
       "      <td>10.479333</td>\n",
       "    </tr>\n",
       "    <tr>\n",
       "      <th>10</th>\n",
       "      <td>Ethiopia</td>\n",
       "      <td>Shelling and processing</td>\n",
       "      <td>0.000000</td>\n",
       "    </tr>\n",
       "    <tr>\n",
       "      <th>11</th>\n",
       "      <td>Ethiopia</td>\n",
       "      <td>Transport</td>\n",
       "      <td>74.812000</td>\n",
       "    </tr>\n",
       "    <tr>\n",
       "      <th>12</th>\n",
       "      <td>Guinea</td>\n",
       "      <td>Farm</td>\n",
       "      <td>951.962424</td>\n",
       "    </tr>\n",
       "    <tr>\n",
       "      <th>13</th>\n",
       "      <td>India</td>\n",
       "      <td>Farm</td>\n",
       "      <td>41316.153416</td>\n",
       "    </tr>\n",
       "    <tr>\n",
       "      <th>14</th>\n",
       "      <td>India</td>\n",
       "      <td>Retail, wholesale and market</td>\n",
       "      <td>4191.568333</td>\n",
       "    </tr>\n",
       "    <tr>\n",
       "      <th>15</th>\n",
       "      <td>India</td>\n",
       "      <td>Transport</td>\n",
       "      <td>3374.885800</td>\n",
       "    </tr>\n",
       "    <tr>\n",
       "      <th>16</th>\n",
       "      <td>Nigeria</td>\n",
       "      <td>Farm</td>\n",
       "      <td>2334.163515</td>\n",
       "    </tr>\n",
       "    <tr>\n",
       "      <th>17</th>\n",
       "      <td>Nigeria</td>\n",
       "      <td>Retail, wholesale and market</td>\n",
       "      <td>2254.548333</td>\n",
       "    </tr>\n",
       "    <tr>\n",
       "      <th>18</th>\n",
       "      <td>Nigeria</td>\n",
       "      <td>Shelling and processing</td>\n",
       "      <td>0.000000</td>\n",
       "    </tr>\n",
       "    <tr>\n",
       "      <th>19</th>\n",
       "      <td>Nigeria</td>\n",
       "      <td>Transport</td>\n",
       "      <td>598.298485</td>\n",
       "    </tr>\n",
       "    <tr>\n",
       "      <th>20</th>\n",
       "      <td>Philippines</td>\n",
       "      <td>Farm</td>\n",
       "      <td>8521.349167</td>\n",
       "    </tr>\n",
       "    <tr>\n",
       "      <th>21</th>\n",
       "      <td>Philippines</td>\n",
       "      <td>Packing</td>\n",
       "      <td>96.366667</td>\n",
       "    </tr>\n",
       "    <tr>\n",
       "      <th>22</th>\n",
       "      <td>Philippines</td>\n",
       "      <td>Retail, wholesale and market</td>\n",
       "      <td>552.982222</td>\n",
       "    </tr>\n",
       "    <tr>\n",
       "      <th>23</th>\n",
       "      <td>Philippines</td>\n",
       "      <td>Transport</td>\n",
       "      <td>434.936667</td>\n",
       "    </tr>\n",
       "    <tr>\n",
       "      <th>24</th>\n",
       "      <td>United Kingdom of Great Britain and Northern I...</td>\n",
       "      <td>Farm</td>\n",
       "      <td>1757.127105</td>\n",
       "    </tr>\n",
       "    <tr>\n",
       "      <th>25</th>\n",
       "      <td>United Kingdom of Great Britain and Northern I...</td>\n",
       "      <td>Packing</td>\n",
       "      <td>487.965439</td>\n",
       "    </tr>\n",
       "    <tr>\n",
       "      <th>26</th>\n",
       "      <td>United Kingdom of Great Britain and Northern I...</td>\n",
       "      <td>Retail, wholesale and market</td>\n",
       "      <td>1332.632083</td>\n",
       "    </tr>\n",
       "    <tr>\n",
       "      <th>27</th>\n",
       "      <td>United Kingdom of Great Britain and Northern I...</td>\n",
       "      <td>Shelling and processing</td>\n",
       "      <td>1145.193333</td>\n",
       "    </tr>\n",
       "    <tr>\n",
       "      <th>28</th>\n",
       "      <td>United Republic of Tanzania</td>\n",
       "      <td>Farm</td>\n",
       "      <td>979.337836</td>\n",
       "    </tr>\n",
       "    <tr>\n",
       "      <th>29</th>\n",
       "      <td>United Republic of Tanzania</td>\n",
       "      <td>Packing</td>\n",
       "      <td>2.456667</td>\n",
       "    </tr>\n",
       "    <tr>\n",
       "      <th>30</th>\n",
       "      <td>United Republic of Tanzania</td>\n",
       "      <td>Retail, wholesale and market</td>\n",
       "      <td>637.218889</td>\n",
       "    </tr>\n",
       "    <tr>\n",
       "      <th>31</th>\n",
       "      <td>United Republic of Tanzania</td>\n",
       "      <td>Shelling and processing</td>\n",
       "      <td>0.000000</td>\n",
       "    </tr>\n",
       "    <tr>\n",
       "      <th>32</th>\n",
       "      <td>United Republic of Tanzania</td>\n",
       "      <td>Transport</td>\n",
       "      <td>78.104583</td>\n",
       "    </tr>\n",
       "    <tr>\n",
       "      <th>33</th>\n",
       "      <td>United States of America</td>\n",
       "      <td>Farm</td>\n",
       "      <td>17321.080000</td>\n",
       "    </tr>\n",
       "    <tr>\n",
       "      <th>34</th>\n",
       "      <td>United States of America</td>\n",
       "      <td>Retail, wholesale and market</td>\n",
       "      <td>11777.083876</td>\n",
       "    </tr>\n",
       "    <tr>\n",
       "      <th>35</th>\n",
       "      <td>United States of America</td>\n",
       "      <td>Shelling and processing</td>\n",
       "      <td>13530.740000</td>\n",
       "    </tr>\n",
       "  </tbody>\n",
       "</table>\n",
       "</div>"
      ],
      "text/plain": [
       "                                              country  \\\n",
       "0                                          Bangladesh   \n",
       "1                                          Bangladesh   \n",
       "2                                          Bangladesh   \n",
       "3                                          Bangladesh   \n",
       "4                                               China   \n",
       "5                                               China   \n",
       "6                                               China   \n",
       "7                                               China   \n",
       "8                                            Ethiopia   \n",
       "9                                            Ethiopia   \n",
       "10                                           Ethiopia   \n",
       "11                                           Ethiopia   \n",
       "12                                             Guinea   \n",
       "13                                              India   \n",
       "14                                              India   \n",
       "15                                              India   \n",
       "16                                            Nigeria   \n",
       "17                                            Nigeria   \n",
       "18                                            Nigeria   \n",
       "19                                            Nigeria   \n",
       "20                                        Philippines   \n",
       "21                                        Philippines   \n",
       "22                                        Philippines   \n",
       "23                                        Philippines   \n",
       "24  United Kingdom of Great Britain and Northern I...   \n",
       "25  United Kingdom of Great Britain and Northern I...   \n",
       "26  United Kingdom of Great Britain and Northern I...   \n",
       "27  United Kingdom of Great Britain and Northern I...   \n",
       "28                        United Republic of Tanzania   \n",
       "29                        United Republic of Tanzania   \n",
       "30                        United Republic of Tanzania   \n",
       "31                        United Republic of Tanzania   \n",
       "32                        United Republic of Tanzania   \n",
       "33                           United States of America   \n",
       "34                           United States of America   \n",
       "35                           United States of America   \n",
       "\n",
       "               food_supply_stage  quantity_emissions  \n",
       "0                           Farm         7168.969167  \n",
       "1   Retail, wholesale and market          158.069583  \n",
       "2        Shelling and processing            0.000000  \n",
       "3                      Transport          125.151111  \n",
       "4                           Farm        59752.211111  \n",
       "5                     Households        51311.720000  \n",
       "6   Retail, wholesale and market        13743.463333  \n",
       "7        Shelling and processing        43351.146667  \n",
       "8                           Farm          483.425025  \n",
       "9   Retail, wholesale and market           10.479333  \n",
       "10       Shelling and processing            0.000000  \n",
       "11                     Transport           74.812000  \n",
       "12                          Farm          951.962424  \n",
       "13                          Farm        41316.153416  \n",
       "14  Retail, wholesale and market         4191.568333  \n",
       "15                     Transport         3374.885800  \n",
       "16                          Farm         2334.163515  \n",
       "17  Retail, wholesale and market         2254.548333  \n",
       "18       Shelling and processing            0.000000  \n",
       "19                     Transport          598.298485  \n",
       "20                          Farm         8521.349167  \n",
       "21                       Packing           96.366667  \n",
       "22  Retail, wholesale and market          552.982222  \n",
       "23                     Transport          434.936667  \n",
       "24                          Farm         1757.127105  \n",
       "25                       Packing          487.965439  \n",
       "26  Retail, wholesale and market         1332.632083  \n",
       "27       Shelling and processing         1145.193333  \n",
       "28                          Farm          979.337836  \n",
       "29                       Packing            2.456667  \n",
       "30  Retail, wholesale and market          637.218889  \n",
       "31       Shelling and processing            0.000000  \n",
       "32                     Transport           78.104583  \n",
       "33                          Farm        17321.080000  \n",
       "34  Retail, wholesale and market        11777.083876  \n",
       "35       Shelling and processing        13530.740000  "
      ]
     },
     "execution_count": 32,
     "metadata": {},
     "output_type": "execute_result"
    }
   ],
   "source": [
    "top10_emissions_avg"
   ]
  },
  {
   "cell_type": "code",
   "execution_count": 33,
   "metadata": {},
   "outputs": [
    {
     "data": {
      "application/vnd.plotly.v1+json": {
       "config": {
        "plotlyServerURL": "https://plot.ly"
       },
       "data": [
        {
         "alignmentgroup": "True",
         "hovertemplate": "food_supply_stage=Farm<br>country=%{x}<br>quantity_emissions=%{y}<extra></extra>",
         "legendgroup": "Farm",
         "marker": {
          "color": "#636efa",
          "pattern": {
           "shape": ""
          }
         },
         "name": "Farm",
         "offsetgroup": "Farm",
         "orientation": "v",
         "showlegend": true,
         "textposition": "auto",
         "type": "bar",
         "x": [
          "Bangladesh",
          "China",
          "Ethiopia",
          "Guinea",
          "India",
          "Nigeria",
          "Philippines",
          "United Kingdom of Great Britain and Northern Ireland",
          "United Republic of Tanzania",
          "United States of America"
         ],
         "xaxis": "x",
         "y": [
          7168.969166666667,
          59752.211111111115,
          483.42502487562183,
          951.9624242424242,
          41316.153415637855,
          2334.163515151515,
          8521.349166666667,
          1757.127105263158,
          979.3378362573098,
          17321.079999999998
         ],
         "yaxis": "y"
        },
        {
         "alignmentgroup": "True",
         "hovertemplate": "food_supply_stage=Retail, wholesale and market<br>country=%{x}<br>quantity_emissions=%{y}<extra></extra>",
         "legendgroup": "Retail, wholesale and market",
         "marker": {
          "color": "#EF553B",
          "pattern": {
           "shape": ""
          }
         },
         "name": "Retail, wholesale and market",
         "offsetgroup": "Retail, wholesale and market",
         "orientation": "v",
         "showlegend": true,
         "textposition": "auto",
         "type": "bar",
         "x": [
          "Bangladesh",
          "China",
          "Ethiopia",
          "India",
          "Nigeria",
          "Philippines",
          "United Kingdom of Great Britain and Northern Ireland",
          "United Republic of Tanzania",
          "United States of America"
         ],
         "xaxis": "x",
         "y": [
          158.06958333333333,
          13743.463333333333,
          10.479333333333333,
          4191.568333333333,
          2254.548333333333,
          552.9822222222223,
          1332.6320833333332,
          637.218888888889,
          11777.083875968992
         ],
         "yaxis": "y"
        },
        {
         "alignmentgroup": "True",
         "hovertemplate": "food_supply_stage=Shelling and processing<br>country=%{x}<br>quantity_emissions=%{y}<extra></extra>",
         "legendgroup": "Shelling and processing",
         "marker": {
          "color": "#00cc96",
          "pattern": {
           "shape": ""
          }
         },
         "name": "Shelling and processing",
         "offsetgroup": "Shelling and processing",
         "orientation": "v",
         "showlegend": true,
         "textposition": "auto",
         "type": "bar",
         "x": [
          "Bangladesh",
          "China",
          "Ethiopia",
          "Nigeria",
          "United Kingdom of Great Britain and Northern Ireland",
          "United Republic of Tanzania",
          "United States of America"
         ],
         "xaxis": "x",
         "y": [
          0,
          43351.14666666666,
          0,
          0,
          1145.1933333333334,
          0,
          13530.74
         ],
         "yaxis": "y"
        },
        {
         "alignmentgroup": "True",
         "hovertemplate": "food_supply_stage=Transport<br>country=%{x}<br>quantity_emissions=%{y}<extra></extra>",
         "legendgroup": "Transport",
         "marker": {
          "color": "#ab63fa",
          "pattern": {
           "shape": ""
          }
         },
         "name": "Transport",
         "offsetgroup": "Transport",
         "orientation": "v",
         "showlegend": true,
         "textposition": "auto",
         "type": "bar",
         "x": [
          "Bangladesh",
          "Ethiopia",
          "India",
          "Nigeria",
          "Philippines",
          "United Republic of Tanzania"
         ],
         "xaxis": "x",
         "y": [
          125.1511111111111,
          74.812,
          3374.8858,
          598.2984848484849,
          434.93666666666667,
          78.10458333333334
         ],
         "yaxis": "y"
        },
        {
         "alignmentgroup": "True",
         "hovertemplate": "food_supply_stage=Households<br>country=%{x}<br>quantity_emissions=%{y}<extra></extra>",
         "legendgroup": "Households",
         "marker": {
          "color": "#FFA15A",
          "pattern": {
           "shape": ""
          }
         },
         "name": "Households",
         "offsetgroup": "Households",
         "orientation": "v",
         "showlegend": true,
         "textposition": "auto",
         "type": "bar",
         "x": [
          "China"
         ],
         "xaxis": "x",
         "y": [
          51311.72
         ],
         "yaxis": "y"
        },
        {
         "alignmentgroup": "True",
         "hovertemplate": "food_supply_stage=Packing<br>country=%{x}<br>quantity_emissions=%{y}<extra></extra>",
         "legendgroup": "Packing",
         "marker": {
          "color": "#19d3f3",
          "pattern": {
           "shape": ""
          }
         },
         "name": "Packing",
         "offsetgroup": "Packing",
         "orientation": "v",
         "showlegend": true,
         "textposition": "auto",
         "type": "bar",
         "x": [
          "Philippines",
          "United Kingdom of Great Britain and Northern Ireland",
          "United Republic of Tanzania"
         ],
         "xaxis": "x",
         "y": [
          96.36666666666666,
          487.96543859649125,
          2.4566666666666666
         ],
         "yaxis": "y"
        }
       ],
       "layout": {
        "barmode": "relative",
        "legend": {
         "title": {
          "text": "food_supply_stage"
         },
         "tracegroupgap": 0
        },
        "template": {
         "data": {
          "bar": [
           {
            "error_x": {
             "color": "#2a3f5f"
            },
            "error_y": {
             "color": "#2a3f5f"
            },
            "marker": {
             "line": {
              "color": "#E5ECF6",
              "width": 0.5
             },
             "pattern": {
              "fillmode": "overlay",
              "size": 10,
              "solidity": 0.2
             }
            },
            "type": "bar"
           }
          ],
          "barpolar": [
           {
            "marker": {
             "line": {
              "color": "#E5ECF6",
              "width": 0.5
             },
             "pattern": {
              "fillmode": "overlay",
              "size": 10,
              "solidity": 0.2
             }
            },
            "type": "barpolar"
           }
          ],
          "carpet": [
           {
            "aaxis": {
             "endlinecolor": "#2a3f5f",
             "gridcolor": "white",
             "linecolor": "white",
             "minorgridcolor": "white",
             "startlinecolor": "#2a3f5f"
            },
            "baxis": {
             "endlinecolor": "#2a3f5f",
             "gridcolor": "white",
             "linecolor": "white",
             "minorgridcolor": "white",
             "startlinecolor": "#2a3f5f"
            },
            "type": "carpet"
           }
          ],
          "choropleth": [
           {
            "colorbar": {
             "outlinewidth": 0,
             "ticks": ""
            },
            "type": "choropleth"
           }
          ],
          "contour": [
           {
            "colorbar": {
             "outlinewidth": 0,
             "ticks": ""
            },
            "colorscale": [
             [
              0,
              "#0d0887"
             ],
             [
              0.1111111111111111,
              "#46039f"
             ],
             [
              0.2222222222222222,
              "#7201a8"
             ],
             [
              0.3333333333333333,
              "#9c179e"
             ],
             [
              0.4444444444444444,
              "#bd3786"
             ],
             [
              0.5555555555555556,
              "#d8576b"
             ],
             [
              0.6666666666666666,
              "#ed7953"
             ],
             [
              0.7777777777777778,
              "#fb9f3a"
             ],
             [
              0.8888888888888888,
              "#fdca26"
             ],
             [
              1,
              "#f0f921"
             ]
            ],
            "type": "contour"
           }
          ],
          "contourcarpet": [
           {
            "colorbar": {
             "outlinewidth": 0,
             "ticks": ""
            },
            "type": "contourcarpet"
           }
          ],
          "heatmap": [
           {
            "colorbar": {
             "outlinewidth": 0,
             "ticks": ""
            },
            "colorscale": [
             [
              0,
              "#0d0887"
             ],
             [
              0.1111111111111111,
              "#46039f"
             ],
             [
              0.2222222222222222,
              "#7201a8"
             ],
             [
              0.3333333333333333,
              "#9c179e"
             ],
             [
              0.4444444444444444,
              "#bd3786"
             ],
             [
              0.5555555555555556,
              "#d8576b"
             ],
             [
              0.6666666666666666,
              "#ed7953"
             ],
             [
              0.7777777777777778,
              "#fb9f3a"
             ],
             [
              0.8888888888888888,
              "#fdca26"
             ],
             [
              1,
              "#f0f921"
             ]
            ],
            "type": "heatmap"
           }
          ],
          "heatmapgl": [
           {
            "colorbar": {
             "outlinewidth": 0,
             "ticks": ""
            },
            "colorscale": [
             [
              0,
              "#0d0887"
             ],
             [
              0.1111111111111111,
              "#46039f"
             ],
             [
              0.2222222222222222,
              "#7201a8"
             ],
             [
              0.3333333333333333,
              "#9c179e"
             ],
             [
              0.4444444444444444,
              "#bd3786"
             ],
             [
              0.5555555555555556,
              "#d8576b"
             ],
             [
              0.6666666666666666,
              "#ed7953"
             ],
             [
              0.7777777777777778,
              "#fb9f3a"
             ],
             [
              0.8888888888888888,
              "#fdca26"
             ],
             [
              1,
              "#f0f921"
             ]
            ],
            "type": "heatmapgl"
           }
          ],
          "histogram": [
           {
            "marker": {
             "pattern": {
              "fillmode": "overlay",
              "size": 10,
              "solidity": 0.2
             }
            },
            "type": "histogram"
           }
          ],
          "histogram2d": [
           {
            "colorbar": {
             "outlinewidth": 0,
             "ticks": ""
            },
            "colorscale": [
             [
              0,
              "#0d0887"
             ],
             [
              0.1111111111111111,
              "#46039f"
             ],
             [
              0.2222222222222222,
              "#7201a8"
             ],
             [
              0.3333333333333333,
              "#9c179e"
             ],
             [
              0.4444444444444444,
              "#bd3786"
             ],
             [
              0.5555555555555556,
              "#d8576b"
             ],
             [
              0.6666666666666666,
              "#ed7953"
             ],
             [
              0.7777777777777778,
              "#fb9f3a"
             ],
             [
              0.8888888888888888,
              "#fdca26"
             ],
             [
              1,
              "#f0f921"
             ]
            ],
            "type": "histogram2d"
           }
          ],
          "histogram2dcontour": [
           {
            "colorbar": {
             "outlinewidth": 0,
             "ticks": ""
            },
            "colorscale": [
             [
              0,
              "#0d0887"
             ],
             [
              0.1111111111111111,
              "#46039f"
             ],
             [
              0.2222222222222222,
              "#7201a8"
             ],
             [
              0.3333333333333333,
              "#9c179e"
             ],
             [
              0.4444444444444444,
              "#bd3786"
             ],
             [
              0.5555555555555556,
              "#d8576b"
             ],
             [
              0.6666666666666666,
              "#ed7953"
             ],
             [
              0.7777777777777778,
              "#fb9f3a"
             ],
             [
              0.8888888888888888,
              "#fdca26"
             ],
             [
              1,
              "#f0f921"
             ]
            ],
            "type": "histogram2dcontour"
           }
          ],
          "mesh3d": [
           {
            "colorbar": {
             "outlinewidth": 0,
             "ticks": ""
            },
            "type": "mesh3d"
           }
          ],
          "parcoords": [
           {
            "line": {
             "colorbar": {
              "outlinewidth": 0,
              "ticks": ""
             }
            },
            "type": "parcoords"
           }
          ],
          "pie": [
           {
            "automargin": true,
            "type": "pie"
           }
          ],
          "scatter": [
           {
            "fillpattern": {
             "fillmode": "overlay",
             "size": 10,
             "solidity": 0.2
            },
            "type": "scatter"
           }
          ],
          "scatter3d": [
           {
            "line": {
             "colorbar": {
              "outlinewidth": 0,
              "ticks": ""
             }
            },
            "marker": {
             "colorbar": {
              "outlinewidth": 0,
              "ticks": ""
             }
            },
            "type": "scatter3d"
           }
          ],
          "scattercarpet": [
           {
            "marker": {
             "colorbar": {
              "outlinewidth": 0,
              "ticks": ""
             }
            },
            "type": "scattercarpet"
           }
          ],
          "scattergeo": [
           {
            "marker": {
             "colorbar": {
              "outlinewidth": 0,
              "ticks": ""
             }
            },
            "type": "scattergeo"
           }
          ],
          "scattergl": [
           {
            "marker": {
             "colorbar": {
              "outlinewidth": 0,
              "ticks": ""
             }
            },
            "type": "scattergl"
           }
          ],
          "scattermapbox": [
           {
            "marker": {
             "colorbar": {
              "outlinewidth": 0,
              "ticks": ""
             }
            },
            "type": "scattermapbox"
           }
          ],
          "scatterpolar": [
           {
            "marker": {
             "colorbar": {
              "outlinewidth": 0,
              "ticks": ""
             }
            },
            "type": "scatterpolar"
           }
          ],
          "scatterpolargl": [
           {
            "marker": {
             "colorbar": {
              "outlinewidth": 0,
              "ticks": ""
             }
            },
            "type": "scatterpolargl"
           }
          ],
          "scatterternary": [
           {
            "marker": {
             "colorbar": {
              "outlinewidth": 0,
              "ticks": ""
             }
            },
            "type": "scatterternary"
           }
          ],
          "surface": [
           {
            "colorbar": {
             "outlinewidth": 0,
             "ticks": ""
            },
            "colorscale": [
             [
              0,
              "#0d0887"
             ],
             [
              0.1111111111111111,
              "#46039f"
             ],
             [
              0.2222222222222222,
              "#7201a8"
             ],
             [
              0.3333333333333333,
              "#9c179e"
             ],
             [
              0.4444444444444444,
              "#bd3786"
             ],
             [
              0.5555555555555556,
              "#d8576b"
             ],
             [
              0.6666666666666666,
              "#ed7953"
             ],
             [
              0.7777777777777778,
              "#fb9f3a"
             ],
             [
              0.8888888888888888,
              "#fdca26"
             ],
             [
              1,
              "#f0f921"
             ]
            ],
            "type": "surface"
           }
          ],
          "table": [
           {
            "cells": {
             "fill": {
              "color": "#EBF0F8"
             },
             "line": {
              "color": "white"
             }
            },
            "header": {
             "fill": {
              "color": "#C8D4E3"
             },
             "line": {
              "color": "white"
             }
            },
            "type": "table"
           }
          ]
         },
         "layout": {
          "annotationdefaults": {
           "arrowcolor": "#2a3f5f",
           "arrowhead": 0,
           "arrowwidth": 1
          },
          "autotypenumbers": "strict",
          "coloraxis": {
           "colorbar": {
            "outlinewidth": 0,
            "ticks": ""
           }
          },
          "colorscale": {
           "diverging": [
            [
             0,
             "#8e0152"
            ],
            [
             0.1,
             "#c51b7d"
            ],
            [
             0.2,
             "#de77ae"
            ],
            [
             0.3,
             "#f1b6da"
            ],
            [
             0.4,
             "#fde0ef"
            ],
            [
             0.5,
             "#f7f7f7"
            ],
            [
             0.6,
             "#e6f5d0"
            ],
            [
             0.7,
             "#b8e186"
            ],
            [
             0.8,
             "#7fbc41"
            ],
            [
             0.9,
             "#4d9221"
            ],
            [
             1,
             "#276419"
            ]
           ],
           "sequential": [
            [
             0,
             "#0d0887"
            ],
            [
             0.1111111111111111,
             "#46039f"
            ],
            [
             0.2222222222222222,
             "#7201a8"
            ],
            [
             0.3333333333333333,
             "#9c179e"
            ],
            [
             0.4444444444444444,
             "#bd3786"
            ],
            [
             0.5555555555555556,
             "#d8576b"
            ],
            [
             0.6666666666666666,
             "#ed7953"
            ],
            [
             0.7777777777777778,
             "#fb9f3a"
            ],
            [
             0.8888888888888888,
             "#fdca26"
            ],
            [
             1,
             "#f0f921"
            ]
           ],
           "sequentialminus": [
            [
             0,
             "#0d0887"
            ],
            [
             0.1111111111111111,
             "#46039f"
            ],
            [
             0.2222222222222222,
             "#7201a8"
            ],
            [
             0.3333333333333333,
             "#9c179e"
            ],
            [
             0.4444444444444444,
             "#bd3786"
            ],
            [
             0.5555555555555556,
             "#d8576b"
            ],
            [
             0.6666666666666666,
             "#ed7953"
            ],
            [
             0.7777777777777778,
             "#fb9f3a"
            ],
            [
             0.8888888888888888,
             "#fdca26"
            ],
            [
             1,
             "#f0f921"
            ]
           ]
          },
          "colorway": [
           "#636efa",
           "#EF553B",
           "#00cc96",
           "#ab63fa",
           "#FFA15A",
           "#19d3f3",
           "#FF6692",
           "#B6E880",
           "#FF97FF",
           "#FECB52"
          ],
          "font": {
           "color": "#2a3f5f"
          },
          "geo": {
           "bgcolor": "white",
           "lakecolor": "white",
           "landcolor": "#E5ECF6",
           "showlakes": true,
           "showland": true,
           "subunitcolor": "white"
          },
          "hoverlabel": {
           "align": "left"
          },
          "hovermode": "closest",
          "mapbox": {
           "style": "light"
          },
          "paper_bgcolor": "white",
          "plot_bgcolor": "#E5ECF6",
          "polar": {
           "angularaxis": {
            "gridcolor": "white",
            "linecolor": "white",
            "ticks": ""
           },
           "bgcolor": "#E5ECF6",
           "radialaxis": {
            "gridcolor": "white",
            "linecolor": "white",
            "ticks": ""
           }
          },
          "scene": {
           "xaxis": {
            "backgroundcolor": "#E5ECF6",
            "gridcolor": "white",
            "gridwidth": 2,
            "linecolor": "white",
            "showbackground": true,
            "ticks": "",
            "zerolinecolor": "white"
           },
           "yaxis": {
            "backgroundcolor": "#E5ECF6",
            "gridcolor": "white",
            "gridwidth": 2,
            "linecolor": "white",
            "showbackground": true,
            "ticks": "",
            "zerolinecolor": "white"
           },
           "zaxis": {
            "backgroundcolor": "#E5ECF6",
            "gridcolor": "white",
            "gridwidth": 2,
            "linecolor": "white",
            "showbackground": true,
            "ticks": "",
            "zerolinecolor": "white"
           }
          },
          "shapedefaults": {
           "line": {
            "color": "#2a3f5f"
           }
          },
          "ternary": {
           "aaxis": {
            "gridcolor": "white",
            "linecolor": "white",
            "ticks": ""
           },
           "baxis": {
            "gridcolor": "white",
            "linecolor": "white",
            "ticks": ""
           },
           "bgcolor": "#E5ECF6",
           "caxis": {
            "gridcolor": "white",
            "linecolor": "white",
            "ticks": ""
           }
          },
          "title": {
           "x": 0.05
          },
          "xaxis": {
           "automargin": true,
           "gridcolor": "white",
           "linecolor": "white",
           "ticks": "",
           "title": {
            "standoff": 15
           },
           "zerolinecolor": "white",
           "zerolinewidth": 2
          },
          "yaxis": {
           "automargin": true,
           "gridcolor": "white",
           "linecolor": "white",
           "ticks": "",
           "title": {
            "standoff": 15
           },
           "zerolinecolor": "white",
           "zerolinewidth": 2
          }
         }
        },
        "title": {
         "text": "Average emissions for each country and food_supply_stage for the top10 countries with most emissions"
        },
        "xaxis": {
         "anchor": "y",
         "domain": [
          0,
          1
         ],
         "title": {
          "text": "country"
         }
        },
        "yaxis": {
         "anchor": "x",
         "domain": [
          0,
          1
         ],
         "title": {
          "text": "quantity_emissions"
         }
        }
       }
      }
     },
     "metadata": {},
     "output_type": "display_data"
    }
   ],
   "source": [
    "#Now can you do a plotly bar chart of the top10_emissions_avg\n",
    "import plotly.express as px\n",
    "\n",
    "fig = px.bar(top10_emissions_avg, x='country', y='quantity_emissions', color='food_supply_stage', title='Average emissions for each country and food_supply_stage for the top10 countries with most emissions')\n",
    "fig.show()"
   ]
  },
  {
   "cell_type": "code",
   "execution_count": 14,
   "metadata": {},
   "outputs": [],
   "source": [
    "#from top10_emissions_stage_max_element i would like to know the element and the food_supply_stage with the most quantity_emissions for each country\n",
    "top10_emissions_stage_max_element_max = top10_emissions_stage_max_element.loc[top10_emissions_stage_max_element.groupby('country')['quantity_emissions'].idxmax()]"
   ]
  },
  {
   "cell_type": "code",
   "execution_count": 15,
   "metadata": {},
   "outputs": [
    {
     "data": {
      "text/html": [
       "<div>\n",
       "<style scoped>\n",
       "    .dataframe tbody tr th:only-of-type {\n",
       "        vertical-align: middle;\n",
       "    }\n",
       "\n",
       "    .dataframe tbody tr th {\n",
       "        vertical-align: top;\n",
       "    }\n",
       "\n",
       "    .dataframe thead th {\n",
       "        text-align: right;\n",
       "    }\n",
       "</style>\n",
       "<table border=\"1\" class=\"dataframe\">\n",
       "  <thead>\n",
       "    <tr style=\"text-align: right;\">\n",
       "      <th></th>\n",
       "      <th>country</th>\n",
       "      <th>food_supply_stage</th>\n",
       "      <th>element</th>\n",
       "      <th>quantity_emissions</th>\n",
       "    </tr>\n",
       "  </thead>\n",
       "  <tbody>\n",
       "    <tr>\n",
       "      <th>0</th>\n",
       "      <td>Bangladesh</td>\n",
       "      <td>Farm</td>\n",
       "      <td>Carbon Dioxide (CO2)</td>\n",
       "      <td>585702.62</td>\n",
       "    </tr>\n",
       "    <tr>\n",
       "      <th>12</th>\n",
       "      <td>China</td>\n",
       "      <td>Farm</td>\n",
       "      <td>Carbon Dioxide (CO2)</td>\n",
       "      <td>1057404.37</td>\n",
       "    </tr>\n",
       "    <tr>\n",
       "      <th>24</th>\n",
       "      <td>Ethiopia</td>\n",
       "      <td>Farm</td>\n",
       "      <td>Carbon Dioxide (CO2)</td>\n",
       "      <td>193288.40</td>\n",
       "    </tr>\n",
       "    <tr>\n",
       "      <th>36</th>\n",
       "      <td>Guinea</td>\n",
       "      <td>Farm</td>\n",
       "      <td>Carbon Dioxide (CO2)</td>\n",
       "      <td>243106.80</td>\n",
       "    </tr>\n",
       "    <tr>\n",
       "      <th>39</th>\n",
       "      <td>India</td>\n",
       "      <td>Farm</td>\n",
       "      <td>Carbon Dioxide (CO2)</td>\n",
       "      <td>19676132.61</td>\n",
       "    </tr>\n",
       "    <tr>\n",
       "      <th>48</th>\n",
       "      <td>Nigeria</td>\n",
       "      <td>Farm</td>\n",
       "      <td>Carbon Dioxide (CO2)</td>\n",
       "      <td>749686.95</td>\n",
       "    </tr>\n",
       "    <tr>\n",
       "      <th>60</th>\n",
       "      <td>Philippines</td>\n",
       "      <td>Farm</td>\n",
       "      <td>Carbon Dioxide (CO2)</td>\n",
       "      <td>198060.20</td>\n",
       "    </tr>\n",
       "    <tr>\n",
       "      <th>72</th>\n",
       "      <td>United Kingdom of Great Britain and Northern I...</td>\n",
       "      <td>Farm</td>\n",
       "      <td>Carbon Dioxide (CO2)</td>\n",
       "      <td>133098.02</td>\n",
       "    </tr>\n",
       "    <tr>\n",
       "      <th>83</th>\n",
       "      <td>United Republic of Tanzania</td>\n",
       "      <td>Farm</td>\n",
       "      <td>Carbon Dioxide (CO2)</td>\n",
       "      <td>325569.58</td>\n",
       "    </tr>\n",
       "    <tr>\n",
       "      <th>101</th>\n",
       "      <td>United States of America</td>\n",
       "      <td>Retail, wholesale and market</td>\n",
       "      <td>Carbon Dioxide (CO2)</td>\n",
       "      <td>1519183.38</td>\n",
       "    </tr>\n",
       "  </tbody>\n",
       "</table>\n",
       "</div>"
      ],
      "text/plain": [
       "                                               country  \\\n",
       "0                                           Bangladesh   \n",
       "12                                               China   \n",
       "24                                            Ethiopia   \n",
       "36                                              Guinea   \n",
       "39                                               India   \n",
       "48                                             Nigeria   \n",
       "60                                         Philippines   \n",
       "72   United Kingdom of Great Britain and Northern I...   \n",
       "83                         United Republic of Tanzania   \n",
       "101                           United States of America   \n",
       "\n",
       "                food_supply_stage               element  quantity_emissions  \n",
       "0                            Farm  Carbon Dioxide (CO2)           585702.62  \n",
       "12                           Farm  Carbon Dioxide (CO2)          1057404.37  \n",
       "24                           Farm  Carbon Dioxide (CO2)           193288.40  \n",
       "36                           Farm  Carbon Dioxide (CO2)           243106.80  \n",
       "39                           Farm  Carbon Dioxide (CO2)         19676132.61  \n",
       "48                           Farm  Carbon Dioxide (CO2)           749686.95  \n",
       "60                           Farm  Carbon Dioxide (CO2)           198060.20  \n",
       "72                           Farm  Carbon Dioxide (CO2)           133098.02  \n",
       "83                           Farm  Carbon Dioxide (CO2)           325569.58  \n",
       "101  Retail, wholesale and market  Carbon Dioxide (CO2)          1519183.38  "
      ]
     },
     "execution_count": 15,
     "metadata": {},
     "output_type": "execute_result"
    }
   ],
   "source": [
    "top10_emissions_stage_max_element_max"
   ]
  },
  {
   "cell_type": "code",
   "execution_count": 16,
   "metadata": {},
   "outputs": [],
   "source": [
    "# in top10_emissions_stage_max_element_max i would like to change the countries name United Republic of Tanzania to Tanzania and United States of America to USA and United Kingdom of Great Britain and Northern Ireland to UK\n",
    "top10_emissions_stage_max_element_max['country'] = top10_emissions_stage_max_element_max['country'].replace({'United Republic of Tanzania':'Tanzania', 'United States of America':'USA', 'United Kingdom of Great Britain and Northern Ireland':'UK'})"
   ]
  },
  {
   "cell_type": "code",
   "execution_count": 24,
   "metadata": {},
   "outputs": [
    {
     "data": {
      "application/vnd.plotly.v1+json": {
       "config": {
        "plotlyServerURL": "https://plot.ly"
       },
       "data": [
        {
         "alignmentgroup": "True",
         "hovertemplate": "food_supply_stage=Farm<br>country=%{x}<br>quantity_emissions=%{y}<br>quantity_emissions_rounded=%{text}<extra></extra>",
         "legendgroup": "Farm",
         "marker": {
          "color": "#636efa",
          "pattern": {
           "shape": ""
          }
         },
         "name": "Farm",
         "offsetgroup": "Farm",
         "orientation": "v",
         "showlegend": true,
         "text": [
          585702.6,
          1057404.4,
          193288.4,
          243106.8,
          19676132.6,
          749687,
          198060.2,
          133098,
          325569.6
         ],
         "textposition": "outside",
         "type": "bar",
         "x": [
          "Bangladesh",
          "China",
          "Ethiopia",
          "Guinea",
          "India",
          "Nigeria",
          "Philippines",
          "UK",
          "Tanzania"
         ],
         "xaxis": "x",
         "y": [
          585702.62,
          1057404.37,
          193288.4,
          243106.8,
          19676132.61,
          749686.95,
          198060.19999999998,
          133098.02,
          325569.58
         ],
         "yaxis": "y"
        },
        {
         "alignmentgroup": "True",
         "hovertemplate": "food_supply_stage=Retail, wholesale and market<br>country=%{x}<br>quantity_emissions=%{y}<br>quantity_emissions_rounded=%{text}<extra></extra>",
         "legendgroup": "Retail, wholesale and market",
         "marker": {
          "color": "#EF553B",
          "pattern": {
           "shape": ""
          }
         },
         "name": "Retail, wholesale and market",
         "offsetgroup": "Retail, wholesale and market",
         "orientation": "v",
         "showlegend": true,
         "text": [
          1519183.4
         ],
         "textposition": "outside",
         "type": "bar",
         "x": [
          "USA"
         ],
         "xaxis": "x",
         "y": [
          1519183.3800000001
         ],
         "yaxis": "y"
        }
       ],
       "layout": {
        "barmode": "relative",
        "legend": {
         "title": {
          "text": "food_supply_stage"
         },
         "tracegroupgap": 0
        },
        "margin": {
         "t": 60
        },
        "template": {
         "data": {
          "bar": [
           {
            "error_x": {
             "color": "#2a3f5f"
            },
            "error_y": {
             "color": "#2a3f5f"
            },
            "marker": {
             "line": {
              "color": "#E5ECF6",
              "width": 0.5
             },
             "pattern": {
              "fillmode": "overlay",
              "size": 10,
              "solidity": 0.2
             }
            },
            "type": "bar"
           }
          ],
          "barpolar": [
           {
            "marker": {
             "line": {
              "color": "#E5ECF6",
              "width": 0.5
             },
             "pattern": {
              "fillmode": "overlay",
              "size": 10,
              "solidity": 0.2
             }
            },
            "type": "barpolar"
           }
          ],
          "carpet": [
           {
            "aaxis": {
             "endlinecolor": "#2a3f5f",
             "gridcolor": "white",
             "linecolor": "white",
             "minorgridcolor": "white",
             "startlinecolor": "#2a3f5f"
            },
            "baxis": {
             "endlinecolor": "#2a3f5f",
             "gridcolor": "white",
             "linecolor": "white",
             "minorgridcolor": "white",
             "startlinecolor": "#2a3f5f"
            },
            "type": "carpet"
           }
          ],
          "choropleth": [
           {
            "colorbar": {
             "outlinewidth": 0,
             "ticks": ""
            },
            "type": "choropleth"
           }
          ],
          "contour": [
           {
            "colorbar": {
             "outlinewidth": 0,
             "ticks": ""
            },
            "colorscale": [
             [
              0,
              "#0d0887"
             ],
             [
              0.1111111111111111,
              "#46039f"
             ],
             [
              0.2222222222222222,
              "#7201a8"
             ],
             [
              0.3333333333333333,
              "#9c179e"
             ],
             [
              0.4444444444444444,
              "#bd3786"
             ],
             [
              0.5555555555555556,
              "#d8576b"
             ],
             [
              0.6666666666666666,
              "#ed7953"
             ],
             [
              0.7777777777777778,
              "#fb9f3a"
             ],
             [
              0.8888888888888888,
              "#fdca26"
             ],
             [
              1,
              "#f0f921"
             ]
            ],
            "type": "contour"
           }
          ],
          "contourcarpet": [
           {
            "colorbar": {
             "outlinewidth": 0,
             "ticks": ""
            },
            "type": "contourcarpet"
           }
          ],
          "heatmap": [
           {
            "colorbar": {
             "outlinewidth": 0,
             "ticks": ""
            },
            "colorscale": [
             [
              0,
              "#0d0887"
             ],
             [
              0.1111111111111111,
              "#46039f"
             ],
             [
              0.2222222222222222,
              "#7201a8"
             ],
             [
              0.3333333333333333,
              "#9c179e"
             ],
             [
              0.4444444444444444,
              "#bd3786"
             ],
             [
              0.5555555555555556,
              "#d8576b"
             ],
             [
              0.6666666666666666,
              "#ed7953"
             ],
             [
              0.7777777777777778,
              "#fb9f3a"
             ],
             [
              0.8888888888888888,
              "#fdca26"
             ],
             [
              1,
              "#f0f921"
             ]
            ],
            "type": "heatmap"
           }
          ],
          "heatmapgl": [
           {
            "colorbar": {
             "outlinewidth": 0,
             "ticks": ""
            },
            "colorscale": [
             [
              0,
              "#0d0887"
             ],
             [
              0.1111111111111111,
              "#46039f"
             ],
             [
              0.2222222222222222,
              "#7201a8"
             ],
             [
              0.3333333333333333,
              "#9c179e"
             ],
             [
              0.4444444444444444,
              "#bd3786"
             ],
             [
              0.5555555555555556,
              "#d8576b"
             ],
             [
              0.6666666666666666,
              "#ed7953"
             ],
             [
              0.7777777777777778,
              "#fb9f3a"
             ],
             [
              0.8888888888888888,
              "#fdca26"
             ],
             [
              1,
              "#f0f921"
             ]
            ],
            "type": "heatmapgl"
           }
          ],
          "histogram": [
           {
            "marker": {
             "pattern": {
              "fillmode": "overlay",
              "size": 10,
              "solidity": 0.2
             }
            },
            "type": "histogram"
           }
          ],
          "histogram2d": [
           {
            "colorbar": {
             "outlinewidth": 0,
             "ticks": ""
            },
            "colorscale": [
             [
              0,
              "#0d0887"
             ],
             [
              0.1111111111111111,
              "#46039f"
             ],
             [
              0.2222222222222222,
              "#7201a8"
             ],
             [
              0.3333333333333333,
              "#9c179e"
             ],
             [
              0.4444444444444444,
              "#bd3786"
             ],
             [
              0.5555555555555556,
              "#d8576b"
             ],
             [
              0.6666666666666666,
              "#ed7953"
             ],
             [
              0.7777777777777778,
              "#fb9f3a"
             ],
             [
              0.8888888888888888,
              "#fdca26"
             ],
             [
              1,
              "#f0f921"
             ]
            ],
            "type": "histogram2d"
           }
          ],
          "histogram2dcontour": [
           {
            "colorbar": {
             "outlinewidth": 0,
             "ticks": ""
            },
            "colorscale": [
             [
              0,
              "#0d0887"
             ],
             [
              0.1111111111111111,
              "#46039f"
             ],
             [
              0.2222222222222222,
              "#7201a8"
             ],
             [
              0.3333333333333333,
              "#9c179e"
             ],
             [
              0.4444444444444444,
              "#bd3786"
             ],
             [
              0.5555555555555556,
              "#d8576b"
             ],
             [
              0.6666666666666666,
              "#ed7953"
             ],
             [
              0.7777777777777778,
              "#fb9f3a"
             ],
             [
              0.8888888888888888,
              "#fdca26"
             ],
             [
              1,
              "#f0f921"
             ]
            ],
            "type": "histogram2dcontour"
           }
          ],
          "mesh3d": [
           {
            "colorbar": {
             "outlinewidth": 0,
             "ticks": ""
            },
            "type": "mesh3d"
           }
          ],
          "parcoords": [
           {
            "line": {
             "colorbar": {
              "outlinewidth": 0,
              "ticks": ""
             }
            },
            "type": "parcoords"
           }
          ],
          "pie": [
           {
            "automargin": true,
            "type": "pie"
           }
          ],
          "scatter": [
           {
            "fillpattern": {
             "fillmode": "overlay",
             "size": 10,
             "solidity": 0.2
            },
            "type": "scatter"
           }
          ],
          "scatter3d": [
           {
            "line": {
             "colorbar": {
              "outlinewidth": 0,
              "ticks": ""
             }
            },
            "marker": {
             "colorbar": {
              "outlinewidth": 0,
              "ticks": ""
             }
            },
            "type": "scatter3d"
           }
          ],
          "scattercarpet": [
           {
            "marker": {
             "colorbar": {
              "outlinewidth": 0,
              "ticks": ""
             }
            },
            "type": "scattercarpet"
           }
          ],
          "scattergeo": [
           {
            "marker": {
             "colorbar": {
              "outlinewidth": 0,
              "ticks": ""
             }
            },
            "type": "scattergeo"
           }
          ],
          "scattergl": [
           {
            "marker": {
             "colorbar": {
              "outlinewidth": 0,
              "ticks": ""
             }
            },
            "type": "scattergl"
           }
          ],
          "scattermapbox": [
           {
            "marker": {
             "colorbar": {
              "outlinewidth": 0,
              "ticks": ""
             }
            },
            "type": "scattermapbox"
           }
          ],
          "scatterpolar": [
           {
            "marker": {
             "colorbar": {
              "outlinewidth": 0,
              "ticks": ""
             }
            },
            "type": "scatterpolar"
           }
          ],
          "scatterpolargl": [
           {
            "marker": {
             "colorbar": {
              "outlinewidth": 0,
              "ticks": ""
             }
            },
            "type": "scatterpolargl"
           }
          ],
          "scatterternary": [
           {
            "marker": {
             "colorbar": {
              "outlinewidth": 0,
              "ticks": ""
             }
            },
            "type": "scatterternary"
           }
          ],
          "surface": [
           {
            "colorbar": {
             "outlinewidth": 0,
             "ticks": ""
            },
            "colorscale": [
             [
              0,
              "#0d0887"
             ],
             [
              0.1111111111111111,
              "#46039f"
             ],
             [
              0.2222222222222222,
              "#7201a8"
             ],
             [
              0.3333333333333333,
              "#9c179e"
             ],
             [
              0.4444444444444444,
              "#bd3786"
             ],
             [
              0.5555555555555556,
              "#d8576b"
             ],
             [
              0.6666666666666666,
              "#ed7953"
             ],
             [
              0.7777777777777778,
              "#fb9f3a"
             ],
             [
              0.8888888888888888,
              "#fdca26"
             ],
             [
              1,
              "#f0f921"
             ]
            ],
            "type": "surface"
           }
          ],
          "table": [
           {
            "cells": {
             "fill": {
              "color": "#EBF0F8"
             },
             "line": {
              "color": "white"
             }
            },
            "header": {
             "fill": {
              "color": "#C8D4E3"
             },
             "line": {
              "color": "white"
             }
            },
            "type": "table"
           }
          ]
         },
         "layout": {
          "annotationdefaults": {
           "arrowcolor": "#2a3f5f",
           "arrowhead": 0,
           "arrowwidth": 1
          },
          "autotypenumbers": "strict",
          "coloraxis": {
           "colorbar": {
            "outlinewidth": 0,
            "ticks": ""
           }
          },
          "colorscale": {
           "diverging": [
            [
             0,
             "#8e0152"
            ],
            [
             0.1,
             "#c51b7d"
            ],
            [
             0.2,
             "#de77ae"
            ],
            [
             0.3,
             "#f1b6da"
            ],
            [
             0.4,
             "#fde0ef"
            ],
            [
             0.5,
             "#f7f7f7"
            ],
            [
             0.6,
             "#e6f5d0"
            ],
            [
             0.7,
             "#b8e186"
            ],
            [
             0.8,
             "#7fbc41"
            ],
            [
             0.9,
             "#4d9221"
            ],
            [
             1,
             "#276419"
            ]
           ],
           "sequential": [
            [
             0,
             "#0d0887"
            ],
            [
             0.1111111111111111,
             "#46039f"
            ],
            [
             0.2222222222222222,
             "#7201a8"
            ],
            [
             0.3333333333333333,
             "#9c179e"
            ],
            [
             0.4444444444444444,
             "#bd3786"
            ],
            [
             0.5555555555555556,
             "#d8576b"
            ],
            [
             0.6666666666666666,
             "#ed7953"
            ],
            [
             0.7777777777777778,
             "#fb9f3a"
            ],
            [
             0.8888888888888888,
             "#fdca26"
            ],
            [
             1,
             "#f0f921"
            ]
           ],
           "sequentialminus": [
            [
             0,
             "#0d0887"
            ],
            [
             0.1111111111111111,
             "#46039f"
            ],
            [
             0.2222222222222222,
             "#7201a8"
            ],
            [
             0.3333333333333333,
             "#9c179e"
            ],
            [
             0.4444444444444444,
             "#bd3786"
            ],
            [
             0.5555555555555556,
             "#d8576b"
            ],
            [
             0.6666666666666666,
             "#ed7953"
            ],
            [
             0.7777777777777778,
             "#fb9f3a"
            ],
            [
             0.8888888888888888,
             "#fdca26"
            ],
            [
             1,
             "#f0f921"
            ]
           ]
          },
          "colorway": [
           "#636efa",
           "#EF553B",
           "#00cc96",
           "#ab63fa",
           "#FFA15A",
           "#19d3f3",
           "#FF6692",
           "#B6E880",
           "#FF97FF",
           "#FECB52"
          ],
          "font": {
           "color": "#2a3f5f"
          },
          "geo": {
           "bgcolor": "white",
           "lakecolor": "white",
           "landcolor": "#E5ECF6",
           "showlakes": true,
           "showland": true,
           "subunitcolor": "white"
          },
          "hoverlabel": {
           "align": "left"
          },
          "hovermode": "closest",
          "mapbox": {
           "style": "light"
          },
          "paper_bgcolor": "white",
          "plot_bgcolor": "#E5ECF6",
          "polar": {
           "angularaxis": {
            "gridcolor": "white",
            "linecolor": "white",
            "ticks": ""
           },
           "bgcolor": "#E5ECF6",
           "radialaxis": {
            "gridcolor": "white",
            "linecolor": "white",
            "ticks": ""
           }
          },
          "scene": {
           "xaxis": {
            "backgroundcolor": "#E5ECF6",
            "gridcolor": "white",
            "gridwidth": 2,
            "linecolor": "white",
            "showbackground": true,
            "ticks": "",
            "zerolinecolor": "white"
           },
           "yaxis": {
            "backgroundcolor": "#E5ECF6",
            "gridcolor": "white",
            "gridwidth": 2,
            "linecolor": "white",
            "showbackground": true,
            "ticks": "",
            "zerolinecolor": "white"
           },
           "zaxis": {
            "backgroundcolor": "#E5ECF6",
            "gridcolor": "white",
            "gridwidth": 2,
            "linecolor": "white",
            "showbackground": true,
            "ticks": "",
            "zerolinecolor": "white"
           }
          },
          "shapedefaults": {
           "line": {
            "color": "#2a3f5f"
           }
          },
          "ternary": {
           "aaxis": {
            "gridcolor": "white",
            "linecolor": "white",
            "ticks": ""
           },
           "baxis": {
            "gridcolor": "white",
            "linecolor": "white",
            "ticks": ""
           },
           "bgcolor": "#E5ECF6",
           "caxis": {
            "gridcolor": "white",
            "linecolor": "white",
            "ticks": ""
           }
          },
          "title": {
           "x": 0.05
          },
          "xaxis": {
           "automargin": true,
           "gridcolor": "white",
           "linecolor": "white",
           "ticks": "",
           "title": {
            "standoff": 15
           },
           "zerolinecolor": "white",
           "zerolinewidth": 2
          },
          "yaxis": {
           "automargin": true,
           "gridcolor": "white",
           "linecolor": "white",
           "ticks": "",
           "title": {
            "standoff": 15
           },
           "zerolinecolor": "white",
           "zerolinewidth": 2
          }
         }
        },
        "title": {
         "text": "Top 10 countries with most quantity emissions by food supply stage"
        },
        "xaxis": {
         "anchor": "y",
         "domain": [
          0,
          1
         ],
         "title": {
          "text": "Country"
         }
        },
        "yaxis": {
         "anchor": "x",
         "domain": [
          0,
          1
         ],
         "title": {
          "text": "Quantity Emissions (ktonnes)"
         }
        }
       }
      }
     },
     "metadata": {},
     "output_type": "display_data"
    }
   ],
   "source": [
    "import plotly.express as px\n",
    "\n",
    "top10_emissions_stage_max_element_max['quantity_emissions_rounded'] = top10_emissions_stage_max_element_max['quantity_emissions'].round(1)\n",
    "\n",
    "fig = px.bar(top10_emissions_stage_max_element_max, x='country', y='quantity_emissions', color='food_supply_stage', text='quantity_emissions_rounded')\n",
    "\n",
    "fig.update_traces(textposition='outside')\n",
    "\n",
    "fig.update_layout(title='Top 10 countries with most quantity emissions by food supply stage',\n",
    "                  xaxis_title='Country',\n",
    "                  yaxis_title='Quantity Emissions (ktonnes)')\n",
    "\n",
    "fig.show()\n"
   ]
  },
  {
   "cell_type": "code",
   "execution_count": null,
   "metadata": {},
   "outputs": [],
   "source": []
  }
 ],
 "metadata": {
  "kernelspec": {
   "display_name": "Python 3",
   "language": "python",
   "name": "python3"
  },
  "language_info": {
   "codemirror_mode": {
    "name": "ipython",
    "version": 3
   },
   "file_extension": ".py",
   "mimetype": "text/x-python",
   "name": "python",
   "nbconvert_exporter": "python",
   "pygments_lexer": "ipython3",
   "version": "3.11.7"
  }
 },
 "nbformat": 4,
 "nbformat_minor": 2
}

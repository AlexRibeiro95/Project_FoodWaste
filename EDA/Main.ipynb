{
 "cells": [
  {
   "cell_type": "markdown",
   "metadata": {},
   "source": []
  },
  {
   "cell_type": "code",
   "execution_count": 1,
   "metadata": {},
   "outputs": [
    {
     "data": {
      "text/html": [
       "<div>\n",
       "<style scoped>\n",
       "    .dataframe tbody tr th:only-of-type {\n",
       "        vertical-align: middle;\n",
       "    }\n",
       "\n",
       "    .dataframe tbody tr th {\n",
       "        vertical-align: top;\n",
       "    }\n",
       "\n",
       "    .dataframe thead th {\n",
       "        text-align: right;\n",
       "    }\n",
       "</style>\n",
       "<table border=\"1\" class=\"dataframe\">\n",
       "  <thead>\n",
       "    <tr style=\"text-align: right;\">\n",
       "      <th></th>\n",
       "      <th>country</th>\n",
       "      <th>year</th>\n",
       "      <th>element</th>\n",
       "      <th>item</th>\n",
       "      <th>unit</th>\n",
       "      <th>value</th>\n",
       "    </tr>\n",
       "  </thead>\n",
       "  <tbody>\n",
       "    <tr>\n",
       "      <th>0</th>\n",
       "      <td>Angola</td>\n",
       "      <td>2010</td>\n",
       "      <td>Carbon Dioxide (CO2)</td>\n",
       "      <td>Agrifood Systems Waste Disposal</td>\n",
       "      <td>kt</td>\n",
       "      <td>1134.35</td>\n",
       "    </tr>\n",
       "    <tr>\n",
       "      <th>1</th>\n",
       "      <td>Angola</td>\n",
       "      <td>2010</td>\n",
       "      <td>Carbon Dioxide (CO2)</td>\n",
       "      <td>Crop Residues</td>\n",
       "      <td>kt</td>\n",
       "      <td>138.57</td>\n",
       "    </tr>\n",
       "    <tr>\n",
       "      <th>2</th>\n",
       "      <td>Angola</td>\n",
       "      <td>2010</td>\n",
       "      <td>Carbon Dioxide (CO2)</td>\n",
       "      <td>Food Household Consumption</td>\n",
       "      <td>kt</td>\n",
       "      <td>281.49</td>\n",
       "    </tr>\n",
       "    <tr>\n",
       "      <th>3</th>\n",
       "      <td>Angola</td>\n",
       "      <td>2010</td>\n",
       "      <td>Carbon Dioxide (CO2)</td>\n",
       "      <td>Food Packaging</td>\n",
       "      <td>kt</td>\n",
       "      <td>8.13</td>\n",
       "    </tr>\n",
       "    <tr>\n",
       "      <th>4</th>\n",
       "      <td>Angola</td>\n",
       "      <td>2010</td>\n",
       "      <td>Carbon Dioxide (CO2)</td>\n",
       "      <td>Food Processing</td>\n",
       "      <td>kt</td>\n",
       "      <td>0.00</td>\n",
       "    </tr>\n",
       "  </tbody>\n",
       "</table>\n",
       "</div>"
      ],
      "text/plain": [
       "  country  year               element                             item unit  \\\n",
       "0  Angola  2010  Carbon Dioxide (CO2)  Agrifood Systems Waste Disposal   kt   \n",
       "1  Angola  2010  Carbon Dioxide (CO2)                    Crop Residues   kt   \n",
       "2  Angola  2010  Carbon Dioxide (CO2)       Food Household Consumption   kt   \n",
       "3  Angola  2010  Carbon Dioxide (CO2)                   Food Packaging   kt   \n",
       "4  Angola  2010  Carbon Dioxide (CO2)                  Food Processing   kt   \n",
       "\n",
       "     value  \n",
       "0  1134.35  \n",
       "1   138.57  \n",
       "2   281.49  \n",
       "3     8.13  \n",
       "4     0.00  "
      ]
     },
     "execution_count": 1,
     "metadata": {},
     "output_type": "execute_result"
    }
   ],
   "source": [
    "#Import relevant libraries for data analysis\n",
    "\n",
    "import pandas as pd\n",
    "import numpy as np\n",
    "import matplotlib.pyplot as plt\n",
    "import seaborn as sns\n",
    "import plotly.express as px\n",
    "\n",
    "\n",
    "emissions_df = pd.read_csv('/Users/alexandreribeiro/Desktop/Emissions_dataset.csv')\n",
    "foodwaste_df = pd.read_csv('/Users/alexandreribeiro/Desktop/Food-Waste_dataset.csv')\n",
    "\n",
    "#Check the first 5 rows of the emissions dataset\n",
    "\n",
    "emissions_df.head()\n",
    "\n",
    "\n"
   ]
  },
  {
   "cell_type": "code",
   "execution_count": 2,
   "metadata": {},
   "outputs": [
    {
     "data": {
      "text/plain": [
       "item\n",
       "Agrifood Systems Waste Disposal    3420\n",
       "Manure Management                  3420\n",
       "Food Transport                     3398\n",
       "Food Retail                        3354\n",
       "Food Household Consumption         3332\n",
       "Food Packaging                     2892\n",
       "Food Processing                    2892\n",
       "Crop Residues                      2280\n",
       "Manure applied to Soils            2280\n",
       "Manure left on Pasture             2280\n",
       "Synthetic Fertilizers              2258\n",
       "Rice Cultivation                   1860\n",
       "Name: count, dtype: int64"
      ]
     },
     "execution_count": 2,
     "metadata": {},
     "output_type": "execute_result"
    }
   ],
   "source": [
    "emissions_df.item.value_counts()"
   ]
  },
  {
   "cell_type": "code",
   "execution_count": 3,
   "metadata": {},
   "outputs": [
    {
     "data": {
      "text/html": [
       "<div>\n",
       "<style scoped>\n",
       "    .dataframe tbody tr th:only-of-type {\n",
       "        vertical-align: middle;\n",
       "    }\n",
       "\n",
       "    .dataframe tbody tr th {\n",
       "        vertical-align: top;\n",
       "    }\n",
       "\n",
       "    .dataframe thead th {\n",
       "        text-align: right;\n",
       "    }\n",
       "</style>\n",
       "<table border=\"1\" class=\"dataframe\">\n",
       "  <thead>\n",
       "    <tr style=\"text-align: right;\">\n",
       "      <th></th>\n",
       "      <th>country</th>\n",
       "      <th>year</th>\n",
       "      <th>food_supply_stage</th>\n",
       "      <th>commodity</th>\n",
       "      <th>loss_percentage</th>\n",
       "    </tr>\n",
       "  </thead>\n",
       "  <tbody>\n",
       "    <tr>\n",
       "      <th>0</th>\n",
       "      <td>Angola</td>\n",
       "      <td>2010</td>\n",
       "      <td>Farm</td>\n",
       "      <td>Maize (corn)</td>\n",
       "      <td>3.6</td>\n",
       "    </tr>\n",
       "    <tr>\n",
       "      <th>1</th>\n",
       "      <td>Angola</td>\n",
       "      <td>2010</td>\n",
       "      <td>Farm</td>\n",
       "      <td>Millet</td>\n",
       "      <td>1.7</td>\n",
       "    </tr>\n",
       "    <tr>\n",
       "      <th>2</th>\n",
       "      <td>Angola</td>\n",
       "      <td>2010</td>\n",
       "      <td>Farm</td>\n",
       "      <td>Rice</td>\n",
       "      <td>1.5</td>\n",
       "    </tr>\n",
       "    <tr>\n",
       "      <th>3</th>\n",
       "      <td>Angola</td>\n",
       "      <td>2010</td>\n",
       "      <td>Farm</td>\n",
       "      <td>Sorghum</td>\n",
       "      <td>3.0</td>\n",
       "    </tr>\n",
       "    <tr>\n",
       "      <th>4</th>\n",
       "      <td>Angola</td>\n",
       "      <td>2010</td>\n",
       "      <td>Farm</td>\n",
       "      <td>Wheat</td>\n",
       "      <td>4.2</td>\n",
       "    </tr>\n",
       "  </tbody>\n",
       "</table>\n",
       "</div>"
      ],
      "text/plain": [
       "  country  year food_supply_stage     commodity  loss_percentage\n",
       "0  Angola  2010              Farm  Maize (corn)              3.6\n",
       "1  Angola  2010              Farm        Millet              1.7\n",
       "2  Angola  2010              Farm          Rice              1.5\n",
       "3  Angola  2010              Farm       Sorghum              3.0\n",
       "4  Angola  2010              Farm         Wheat              4.2"
      ]
     },
     "execution_count": 3,
     "metadata": {},
     "output_type": "execute_result"
    }
   ],
   "source": [
    "foodwaste_df.head()"
   ]
  },
  {
   "cell_type": "code",
   "execution_count": 4,
   "metadata": {},
   "outputs": [
    {
     "data": {
      "text/plain": [
       "(array(['Farm', 'Harvest', 'Shelling and processing', 'Storage',\n",
       "        'Transport', 'Households', 'Retail, wholesale and market',\n",
       "        'Whole supply chain', 'Distribution and export', 'Packing'],\n",
       "       dtype=object),\n",
       " array(['Agrifood Systems Waste Disposal', 'Crop Residues',\n",
       "        'Food Household Consumption', 'Food Packaging', 'Food Processing',\n",
       "        'Food Retail', 'Food Transport', 'Manure Management',\n",
       "        'Manure applied to Soils', 'Manure left on Pasture',\n",
       "        'Rice Cultivation', 'Synthetic Fertilizers'], dtype=object))"
      ]
     },
     "execution_count": 4,
     "metadata": {},
     "output_type": "execute_result"
    }
   ],
   "source": [
    "#In order to merge the two datasets, we can create a mapping based on the logical correspondence between the food_supply_stage and items.\n",
    "\n",
    "# Get unique values of 'food_supply_stage' and 'item'\n",
    "\n",
    "food_supply_stages = foodwaste_df['food_supply_stage'].unique()\n",
    "items = emissions_df['item'].unique()\n",
    "\n",
    "food_supply_stages, items"
   ]
  },
  {
   "cell_type": "code",
   "execution_count": 5,
   "metadata": {},
   "outputs": [
    {
     "data": {
      "text/html": [
       "<div>\n",
       "<style scoped>\n",
       "    .dataframe tbody tr th:only-of-type {\n",
       "        vertical-align: middle;\n",
       "    }\n",
       "\n",
       "    .dataframe tbody tr th {\n",
       "        vertical-align: top;\n",
       "    }\n",
       "\n",
       "    .dataframe thead th {\n",
       "        text-align: right;\n",
       "    }\n",
       "</style>\n",
       "<table border=\"1\" class=\"dataframe\">\n",
       "  <thead>\n",
       "    <tr style=\"text-align: right;\">\n",
       "      <th></th>\n",
       "      <th>country</th>\n",
       "      <th>year</th>\n",
       "      <th>element</th>\n",
       "      <th>item</th>\n",
       "      <th>unit</th>\n",
       "      <th>value</th>\n",
       "      <th>food_supply_stage</th>\n",
       "    </tr>\n",
       "  </thead>\n",
       "  <tbody>\n",
       "    <tr>\n",
       "      <th>0</th>\n",
       "      <td>Angola</td>\n",
       "      <td>2010</td>\n",
       "      <td>Carbon Dioxide (CO2)</td>\n",
       "      <td>Agrifood Systems Waste Disposal</td>\n",
       "      <td>kt</td>\n",
       "      <td>1134.35</td>\n",
       "      <td>NaN</td>\n",
       "    </tr>\n",
       "    <tr>\n",
       "      <th>1</th>\n",
       "      <td>Angola</td>\n",
       "      <td>2010</td>\n",
       "      <td>Carbon Dioxide (CO2)</td>\n",
       "      <td>Crop Residues</td>\n",
       "      <td>kt</td>\n",
       "      <td>138.57</td>\n",
       "      <td>Farm</td>\n",
       "    </tr>\n",
       "    <tr>\n",
       "      <th>2</th>\n",
       "      <td>Angola</td>\n",
       "      <td>2010</td>\n",
       "      <td>Carbon Dioxide (CO2)</td>\n",
       "      <td>Food Household Consumption</td>\n",
       "      <td>kt</td>\n",
       "      <td>281.49</td>\n",
       "      <td>Households</td>\n",
       "    </tr>\n",
       "    <tr>\n",
       "      <th>3</th>\n",
       "      <td>Angola</td>\n",
       "      <td>2010</td>\n",
       "      <td>Carbon Dioxide (CO2)</td>\n",
       "      <td>Food Packaging</td>\n",
       "      <td>kt</td>\n",
       "      <td>8.13</td>\n",
       "      <td>Packing</td>\n",
       "    </tr>\n",
       "    <tr>\n",
       "      <th>4</th>\n",
       "      <td>Angola</td>\n",
       "      <td>2010</td>\n",
       "      <td>Carbon Dioxide (CO2)</td>\n",
       "      <td>Food Processing</td>\n",
       "      <td>kt</td>\n",
       "      <td>0.00</td>\n",
       "      <td>Shelling and processing</td>\n",
       "    </tr>\n",
       "  </tbody>\n",
       "</table>\n",
       "</div>"
      ],
      "text/plain": [
       "  country  year               element                             item unit  \\\n",
       "0  Angola  2010  Carbon Dioxide (CO2)  Agrifood Systems Waste Disposal   kt   \n",
       "1  Angola  2010  Carbon Dioxide (CO2)                    Crop Residues   kt   \n",
       "2  Angola  2010  Carbon Dioxide (CO2)       Food Household Consumption   kt   \n",
       "3  Angola  2010  Carbon Dioxide (CO2)                   Food Packaging   kt   \n",
       "4  Angola  2010  Carbon Dioxide (CO2)                  Food Processing   kt   \n",
       "\n",
       "     value        food_supply_stage  \n",
       "0  1134.35                      NaN  \n",
       "1   138.57                     Farm  \n",
       "2   281.49               Households  \n",
       "3     8.13                  Packing  \n",
       "4     0.00  Shelling and processing  "
      ]
     },
     "execution_count": 5,
     "metadata": {},
     "output_type": "execute_result"
    }
   ],
   "source": [
    "# Create a mapping dictionary for food_supply_stage to item\n",
    "\n",
    "mapping = {\n",
    "    'Farm': ['Crop Residues', 'Rice Cultivation', 'Synthetic Fertilizers'],\n",
    "    'Harvest': ['Crop Residues'],\n",
    "    'Shelling and processing': ['Food Processing'],\n",
    "    'Storage': ['Food Processing'],  # No direct item mapping\n",
    "    'Transport': ['Food Transport'],\n",
    "    'Households': ['Food Household Consumption'],\n",
    "    'Retail, wholesale and market': ['Food Retail'],\n",
    "    'Whole supply chain': ['Food Transport'],  # Aggregate, not mapped to a single item\n",
    "    'Distribution and export': ['Food Transport'],\n",
    "    'Packing': ['Food Packaging']\n",
    "}\n",
    "\n",
    "#Function to apply mapping and filter the emissions dataset\n",
    "\n",
    "def map_stages(row):\n",
    "    for stage, items in mapping.items():\n",
    "        if row['item'] in items:\n",
    "            return stage\n",
    "    return np.nan\n",
    "\n",
    "# Apply the mapping function to create a new column in the emissions dataset\n",
    "\n",
    "emissions_df['food_supply_stage'] = emissions_df.apply(map_stages, axis=1)\n",
    "\n",
    "# Check the first 5 rows of the updated emissions dataset\n",
    "\n",
    "emissions_df.head()\n",
    "\n"
   ]
  },
  {
   "cell_type": "code",
   "execution_count": 6,
   "metadata": {},
   "outputs": [
    {
     "data": {
      "text/plain": [
       "food_supply_stage\n",
       "Farm                            11208\n",
       "Shelling and processing          3810\n",
       "Transport                        2694\n",
       "Retail, wholesale and market      615\n",
       "Households                         84\n",
       "Packing                            78\n",
       "Name: count, dtype: int64"
      ]
     },
     "execution_count": 6,
     "metadata": {},
     "output_type": "execute_result"
    }
   ],
   "source": [
    "# Merge the two datasets on 'country' 'year' and 'food_supply_stage'\n",
    "\n",
    "merged_df = pd.merge(emissions_df, foodwaste_df, on=['country', 'year', 'food_supply_stage'])\n",
    "\n",
    "# Check the first 5 rows of the merged dataset\n",
    "\n",
    "merged_df.food_supply_stage.value_counts()"
   ]
  },
  {
   "cell_type": "code",
   "execution_count": 7,
   "metadata": {},
   "outputs": [
    {
     "data": {
      "text/html": [
       "<div>\n",
       "<style scoped>\n",
       "    .dataframe tbody tr th:only-of-type {\n",
       "        vertical-align: middle;\n",
       "    }\n",
       "\n",
       "    .dataframe tbody tr th {\n",
       "        vertical-align: top;\n",
       "    }\n",
       "\n",
       "    .dataframe thead th {\n",
       "        text-align: right;\n",
       "    }\n",
       "</style>\n",
       "<table border=\"1\" class=\"dataframe\">\n",
       "  <thead>\n",
       "    <tr style=\"text-align: right;\">\n",
       "      <th></th>\n",
       "      <th>country</th>\n",
       "      <th>year</th>\n",
       "      <th>element</th>\n",
       "      <th>item</th>\n",
       "      <th>unit</th>\n",
       "      <th>value</th>\n",
       "      <th>food_supply_stage</th>\n",
       "      <th>commodity</th>\n",
       "      <th>loss_percentage</th>\n",
       "    </tr>\n",
       "  </thead>\n",
       "  <tbody>\n",
       "    <tr>\n",
       "      <th>0</th>\n",
       "      <td>Angola</td>\n",
       "      <td>2010</td>\n",
       "      <td>Carbon Dioxide (CO2)</td>\n",
       "      <td>Crop Residues</td>\n",
       "      <td>kt</td>\n",
       "      <td>138.57</td>\n",
       "      <td>Farm</td>\n",
       "      <td>Maize (corn)</td>\n",
       "      <td>3.6</td>\n",
       "    </tr>\n",
       "    <tr>\n",
       "      <th>1</th>\n",
       "      <td>Angola</td>\n",
       "      <td>2010</td>\n",
       "      <td>Carbon Dioxide (CO2)</td>\n",
       "      <td>Crop Residues</td>\n",
       "      <td>kt</td>\n",
       "      <td>138.57</td>\n",
       "      <td>Farm</td>\n",
       "      <td>Millet</td>\n",
       "      <td>1.7</td>\n",
       "    </tr>\n",
       "    <tr>\n",
       "      <th>2</th>\n",
       "      <td>Angola</td>\n",
       "      <td>2010</td>\n",
       "      <td>Carbon Dioxide (CO2)</td>\n",
       "      <td>Crop Residues</td>\n",
       "      <td>kt</td>\n",
       "      <td>138.57</td>\n",
       "      <td>Farm</td>\n",
       "      <td>Rice</td>\n",
       "      <td>1.5</td>\n",
       "    </tr>\n",
       "    <tr>\n",
       "      <th>3</th>\n",
       "      <td>Angola</td>\n",
       "      <td>2010</td>\n",
       "      <td>Carbon Dioxide (CO2)</td>\n",
       "      <td>Crop Residues</td>\n",
       "      <td>kt</td>\n",
       "      <td>138.57</td>\n",
       "      <td>Farm</td>\n",
       "      <td>Sorghum</td>\n",
       "      <td>3.0</td>\n",
       "    </tr>\n",
       "    <tr>\n",
       "      <th>4</th>\n",
       "      <td>Angola</td>\n",
       "      <td>2010</td>\n",
       "      <td>Carbon Dioxide (CO2)</td>\n",
       "      <td>Crop Residues</td>\n",
       "      <td>kt</td>\n",
       "      <td>138.57</td>\n",
       "      <td>Farm</td>\n",
       "      <td>Wheat</td>\n",
       "      <td>4.2</td>\n",
       "    </tr>\n",
       "  </tbody>\n",
       "</table>\n",
       "</div>"
      ],
      "text/plain": [
       "  country  year               element           item unit   value  \\\n",
       "0  Angola  2010  Carbon Dioxide (CO2)  Crop Residues   kt  138.57   \n",
       "1  Angola  2010  Carbon Dioxide (CO2)  Crop Residues   kt  138.57   \n",
       "2  Angola  2010  Carbon Dioxide (CO2)  Crop Residues   kt  138.57   \n",
       "3  Angola  2010  Carbon Dioxide (CO2)  Crop Residues   kt  138.57   \n",
       "4  Angola  2010  Carbon Dioxide (CO2)  Crop Residues   kt  138.57   \n",
       "\n",
       "  food_supply_stage     commodity  loss_percentage  \n",
       "0              Farm  Maize (corn)              3.6  \n",
       "1              Farm        Millet              1.7  \n",
       "2              Farm          Rice              1.5  \n",
       "3              Farm       Sorghum              3.0  \n",
       "4              Farm         Wheat              4.2  "
      ]
     },
     "execution_count": 7,
     "metadata": {},
     "output_type": "execute_result"
    }
   ],
   "source": [
    "merged_df.head()"
   ]
  },
  {
   "cell_type": "code",
   "execution_count": 8,
   "metadata": {},
   "outputs": [
    {
     "data": {
      "text/html": [
       "<div>\n",
       "<style scoped>\n",
       "    .dataframe tbody tr th:only-of-type {\n",
       "        vertical-align: middle;\n",
       "    }\n",
       "\n",
       "    .dataframe tbody tr th {\n",
       "        vertical-align: top;\n",
       "    }\n",
       "\n",
       "    .dataframe thead th {\n",
       "        text-align: right;\n",
       "    }\n",
       "</style>\n",
       "<table border=\"1\" class=\"dataframe\">\n",
       "  <thead>\n",
       "    <tr style=\"text-align: right;\">\n",
       "      <th></th>\n",
       "      <th>value</th>\n",
       "      <th>loss_percentage</th>\n",
       "    </tr>\n",
       "  </thead>\n",
       "  <tbody>\n",
       "    <tr>\n",
       "      <th>count</th>\n",
       "      <td>18489.00</td>\n",
       "      <td>18489.00</td>\n",
       "    </tr>\n",
       "    <tr>\n",
       "      <th>mean</th>\n",
       "      <td>1579.97</td>\n",
       "      <td>3.29</td>\n",
       "    </tr>\n",
       "    <tr>\n",
       "      <th>std</th>\n",
       "      <td>11347.12</td>\n",
       "      <td>4.50</td>\n",
       "    </tr>\n",
       "    <tr>\n",
       "      <th>min</th>\n",
       "      <td>0.00</td>\n",
       "      <td>0.00</td>\n",
       "    </tr>\n",
       "    <tr>\n",
       "      <th>25%</th>\n",
       "      <td>0.04</td>\n",
       "      <td>1.50</td>\n",
       "    </tr>\n",
       "    <tr>\n",
       "      <th>50%</th>\n",
       "      <td>2.93</td>\n",
       "      <td>2.00</td>\n",
       "    </tr>\n",
       "    <tr>\n",
       "      <th>75%</th>\n",
       "      <td>124.95</td>\n",
       "      <td>3.50</td>\n",
       "    </tr>\n",
       "    <tr>\n",
       "      <th>max</th>\n",
       "      <td>171822.50</td>\n",
       "      <td>63.00</td>\n",
       "    </tr>\n",
       "  </tbody>\n",
       "</table>\n",
       "</div>"
      ],
      "text/plain": [
       "           value  loss_percentage\n",
       "count   18489.00         18489.00\n",
       "mean     1579.97             3.29\n",
       "std     11347.12             4.50\n",
       "min         0.00             0.00\n",
       "25%         0.04             1.50\n",
       "50%         2.93             2.00\n",
       "75%       124.95             3.50\n",
       "max    171822.50            63.00"
      ]
     },
     "execution_count": 8,
     "metadata": {},
     "output_type": "execute_result"
    }
   ],
   "source": [
    "#Describe value and loss_percentage\n",
    "\n",
    "merged_df[['value', 'loss_percentage']].describe().round(2)"
   ]
  },
  {
   "cell_type": "code",
   "execution_count": 9,
   "metadata": {},
   "outputs": [
    {
     "data": {
      "text/plain": [
       "array(['Maize (corn)', 'Millet', 'Rice', 'Sorghum', 'Wheat', 'Apples',\n",
       "       'Potatoes', 'Tomatoes', 'Carrots and turnips',\n",
       "       'Cauliflowers and broccoli',\n",
       "       'Chillies and peppers, green (<i>Capsicum</i> spp. and <i>Pimenta</i> spp.)',\n",
       "       'Lettuce and chicory', 'Other vegetables, fresh n.e.c.',\n",
       "       'Cabbages', 'Sweet corn, frozen', 'Beans, dry', 'Sugar cane',\n",
       "       'Other fruits, n.e.c.', 'Bananas', 'Cucumbers and gherkins',\n",
       "       'Eggplants (aubergines)', 'Mangoes, guavas and mangosteens',\n",
       "       'Okra', 'Oranges', 'Other tropical and subtropical fruits, n.e.c.',\n",
       "       'Papayas', 'Pineapples', 'Fonio',\n",
       "       'Pepper (<i>Piper</i> spp.), raw', 'Onions and shallots, green',\n",
       "       'Cassava, fresh', 'Meat of cattle with the bone, fresh or chilled',\n",
       "       'Pears', 'Meat of chickens, fresh or chilled', 'Mixed grain',\n",
       "       'Avocados', 'Cantaloupes and other melons',\n",
       "       'Chillies and peppers, dry (<i>Capsicum</i> spp., <i>Pimenta</i> spp.), raw',\n",
       "       'Spinach', 'Peas, dry', 'Peas, green', 'Grapes', 'Barley',\n",
       "       'Cassava, dry', 'Hen eggs in shell, fresh', 'Raw milk of cattle',\n",
       "       'Cow peas, dry', 'Strawberries', 'Dairy products n.e.c.', 'Rye',\n",
       "       'Rape or colza seed', 'Soya bean oil', 'Sunflower-seed oil, crude',\n",
       "       'Plantains and cooking bananas', 'Groundnuts, shelled', 'Yams',\n",
       "       'Flour of cassava', 'Rice, milled', 'Soya beans',\n",
       "       'Anise, badian, coriander, cumin, caraway, fennel and juniper berries, raw',\n",
       "       'Areca nuts', 'Cashew nuts, in shell', 'Chick peas, dry',\n",
       "       'Coconuts, in shell', 'Cottonseed',\n",
       "       'Groundnuts, excluding shelled', 'Mushrooms and truffles',\n",
       "       'Mustard seed', 'Other citrus fruit, n.e.c.',\n",
       "       'Other stimulant, spice and aromatic crops, n.e.c.',\n",
       "       'Pigeon peas, dry', 'Safflower seed', 'Sunflower seed',\n",
       "       'Tapioca of cassava', 'Other pulses n.e.c.', 'Figs',\n",
       "       'Tangerines, mandarins, clementines', 'Plums and sloes',\n",
       "       'Sugar beet', 'Pumpkins, squash and gourds', 'Raspberries',\n",
       "       'Meat of sheep, fresh or chilled', 'Sweet potatoes',\n",
       "       'Bambara beans, dry', 'Sesame seed',\n",
       "       'Pig meat, cuts, salted, dried or smoked (bacon and ham)',\n",
       "       'Green corn (maize)', 'Apricots', 'Artichokes', 'Asparagus',\n",
       "       'Blueberries', 'Cranberries', 'Green garlic', 'Kiwi fruit',\n",
       "       'Lemons and limes', 'Peaches and nectarines', 'Plums, dried',\n",
       "       'Pomelos and grapefruits', 'Sweet corn, prepared or preserved',\n",
       "       'Watermelons'], dtype=object)"
      ]
     },
     "execution_count": 9,
     "metadata": {},
     "output_type": "execute_result"
    }
   ],
   "source": [
    "merged_df.commodity.unique()\n",
    "\n"
   ]
  },
  {
   "cell_type": "code",
   "execution_count": 10,
   "metadata": {},
   "outputs": [
    {
     "data": {
      "text/html": [
       "<div>\n",
       "<style scoped>\n",
       "    .dataframe tbody tr th:only-of-type {\n",
       "        vertical-align: middle;\n",
       "    }\n",
       "\n",
       "    .dataframe tbody tr th {\n",
       "        vertical-align: top;\n",
       "    }\n",
       "\n",
       "    .dataframe thead th {\n",
       "        text-align: right;\n",
       "    }\n",
       "</style>\n",
       "<table border=\"1\" class=\"dataframe\">\n",
       "  <thead>\n",
       "    <tr style=\"text-align: right;\">\n",
       "      <th></th>\n",
       "      <th>country</th>\n",
       "      <th>year</th>\n",
       "      <th>element</th>\n",
       "      <th>item</th>\n",
       "      <th>unit</th>\n",
       "      <th>value</th>\n",
       "      <th>food_supply_stage</th>\n",
       "      <th>commodity</th>\n",
       "      <th>loss_percentage</th>\n",
       "    </tr>\n",
       "  </thead>\n",
       "  <tbody>\n",
       "    <tr>\n",
       "      <th>3067</th>\n",
       "      <td>Canada</td>\n",
       "      <td>2014</td>\n",
       "      <td>Carbon Dioxide (CO2)</td>\n",
       "      <td>Food Retail</td>\n",
       "      <td>kt</td>\n",
       "      <td>2375.82</td>\n",
       "      <td>Retail, wholesale and market</td>\n",
       "      <td>Meat of cattle with the bone, fresh or chilled</td>\n",
       "      <td>3.5</td>\n",
       "    </tr>\n",
       "    <tr>\n",
       "      <th>3068</th>\n",
       "      <td>Canada</td>\n",
       "      <td>2014</td>\n",
       "      <td>Methane (CH4)</td>\n",
       "      <td>Food Retail</td>\n",
       "      <td>kt</td>\n",
       "      <td>0.07</td>\n",
       "      <td>Retail, wholesale and market</td>\n",
       "      <td>Meat of cattle with the bone, fresh or chilled</td>\n",
       "      <td>3.5</td>\n",
       "    </tr>\n",
       "    <tr>\n",
       "      <th>3069</th>\n",
       "      <td>Canada</td>\n",
       "      <td>2014</td>\n",
       "      <td>Nitrous Oxide (N2O)</td>\n",
       "      <td>Food Retail</td>\n",
       "      <td>kt</td>\n",
       "      <td>0.02</td>\n",
       "      <td>Retail, wholesale and market</td>\n",
       "      <td>Meat of cattle with the bone, fresh or chilled</td>\n",
       "      <td>3.5</td>\n",
       "    </tr>\n",
       "    <tr>\n",
       "      <th>3409</th>\n",
       "      <td>China</td>\n",
       "      <td>2013</td>\n",
       "      <td>Carbon Dioxide (CO2)</td>\n",
       "      <td>Crop Residues</td>\n",
       "      <td>kt</td>\n",
       "      <td>30332.01</td>\n",
       "      <td>Farm</td>\n",
       "      <td>Meat of cattle with the bone, fresh or chilled</td>\n",
       "      <td>1.8</td>\n",
       "    </tr>\n",
       "    <tr>\n",
       "      <th>3410</th>\n",
       "      <td>China</td>\n",
       "      <td>2013</td>\n",
       "      <td>Carbon Dioxide (CO2)</td>\n",
       "      <td>Food Processing</td>\n",
       "      <td>kt</td>\n",
       "      <td>137130.58</td>\n",
       "      <td>Shelling and processing</td>\n",
       "      <td>Meat of cattle with the bone, fresh or chilled</td>\n",
       "      <td>1.1</td>\n",
       "    </tr>\n",
       "    <tr>\n",
       "      <th>3411</th>\n",
       "      <td>China</td>\n",
       "      <td>2013</td>\n",
       "      <td>Carbon Dioxide (CO2)</td>\n",
       "      <td>Food Retail</td>\n",
       "      <td>kt</td>\n",
       "      <td>40331.61</td>\n",
       "      <td>Retail, wholesale and market</td>\n",
       "      <td>Meat of cattle with the bone, fresh or chilled</td>\n",
       "      <td>3.0</td>\n",
       "    </tr>\n",
       "    <tr>\n",
       "      <th>3412</th>\n",
       "      <td>China</td>\n",
       "      <td>2013</td>\n",
       "      <td>Carbon Dioxide (CO2)</td>\n",
       "      <td>Rice Cultivation</td>\n",
       "      <td>kt</td>\n",
       "      <td>150439.04</td>\n",
       "      <td>Farm</td>\n",
       "      <td>Meat of cattle with the bone, fresh or chilled</td>\n",
       "      <td>1.8</td>\n",
       "    </tr>\n",
       "    <tr>\n",
       "      <th>3413</th>\n",
       "      <td>China</td>\n",
       "      <td>2013</td>\n",
       "      <td>Carbon Dioxide (CO2)</td>\n",
       "      <td>Synthetic Fertilizers</td>\n",
       "      <td>kt</td>\n",
       "      <td>170842.64</td>\n",
       "      <td>Farm</td>\n",
       "      <td>Meat of cattle with the bone, fresh or chilled</td>\n",
       "      <td>1.8</td>\n",
       "    </tr>\n",
       "    <tr>\n",
       "      <th>3414</th>\n",
       "      <td>China</td>\n",
       "      <td>2013</td>\n",
       "      <td>Methane (CH4)</td>\n",
       "      <td>Food Processing</td>\n",
       "      <td>kt</td>\n",
       "      <td>292.74</td>\n",
       "      <td>Shelling and processing</td>\n",
       "      <td>Meat of cattle with the bone, fresh or chilled</td>\n",
       "      <td>1.1</td>\n",
       "    </tr>\n",
       "    <tr>\n",
       "      <th>3415</th>\n",
       "      <td>China</td>\n",
       "      <td>2013</td>\n",
       "      <td>Methane (CH4)</td>\n",
       "      <td>Food Retail</td>\n",
       "      <td>kt</td>\n",
       "      <td>1.29</td>\n",
       "      <td>Retail, wholesale and market</td>\n",
       "      <td>Meat of cattle with the bone, fresh or chilled</td>\n",
       "      <td>3.0</td>\n",
       "    </tr>\n",
       "  </tbody>\n",
       "</table>\n",
       "</div>"
      ],
      "text/plain": [
       "     country  year               element                   item unit  \\\n",
       "3067  Canada  2014  Carbon Dioxide (CO2)            Food Retail   kt   \n",
       "3068  Canada  2014         Methane (CH4)            Food Retail   kt   \n",
       "3069  Canada  2014   Nitrous Oxide (N2O)            Food Retail   kt   \n",
       "3409   China  2013  Carbon Dioxide (CO2)          Crop Residues   kt   \n",
       "3410   China  2013  Carbon Dioxide (CO2)        Food Processing   kt   \n",
       "3411   China  2013  Carbon Dioxide (CO2)            Food Retail   kt   \n",
       "3412   China  2013  Carbon Dioxide (CO2)       Rice Cultivation   kt   \n",
       "3413   China  2013  Carbon Dioxide (CO2)  Synthetic Fertilizers   kt   \n",
       "3414   China  2013         Methane (CH4)        Food Processing   kt   \n",
       "3415   China  2013         Methane (CH4)            Food Retail   kt   \n",
       "\n",
       "          value             food_supply_stage  \\\n",
       "3067    2375.82  Retail, wholesale and market   \n",
       "3068       0.07  Retail, wholesale and market   \n",
       "3069       0.02  Retail, wholesale and market   \n",
       "3409   30332.01                          Farm   \n",
       "3410  137130.58       Shelling and processing   \n",
       "3411   40331.61  Retail, wholesale and market   \n",
       "3412  150439.04                          Farm   \n",
       "3413  170842.64                          Farm   \n",
       "3414     292.74       Shelling and processing   \n",
       "3415       1.29  Retail, wholesale and market   \n",
       "\n",
       "                                           commodity  loss_percentage  \n",
       "3067  Meat of cattle with the bone, fresh or chilled              3.5  \n",
       "3068  Meat of cattle with the bone, fresh or chilled              3.5  \n",
       "3069  Meat of cattle with the bone, fresh or chilled              3.5  \n",
       "3409  Meat of cattle with the bone, fresh or chilled              1.8  \n",
       "3410  Meat of cattle with the bone, fresh or chilled              1.1  \n",
       "3411  Meat of cattle with the bone, fresh or chilled              3.0  \n",
       "3412  Meat of cattle with the bone, fresh or chilled              1.8  \n",
       "3413  Meat of cattle with the bone, fresh or chilled              1.8  \n",
       "3414  Meat of cattle with the bone, fresh or chilled              1.1  \n",
       "3415  Meat of cattle with the bone, fresh or chilled              3.0  "
      ]
     },
     "execution_count": 10,
     "metadata": {},
     "output_type": "execute_result"
    }
   ],
   "source": [
    "#Group by country and year and get the commodity = 'Meat of cattle with bone'\n",
    "\n",
    "grouped_df = merged_df[merged_df['commodity'] == 'Meat of cattle with the bone, fresh or chilled']\n",
    "\n",
    "# Check the first 5 rows of the grouped dataset\n",
    "\n",
    "grouped_df.head(10)"
   ]
  },
  {
   "cell_type": "code",
   "execution_count": 11,
   "metadata": {},
   "outputs": [
    {
     "data": {
      "text/plain": [
       "country\n",
       "Nicaragua                0.00\n",
       "Guyana                  31.86\n",
       "Saint Lucia             35.96\n",
       "Fiji                   104.68\n",
       "Haiti                  254.06\n",
       "Timor-Leste            276.54\n",
       "Trinidad and Tobago    438.24\n",
       "Sri Lanka              471.92\n",
       "Jordan                 540.40\n",
       "Tunisia                549.61\n",
       "Name: value, dtype: float64"
      ]
     },
     "execution_count": 11,
     "metadata": {},
     "output_type": "execute_result"
    }
   ],
   "source": [
    "#Countries with less emissions based on value\n",
    "\n",
    "merged_df.groupby('country')['value'].sum().sort_values().head(10)\n",
    "\n",
    "\n",
    "\n",
    "\n"
   ]
  },
  {
   "cell_type": "markdown",
   "metadata": {},
   "source": [
    "hypothesis 1:"
   ]
  },
  {
   "cell_type": "code",
   "execution_count": 12,
   "metadata": {},
   "outputs": [
    {
     "data": {
      "text/html": [
       "<div>\n",
       "<style scoped>\n",
       "    .dataframe tbody tr th:only-of-type {\n",
       "        vertical-align: middle;\n",
       "    }\n",
       "\n",
       "    .dataframe tbody tr th {\n",
       "        vertical-align: top;\n",
       "    }\n",
       "\n",
       "    .dataframe thead th {\n",
       "        text-align: right;\n",
       "    }\n",
       "</style>\n",
       "<table border=\"1\" class=\"dataframe\">\n",
       "  <thead>\n",
       "    <tr style=\"text-align: right;\">\n",
       "      <th></th>\n",
       "      <th>value</th>\n",
       "      <th>loss_percentage</th>\n",
       "      <th>loss_emissions</th>\n",
       "    </tr>\n",
       "    <tr>\n",
       "      <th>food_supply_stage</th>\n",
       "      <th></th>\n",
       "      <th></th>\n",
       "      <th></th>\n",
       "    </tr>\n",
       "  </thead>\n",
       "  <tbody>\n",
       "    <tr>\n",
       "      <th>Farm</th>\n",
       "      <td>2288.07</td>\n",
       "      <td>3.29</td>\n",
       "      <td>75.28</td>\n",
       "    </tr>\n",
       "    <tr>\n",
       "      <th>Households</th>\n",
       "      <td>2681.07</td>\n",
       "      <td>11.39</td>\n",
       "      <td>305.37</td>\n",
       "    </tr>\n",
       "    <tr>\n",
       "      <th>Packing</th>\n",
       "      <td>376.40</td>\n",
       "      <td>7.06</td>\n",
       "      <td>26.57</td>\n",
       "    </tr>\n",
       "    <tr>\n",
       "      <th>Retail, wholesale and market</th>\n",
       "      <td>3278.14</td>\n",
       "      <td>10.56</td>\n",
       "      <td>346.17</td>\n",
       "    </tr>\n",
       "    <tr>\n",
       "      <th>Shelling and processing</th>\n",
       "      <td>160.11</td>\n",
       "      <td>3.05</td>\n",
       "      <td>4.88</td>\n",
       "    </tr>\n",
       "    <tr>\n",
       "      <th>Transport</th>\n",
       "      <td>254.91</td>\n",
       "      <td>1.62</td>\n",
       "      <td>4.13</td>\n",
       "    </tr>\n",
       "  </tbody>\n",
       "</table>\n",
       "</div>"
      ],
      "text/plain": [
       "                                value  loss_percentage  loss_emissions\n",
       "food_supply_stage                                                     \n",
       "Farm                          2288.07             3.29           75.28\n",
       "Households                    2681.07            11.39          305.37\n",
       "Packing                        376.40             7.06           26.57\n",
       "Retail, wholesale and market  3278.14            10.56          346.17\n",
       "Shelling and processing        160.11             3.05            4.88\n",
       "Transport                      254.91             1.62            4.13"
      ]
     },
     "execution_count": 12,
     "metadata": {},
     "output_type": "execute_result"
    }
   ],
   "source": [
    "#Pivot table with food_supply_stage in index andloss value and loss_percentage as values\n",
    "\n",
    "pivot_table = merged_df.pivot_table(index='food_supply_stage', values=['value', 'loss_percentage'], aggfunc='mean').round(2)\n",
    "\n",
    "pivot_table\n",
    "\n",
    "#In the same table, calculate the percentage of emissions for each stage\n",
    "\n",
    "pivot_table['loss_emissions'] = ((pivot_table['loss_percentage'] / 100) * pivot_table['value']).round(2)\n",
    "\n",
    "#Reorder the columns\n",
    "\n",
    "pivot_table = pivot_table[['value', 'loss_percentage', 'loss_emissions']]\n",
    "\n",
    "pivot_table\n"
   ]
  },
  {
   "cell_type": "code",
   "execution_count": 13,
   "metadata": {},
   "outputs": [
    {
     "name": "stderr",
     "output_type": "stream",
     "text": [
      "/var/folders/9x/21kgbkbn0gx6fdwpv8lnjmnh0000gn/T/ipykernel_81118/1210556144.py:5: FutureWarning: \n",
      "\n",
      "Passing `palette` without assigning `hue` is deprecated and will be removed in v0.14.0. Assign the `y` variable to `hue` and set `legend=False` for the same effect.\n",
      "\n",
      "  sns.barplot(x='loss_percentage', y='food_supply_stage', data=pivot_table_reset, palette='viridis')\n"
     ]
    },
    {
     "data": {
      "image/png": "[encoded data removed]",
      "text/plain": [
       "<Figure size 1200x800 with 1 Axes>"
      ]
     },
     "metadata": {},
     "output_type": "display_data"
    }
   ],
   "source": [
    "pivot_table_reset = pivot_table.reset_index()\n",
    "\n",
    "# Count plot based on the pivot table\n",
    "plt.figure(figsize=(12, 8))\n",
    "sns.barplot(x='loss_percentage', y='food_supply_stage', data=pivot_table_reset, palette='viridis')\n",
    "plt.title('Average Loss Percentage by Food Supply Stage')\n",
    "plt.xlabel('Average Loss Percentage')\n",
    "plt.ylabel('Food Supply Stage')\n",
    "\n",
    "# Annotate values on the bars\n",
    "for index, value in enumerate(pivot_table_reset['loss_percentage']):\n",
    "    plt.text(value, index, f'{value}', color='black', ha=\"left\", va=\"center\")\n",
    "\n",
    "plt.show()"
   ]
  },
  {
   "cell_type": "code",
   "execution_count": 14,
   "metadata": {},
   "outputs": [
    {
     "data": {
      "image/png": "[encoded data removed]",
      "text/plain": [
       "<Figure size 1400x800 with 1 Axes>"
      ]
     },
     "metadata": {},
     "output_type": "display_data"
    }
   ],
   "source": [
    "# Plot the stacked bar plot with annotations\n",
    "fig, ax = plt.subplots(figsize=(14, 8))\n",
    "\n",
    "# Plot the stacked bars\n",
    "pivot_table[['loss_emissions', 'value']].plot(kind='bar', stacked=True, ax=ax, colormap='Paired')\n",
    "\n",
    "# Add annotations on top of the bars\n",
    "for p in ax.patches:\n",
    "    ax.annotate(f'{p.get_height():.2f}', (p.get_x() + p.get_width() / 2., p.get_height()), \n",
    "                ha='center', va='center', xytext=(0, 10), textcoords='offset points')\n",
    "\n",
    "# Set titles and labels\n",
    "ax.set_title('Stacked Bar Plot of Emissions by Food Supply Stage')\n",
    "ax.set_xlabel('Food Supply Stage')\n",
    "ax.set_ylabel('Emissions (kt)')\n",
    "ax.legend(['Emissions Attributable to Loss', 'Remaining Emissions'])\n",
    "plt.xticks(rotation=90)\n",
    "\n",
    "# Show plot\n",
    "plt.show()"
   ]
  },
  {
   "cell_type": "markdown",
   "metadata": {},
   "source": [
    "hypothesis 2:"
   ]
  },
  {
   "cell_type": "code",
   "execution_count": 15,
   "metadata": {},
   "outputs": [
    {
     "data": {
      "text/html": [
       "<div>\n",
       "<style scoped>\n",
       "    .dataframe tbody tr th:only-of-type {\n",
       "        vertical-align: middle;\n",
       "    }\n",
       "\n",
       "    .dataframe tbody tr th {\n",
       "        vertical-align: top;\n",
       "    }\n",
       "\n",
       "    .dataframe thead th {\n",
       "        text-align: right;\n",
       "    }\n",
       "</style>\n",
       "<table border=\"1\" class=\"dataframe\">\n",
       "  <thead>\n",
       "    <tr style=\"text-align: right;\">\n",
       "      <th></th>\n",
       "      <th>country</th>\n",
       "      <th>year</th>\n",
       "      <th>element</th>\n",
       "      <th>item</th>\n",
       "      <th>unit</th>\n",
       "      <th>value</th>\n",
       "      <th>food_supply_stage</th>\n",
       "      <th>commodity</th>\n",
       "      <th>loss_percentage</th>\n",
       "    </tr>\n",
       "  </thead>\n",
       "  <tbody>\n",
       "    <tr>\n",
       "      <th>719</th>\n",
       "      <td>Australia</td>\n",
       "      <td>2013</td>\n",
       "      <td>Carbon Dioxide (CO2)</td>\n",
       "      <td>Food Processing</td>\n",
       "      <td>kt</td>\n",
       "      <td>4314.90</td>\n",
       "      <td>Shelling and processing</td>\n",
       "      <td>Sweet corn, frozen</td>\n",
       "      <td>38.5</td>\n",
       "    </tr>\n",
       "    <tr>\n",
       "      <th>737</th>\n",
       "      <td>Australia</td>\n",
       "      <td>2013</td>\n",
       "      <td>Methane (CH4)</td>\n",
       "      <td>Food Processing</td>\n",
       "      <td>kt</td>\n",
       "      <td>1.84</td>\n",
       "      <td>Shelling and processing</td>\n",
       "      <td>Sweet corn, frozen</td>\n",
       "      <td>38.5</td>\n",
       "    </tr>\n",
       "    <tr>\n",
       "      <th>755</th>\n",
       "      <td>Australia</td>\n",
       "      <td>2013</td>\n",
       "      <td>Nitrous Oxide (N2O)</td>\n",
       "      <td>Food Processing</td>\n",
       "      <td>kt</td>\n",
       "      <td>0.10</td>\n",
       "      <td>Shelling and processing</td>\n",
       "      <td>Sweet corn, frozen</td>\n",
       "      <td>38.5</td>\n",
       "    </tr>\n",
       "    <tr>\n",
       "      <th>769</th>\n",
       "      <td>Australia</td>\n",
       "      <td>2015</td>\n",
       "      <td>Carbon Dioxide (CO2)</td>\n",
       "      <td>Food Household Consumption</td>\n",
       "      <td>kt</td>\n",
       "      <td>4476.58</td>\n",
       "      <td>Households</td>\n",
       "      <td>Sweet corn, frozen</td>\n",
       "      <td>27.0</td>\n",
       "    </tr>\n",
       "    <tr>\n",
       "      <th>776</th>\n",
       "      <td>Australia</td>\n",
       "      <td>2015</td>\n",
       "      <td>Methane (CH4)</td>\n",
       "      <td>Food Household Consumption</td>\n",
       "      <td>kt</td>\n",
       "      <td>0.20</td>\n",
       "      <td>Households</td>\n",
       "      <td>Sweet corn, frozen</td>\n",
       "      <td>27.0</td>\n",
       "    </tr>\n",
       "  </tbody>\n",
       "</table>\n",
       "</div>"
      ],
      "text/plain": [
       "       country  year               element                        item unit  \\\n",
       "719  Australia  2013  Carbon Dioxide (CO2)             Food Processing   kt   \n",
       "737  Australia  2013         Methane (CH4)             Food Processing   kt   \n",
       "755  Australia  2013   Nitrous Oxide (N2O)             Food Processing   kt   \n",
       "769  Australia  2015  Carbon Dioxide (CO2)  Food Household Consumption   kt   \n",
       "776  Australia  2015         Methane (CH4)  Food Household Consumption   kt   \n",
       "\n",
       "       value        food_supply_stage           commodity  loss_percentage  \n",
       "719  4314.90  Shelling and processing  Sweet corn, frozen             38.5  \n",
       "737     1.84  Shelling and processing  Sweet corn, frozen             38.5  \n",
       "755     0.10  Shelling and processing  Sweet corn, frozen             38.5  \n",
       "769  4476.58               Households  Sweet corn, frozen             27.0  \n",
       "776     0.20               Households  Sweet corn, frozen             27.0  "
      ]
     },
     "execution_count": 15,
     "metadata": {},
     "output_type": "execute_result"
    }
   ],
   "source": [
    "# Select top commodities by average loss percentage\n",
    "top_commodities = merged_df.groupby('commodity')['loss_percentage'].mean().nlargest(5).index\n",
    "\n",
    "# Filter the dataset to include only the top commodities\n",
    "filtered_df = merged_df[merged_df['commodity'].isin(top_commodities)]\n",
    "\n",
    "# Display the filtered dataset\n",
    "filtered_df.head()"
   ]
  },
  {
   "cell_type": "code",
   "execution_count": 16,
   "metadata": {},
   "outputs": [
    {
     "data": {
      "text/html": [
       "<div>\n",
       "<style scoped>\n",
       "    .dataframe tbody tr th:only-of-type {\n",
       "        vertical-align: middle;\n",
       "    }\n",
       "\n",
       "    .dataframe tbody tr th {\n",
       "        vertical-align: top;\n",
       "    }\n",
       "\n",
       "    .dataframe thead th {\n",
       "        text-align: right;\n",
       "    }\n",
       "</style>\n",
       "<table border=\"1\" class=\"dataframe\">\n",
       "  <thead>\n",
       "    <tr style=\"text-align: right;\">\n",
       "      <th></th>\n",
       "      <th></th>\n",
       "      <th>count</th>\n",
       "      <th>mean</th>\n",
       "      <th>std</th>\n",
       "      <th>min</th>\n",
       "      <th>25%</th>\n",
       "      <th>50%</th>\n",
       "      <th>75%</th>\n",
       "      <th>max</th>\n",
       "    </tr>\n",
       "    <tr>\n",
       "      <th>food_supply_stage</th>\n",
       "      <th>commodity</th>\n",
       "      <th></th>\n",
       "      <th></th>\n",
       "      <th></th>\n",
       "      <th></th>\n",
       "      <th></th>\n",
       "      <th></th>\n",
       "      <th></th>\n",
       "      <th></th>\n",
       "    </tr>\n",
       "  </thead>\n",
       "  <tbody>\n",
       "    <tr>\n",
       "      <th>Households</th>\n",
       "      <th>Sweet corn, frozen</th>\n",
       "      <td>3.0</td>\n",
       "      <td>27.0</td>\n",
       "      <td>0.0</td>\n",
       "      <td>27.0</td>\n",
       "      <td>27.0</td>\n",
       "      <td>27.0</td>\n",
       "      <td>27.0</td>\n",
       "      <td>27.0</td>\n",
       "    </tr>\n",
       "    <tr>\n",
       "      <th rowspan=\"4\" valign=\"top\">Retail, wholesale and market</th>\n",
       "      <th>Apricots</th>\n",
       "      <td>3.0</td>\n",
       "      <td>30.0</td>\n",
       "      <td>0.0</td>\n",
       "      <td>30.0</td>\n",
       "      <td>30.0</td>\n",
       "      <td>30.0</td>\n",
       "      <td>30.0</td>\n",
       "      <td>30.0</td>\n",
       "    </tr>\n",
       "    <tr>\n",
       "      <th>Plums and sloes</th>\n",
       "      <td>3.0</td>\n",
       "      <td>21.5</td>\n",
       "      <td>0.0</td>\n",
       "      <td>21.5</td>\n",
       "      <td>21.5</td>\n",
       "      <td>21.5</td>\n",
       "      <td>21.5</td>\n",
       "      <td>21.5</td>\n",
       "    </tr>\n",
       "    <tr>\n",
       "      <th>Pumpkins, squash and gourds</th>\n",
       "      <td>3.0</td>\n",
       "      <td>20.6</td>\n",
       "      <td>0.0</td>\n",
       "      <td>20.6</td>\n",
       "      <td>20.6</td>\n",
       "      <td>20.6</td>\n",
       "      <td>20.6</td>\n",
       "      <td>20.6</td>\n",
       "    </tr>\n",
       "    <tr>\n",
       "      <th>Watermelons</th>\n",
       "      <td>3.0</td>\n",
       "      <td>25.4</td>\n",
       "      <td>0.0</td>\n",
       "      <td>25.4</td>\n",
       "      <td>25.4</td>\n",
       "      <td>25.4</td>\n",
       "      <td>25.4</td>\n",
       "      <td>25.4</td>\n",
       "    </tr>\n",
       "    <tr>\n",
       "      <th>Shelling and processing</th>\n",
       "      <th>Sweet corn, frozen</th>\n",
       "      <td>3.0</td>\n",
       "      <td>38.5</td>\n",
       "      <td>0.0</td>\n",
       "      <td>38.5</td>\n",
       "      <td>38.5</td>\n",
       "      <td>38.5</td>\n",
       "      <td>38.5</td>\n",
       "      <td>38.5</td>\n",
       "    </tr>\n",
       "    <tr>\n",
       "      <th>Transport</th>\n",
       "      <th>Pumpkins, squash and gourds</th>\n",
       "      <td>3.0</td>\n",
       "      <td>55.0</td>\n",
       "      <td>0.0</td>\n",
       "      <td>55.0</td>\n",
       "      <td>55.0</td>\n",
       "      <td>55.0</td>\n",
       "      <td>55.0</td>\n",
       "      <td>55.0</td>\n",
       "    </tr>\n",
       "  </tbody>\n",
       "</table>\n",
       "</div>"
      ],
      "text/plain": [
       "                                                          count  mean  std  \\\n",
       "food_supply_stage            commodity                                       \n",
       "Households                   Sweet corn, frozen             3.0  27.0  0.0   \n",
       "Retail, wholesale and market Apricots                       3.0  30.0  0.0   \n",
       "                             Plums and sloes                3.0  21.5  0.0   \n",
       "                             Pumpkins, squash and gourds    3.0  20.6  0.0   \n",
       "                             Watermelons                    3.0  25.4  0.0   \n",
       "Shelling and processing      Sweet corn, frozen             3.0  38.5  0.0   \n",
       "Transport                    Pumpkins, squash and gourds    3.0  55.0  0.0   \n",
       "\n",
       "                                                           min   25%   50%  \\\n",
       "food_supply_stage            commodity                                       \n",
       "Households                   Sweet corn, frozen           27.0  27.0  27.0   \n",
       "Retail, wholesale and market Apricots                     30.0  30.0  30.0   \n",
       "                             Plums and sloes              21.5  21.5  21.5   \n",
       "                             Pumpkins, squash and gourds  20.6  20.6  20.6   \n",
       "                             Watermelons                  25.4  25.4  25.4   \n",
       "Shelling and processing      Sweet corn, frozen           38.5  38.5  38.5   \n",
       "Transport                    Pumpkins, squash and gourds  55.0  55.0  55.0   \n",
       "\n",
       "                                                           75%   max  \n",
       "food_supply_stage            commodity                                \n",
       "Households                   Sweet corn, frozen           27.0  27.0  \n",
       "Retail, wholesale and market Apricots                     30.0  30.0  \n",
       "                             Plums and sloes              21.5  21.5  \n",
       "                             Pumpkins, squash and gourds  20.6  20.6  \n",
       "                             Watermelons                  25.4  25.4  \n",
       "Shelling and processing      Sweet corn, frozen           38.5  38.5  \n",
       "Transport                    Pumpkins, squash and gourds  55.0  55.0  "
      ]
     },
     "execution_count": 16,
     "metadata": {},
     "output_type": "execute_result"
    }
   ],
   "source": [
    "# Summary statistics for loss percentages by commodity and stage\n",
    "summary_stats = filtered_df.groupby(['food_supply_stage', 'commodity'])['loss_percentage'].describe().round(2)\n",
    "summary_stats"
   ]
  },
  {
   "cell_type": "code",
   "execution_count": 17,
   "metadata": {},
   "outputs": [
    {
     "data": {
      "text/html": [
       "<div>\n",
       "<style scoped>\n",
       "    .dataframe tbody tr th:only-of-type {\n",
       "        vertical-align: middle;\n",
       "    }\n",
       "\n",
       "    .dataframe tbody tr th {\n",
       "        vertical-align: top;\n",
       "    }\n",
       "\n",
       "    .dataframe thead th {\n",
       "        text-align: right;\n",
       "    }\n",
       "</style>\n",
       "<table border=\"1\" class=\"dataframe\">\n",
       "  <thead>\n",
       "    <tr style=\"text-align: right;\">\n",
       "      <th>commodity</th>\n",
       "      <th>Apricots</th>\n",
       "      <th>Plums and sloes</th>\n",
       "      <th>Pumpkins, squash and gourds</th>\n",
       "      <th>Sweet corn, frozen</th>\n",
       "      <th>Watermelons</th>\n",
       "    </tr>\n",
       "    <tr>\n",
       "      <th>food_supply_stage</th>\n",
       "      <th></th>\n",
       "      <th></th>\n",
       "      <th></th>\n",
       "      <th></th>\n",
       "      <th></th>\n",
       "    </tr>\n",
       "  </thead>\n",
       "  <tbody>\n",
       "    <tr>\n",
       "      <th>Households</th>\n",
       "      <td>NaN</td>\n",
       "      <td>NaN</td>\n",
       "      <td>NaN</td>\n",
       "      <td>27.0</td>\n",
       "      <td>NaN</td>\n",
       "    </tr>\n",
       "    <tr>\n",
       "      <th>Retail, wholesale and market</th>\n",
       "      <td>30.0</td>\n",
       "      <td>21.5</td>\n",
       "      <td>20.6</td>\n",
       "      <td>NaN</td>\n",
       "      <td>25.4</td>\n",
       "    </tr>\n",
       "    <tr>\n",
       "      <th>Shelling and processing</th>\n",
       "      <td>NaN</td>\n",
       "      <td>NaN</td>\n",
       "      <td>NaN</td>\n",
       "      <td>38.5</td>\n",
       "      <td>NaN</td>\n",
       "    </tr>\n",
       "    <tr>\n",
       "      <th>Transport</th>\n",
       "      <td>NaN</td>\n",
       "      <td>NaN</td>\n",
       "      <td>55.0</td>\n",
       "      <td>NaN</td>\n",
       "      <td>NaN</td>\n",
       "    </tr>\n",
       "  </tbody>\n",
       "</table>\n",
       "</div>"
      ],
      "text/plain": [
       "commodity                     Apricots  Plums and sloes  \\\n",
       "food_supply_stage                                         \n",
       "Households                         NaN              NaN   \n",
       "Retail, wholesale and market      30.0             21.5   \n",
       "Shelling and processing            NaN              NaN   \n",
       "Transport                          NaN              NaN   \n",
       "\n",
       "commodity                     Pumpkins, squash and gourds  Sweet corn, frozen  \\\n",
       "food_supply_stage                                                               \n",
       "Households                                            NaN                27.0   \n",
       "Retail, wholesale and market                         20.6                 NaN   \n",
       "Shelling and processing                               NaN                38.5   \n",
       "Transport                                            55.0                 NaN   \n",
       "\n",
       "commodity                     Watermelons  \n",
       "food_supply_stage                          \n",
       "Households                            NaN  \n",
       "Retail, wholesale and market         25.4  \n",
       "Shelling and processing               NaN  \n",
       "Transport                             NaN  "
      ]
     },
     "execution_count": 17,
     "metadata": {},
     "output_type": "execute_result"
    }
   ],
   "source": [
    "# Pivot table for average loss percentage by commodity and stage\n",
    "pivot_table_loss_percentage = filtered_df.pivot_table(index='food_supply_stage', columns='commodity', values='loss_percentage', aggfunc='mean').round(2)\n",
    "\n",
    "pivot_table_loss_percentage"
   ]
  },
  {
   "cell_type": "code",
   "execution_count": 18,
   "metadata": {},
   "outputs": [
    {
     "data": {
      "image/png": "[encoded data removed]",
      "text/plain": [
       "<Figure size 1400x800 with 1 Axes>"
      ]
     },
     "metadata": {},
     "output_type": "display_data"
    }
   ],
   "source": [
    "# Bar plot for average loss percentage by commodity and stage\n",
    "plt.figure(figsize=(14, 8))\n",
    "sns.barplot(x='loss_percentage', y='commodity', hue='food_supply_stage', data=filtered_df, palette='viridis')\n",
    "plt.title('Average Loss Percentage by Commodity and Food Supply Stage')\n",
    "plt.xlabel('Average Loss Percentage')\n",
    "plt.ylabel('Commodity')\n",
    "plt.legend(title='Food Supply Stage', bbox_to_anchor=(1.05, 1), loc='upper left')\n",
    "plt.tight_layout()\n",
    "plt.show()"
   ]
  },
  {
   "cell_type": "code",
   "execution_count": 19,
   "metadata": {},
   "outputs": [
    {
     "data": {
      "image/png": "[encoded data removed]",
      "text/plain": [
       "<Figure size 1400x800 with 2 Axes>"
      ]
     },
     "metadata": {},
     "output_type": "display_data"
    }
   ],
   "source": [
    "# Heatmap for average loss percentage by commodity and stage\n",
    "plt.figure(figsize=(14, 8))\n",
    "sns.heatmap(pivot_table_loss_percentage, annot=True, cmap='YlGnBu', fmt='.2f')\n",
    "plt.title('Heatmap of Average Loss Percentage by Commodity and Food Supply Stage')\n",
    "plt.xlabel('Commodity')\n",
    "plt.ylabel('Food Supply Stage')\n",
    "plt.tight_layout()\n",
    "plt.show()"
   ]
  },
  {
   "cell_type": "code",
   "execution_count": 20,
   "metadata": {},
   "outputs": [
    {
     "data": {
      "application/vnd.plotly.v1+json": {
       "config": {
        "plotlyServerURL": "https://plot.ly"
       },
       "data": [
        {
         "alignmentgroup": "True",
         "hovertemplate": "Food Supply Stage=Shelling and processing<br>Average Loss Percentage=%{x}<br>Commodity=%{y}<extra></extra>",
         "legendgroup": "Shelling and processing",
         "marker": {
          "color": "#636efa",
          "pattern": {
           "shape": ""
          }
         },
         "name": "Shelling and processing",
         "offsetgroup": "Shelling and processing",
         "orientation": "h",
         "showlegend": true,
         "textposition": "auto",
         "type": "bar",
         "x": [
          38.5,
          38.5,
          38.5
         ],
         "xaxis": "x",
         "y": [
          "Sweet corn, frozen",
          "Sweet corn, frozen",
          "Sweet corn, frozen"
         ],
         "yaxis": "y"
        },
        {
         "alignmentgroup": "True",
         "hovertemplate": "Food Supply Stage=Households<br>Average Loss Percentage=%{x}<br>Commodity=%{y}<extra></extra>",
         "legendgroup": "Households",
         "marker": {
          "color": "#EF553B",
          "pattern": {
           "shape": ""
          }
         },
         "name": "Households",
         "offsetgroup": "Households",
         "orientation": "h",
         "showlegend": true,
         "textposition": "auto",
         "type": "bar",
         "x": [
          27,
          27,
          27
         ],
         "xaxis": "x",
         "y": [
          "Sweet corn, frozen",
          "Sweet corn, frozen",
          "Sweet corn, frozen"
         ],
         "yaxis": "y"
        },
        {
         "alignmentgroup": "True",
         "hovertemplate": "Food Supply Stage=Retail, wholesale and market<br>Average Loss Percentage=%{x}<br>Commodity=%{y}<extra></extra>",
         "legendgroup": "Retail, wholesale and market",
         "marker": {
          "color": "#00cc96",
          "pattern": {
           "shape": ""
          }
         },
         "name": "Retail, wholesale and market",
         "offsetgroup": "Retail, wholesale and market",
         "orientation": "h",
         "showlegend": true,
         "textposition": "auto",
         "type": "bar",
         "x": [
          21.5,
          21.5,
          21.5,
          30,
          20.6,
          25.4,
          30,
          20.6,
          25.4,
          30,
          20.6,
          25.4
         ],
         "xaxis": "x",
         "y": [
          "Plums and sloes",
          "Plums and sloes",
          "Plums and sloes",
          "Apricots",
          "Pumpkins, squash and gourds",
          "Watermelons",
          "Apricots",
          "Pumpkins, squash and gourds",
          "Watermelons",
          "Apricots",
          "Pumpkins, squash and gourds",
          "Watermelons"
         ],
         "yaxis": "y"
        },
        {
         "alignmentgroup": "True",
         "hovertemplate": "Food Supply Stage=Transport<br>Average Loss Percentage=%{x}<br>Commodity=%{y}<extra></extra>",
         "legendgroup": "Transport",
         "marker": {
          "color": "#ab63fa",
          "pattern": {
           "shape": ""
          }
         },
         "name": "Transport",
         "offsetgroup": "Transport",
         "orientation": "h",
         "showlegend": true,
         "textposition": "auto",
         "type": "bar",
         "x": [
          55,
          55,
          55
         ],
         "xaxis": "x",
         "y": [
          "Pumpkins, squash and gourds",
          "Pumpkins, squash and gourds",
          "Pumpkins, squash and gourds"
         ],
         "yaxis": "y"
        }
       ],
       "layout": {
        "barmode": "group",
        "legend": {
         "title": {
          "text": "Food Supply Stage"
         },
         "tracegroupgap": 0
        },
        "template": {
         "data": {
          "bar": [
           {
            "error_x": {
             "color": "#2a3f5f"
            },
            "error_y": {
             "color": "#2a3f5f"
            },
            "marker": {
             "line": {
              "color": "#E5ECF6",
              "width": 0.5
             },
             "pattern": {
              "fillmode": "overlay",
              "size": 10,
              "solidity": 0.2
             }
            },
            "type": "bar"
           }
          ],
          "barpolar": [
           {
            "marker": {
             "line": {
              "color": "#E5ECF6",
              "width": 0.5
             },
             "pattern": {
              "fillmode": "overlay",
              "size": 10,
              "solidity": 0.2
             }
            },
            "type": "barpolar"
           }
          ],
          "carpet": [
           {
            "aaxis": {
             "endlinecolor": "#2a3f5f",
             "gridcolor": "white",
             "linecolor": "white",
             "minorgridcolor": "white",
             "startlinecolor": "#2a3f5f"
            },
            "baxis": {
             "endlinecolor": "#2a3f5f",
             "gridcolor": "white",
             "linecolor": "white",
             "minorgridcolor": "white",
             "startlinecolor": "#2a3f5f"
            },
            "type": "carpet"
           }
          ],
          "choropleth": [
           {
            "colorbar": {
             "outlinewidth": 0,
             "ticks": ""
            },
            "type": "choropleth"
           }
          ],
          "contour": [
           {
            "colorbar": {
             "outlinewidth": 0,
             "ticks": ""
            },
            "colorscale": [
             [
              0,
              "#0d0887"
             ],
             [
              0.1111111111111111,
              "#46039f"
             ],
             [
              0.2222222222222222,
              "#7201a8"
             ],
             [
              0.3333333333333333,
              "#9c179e"
             ],
             [
              0.4444444444444444,
              "#bd3786"
             ],
             [
              0.5555555555555556,
              "#d8576b"
             ],
             [
              0.6666666666666666,
              "#ed7953"
             ],
             [
              0.7777777777777778,
              "#fb9f3a"
             ],
             [
              0.8888888888888888,
              "#fdca26"
             ],
             [
              1,
              "#f0f921"
             ]
            ],
            "type": "contour"
           }
          ],
          "contourcarpet": [
           {
            "colorbar": {
             "outlinewidth": 0,
             "ticks": ""
            },
            "type": "contourcarpet"
           }
          ],
          "heatmap": [
           {
            "colorbar": {
             "outlinewidth": 0,
             "ticks": ""
            },
            "colorscale": [
             [
              0,
              "#0d0887"
             ],
             [
              0.1111111111111111,
              "#46039f"
             ],
             [
              0.2222222222222222,
              "#7201a8"
             ],
             [
              0.3333333333333333,
              "#9c179e"
             ],
             [
              0.4444444444444444,
              "#bd3786"
             ],
             [
              0.5555555555555556,
              "#d8576b"
             ],
             [
              0.6666666666666666,
              "#ed7953"
             ],
             [
              0.7777777777777778,
              "#fb9f3a"
             ],
             [
              0.8888888888888888,
              "#fdca26"
             ],
             [
              1,
              "#f0f921"
             ]
            ],
            "type": "heatmap"
           }
          ],
          "heatmapgl": [
           {
            "colorbar": {
             "outlinewidth": 0,
             "ticks": ""
            },
            "colorscale": [
             [
              0,
              "#0d0887"
             ],
             [
              0.1111111111111111,
              "#46039f"
             ],
             [
              0.2222222222222222,
              "#7201a8"
             ],
             [
              0.3333333333333333,
              "#9c179e"
             ],
             [
              0.4444444444444444,
              "#bd3786"
             ],
             [
              0.5555555555555556,
              "#d8576b"
             ],
             [
              0.6666666666666666,
              "#ed7953"
             ],
             [
              0.7777777777777778,
              "#fb9f3a"
             ],
             [
              0.8888888888888888,
              "#fdca26"
             ],
             [
              1,
              "#f0f921"
             ]
            ],
            "type": "heatmapgl"
           }
          ],
          "histogram": [
           {
            "marker": {
             "pattern": {
              "fillmode": "overlay",
              "size": 10,
              "solidity": 0.2
             }
            },
            "type": "histogram"
           }
          ],
          "histogram2d": [
           {
            "colorbar": {
             "outlinewidth": 0,
             "ticks": ""
            },
            "colorscale": [
             [
              0,
              "#0d0887"
             ],
             [
              0.1111111111111111,
              "#46039f"
             ],
             [
              0.2222222222222222,
              "#7201a8"
             ],
             [
              0.3333333333333333,
              "#9c179e"
             ],
             [
              0.4444444444444444,
              "#bd3786"
             ],
             [
              0.5555555555555556,
              "#d8576b"
             ],
             [
              0.6666666666666666,
              "#ed7953"
             ],
             [
              0.7777777777777778,
              "#fb9f3a"
             ],
             [
              0.8888888888888888,
              "#fdca26"
             ],
             [
              1,
              "#f0f921"
             ]
            ],
            "type": "histogram2d"
           }
          ],
          "histogram2dcontour": [
           {
            "colorbar": {
             "outlinewidth": 0,
             "ticks": ""
            },
            "colorscale": [
             [
              0,
              "#0d0887"
             ],
             [
              0.1111111111111111,
              "#46039f"
             ],
             [
              0.2222222222222222,
              "#7201a8"
             ],
             [
              0.3333333333333333,
              "#9c179e"
             ],
             [
              0.4444444444444444,
              "#bd3786"
             ],
             [
              0.5555555555555556,
              "#d8576b"
             ],
             [
              0.6666666666666666,
              "#ed7953"
             ],
             [
              0.7777777777777778,
              "#fb9f3a"
             ],
             [
              0.8888888888888888,
              "#fdca26"
             ],
             [
              1,
              "#f0f921"
             ]
            ],
            "type": "histogram2dcontour"
           }
          ],
          "mesh3d": [
           {
            "colorbar": {
             "outlinewidth": 0,
             "ticks": ""
            },
            "type": "mesh3d"
           }
          ],
          "parcoords": [
           {
            "line": {
             "colorbar": {
              "outlinewidth": 0,
              "ticks": ""
             }
            },
            "type": "parcoords"
           }
          ],
          "pie": [
           {
            "automargin": true,
            "type": "pie"
           }
          ],
          "scatter": [
           {
            "fillpattern": {
             "fillmode": "overlay",
             "size": 10,
             "solidity": 0.2
            },
            "type": "scatter"
           }
          ],
          "scatter3d": [
           {
            "line": {
             "colorbar": {
              "outlinewidth": 0,
              "ticks": ""
             }
            },
            "marker": {
             "colorbar": {
              "outlinewidth": 0,
              "ticks": ""
             }
            },
            "type": "scatter3d"
           }
          ],
          "scattercarpet": [
           {
            "marker": {
             "colorbar": {
              "outlinewidth": 0,
              "ticks": ""
             }
            },
            "type": "scattercarpet"
           }
          ],
          "scattergeo": [
           {
            "marker": {
             "colorbar": {
              "outlinewidth": 0,
              "ticks": ""
             }
            },
            "type": "scattergeo"
           }
          ],
          "scattergl": [
           {
            "marker": {
             "colorbar": {
              "outlinewidth": 0,
              "ticks": ""
             }
            },
            "type": "scattergl"
           }
          ],
          "scattermapbox": [
           {
            "marker": {
             "colorbar": {
              "outlinewidth": 0,
              "ticks": ""
             }
            },
            "type": "scattermapbox"
           }
          ],
          "scatterpolar": [
           {
            "marker": {
             "colorbar": {
              "outlinewidth": 0,
              "ticks": ""
             }
            },
            "type": "scatterpolar"
           }
          ],
          "scatterpolargl": [
           {
            "marker": {
             "colorbar": {
              "outlinewidth": 0,
              "ticks": ""
             }
            },
            "type": "scatterpolargl"
           }
          ],
          "scatterternary": [
           {
            "marker": {
             "colorbar": {
              "outlinewidth": 0,
              "ticks": ""
             }
            },
            "type": "scatterternary"
           }
          ],
          "surface": [
           {
            "colorbar": {
             "outlinewidth": 0,
             "ticks": ""
            },
            "colorscale": [
             [
              0,
              "#0d0887"
             ],
             [
              0.1111111111111111,
              "#46039f"
             ],
             [
              0.2222222222222222,
              "#7201a8"
             ],
             [
              0.3333333333333333,
              "#9c179e"
             ],
             [
              0.4444444444444444,
              "#bd3786"
             ],
             [
              0.5555555555555556,
              "#d8576b"
             ],
             [
              0.6666666666666666,
              "#ed7953"
             ],
             [
              0.7777777777777778,
              "#fb9f3a"
             ],
             [
              0.8888888888888888,
              "#fdca26"
             ],
             [
              1,
              "#f0f921"
             ]
            ],
            "type": "surface"
           }
          ],
          "table": [
           {
            "cells": {
             "fill": {
              "color": "#EBF0F8"
             },
             "line": {
              "color": "white"
             }
            },
            "header": {
             "fill": {
              "color": "#C8D4E3"
             },
             "line": {
              "color": "white"
             }
            },
            "type": "table"
           }
          ]
         },
         "layout": {
          "annotationdefaults": {
           "arrowcolor": "#2a3f5f",
           "arrowhead": 0,
           "arrowwidth": 1
          },
          "autotypenumbers": "strict",
          "coloraxis": {
           "colorbar": {
            "outlinewidth": 0,
            "ticks": ""
           }
          },
          "colorscale": {
           "diverging": [
            [
             0,
             "#8e0152"
            ],
            [
             0.1,
             "#c51b7d"
            ],
            [
             0.2,
             "#de77ae"
            ],
            [
             0.3,
             "#f1b6da"
            ],
            [
             0.4,
             "#fde0ef"
            ],
            [
             0.5,
             "#f7f7f7"
            ],
            [
             0.6,
             "#e6f5d0"
            ],
            [
             0.7,
             "#b8e186"
            ],
            [
             0.8,
             "#7fbc41"
            ],
            [
             0.9,
             "#4d9221"
            ],
            [
             1,
             "#276419"
            ]
           ],
           "sequential": [
            [
             0,
             "#0d0887"
            ],
            [
             0.1111111111111111,
             "#46039f"
            ],
            [
             0.2222222222222222,
             "#7201a8"
            ],
            [
             0.3333333333333333,
             "#9c179e"
            ],
            [
             0.4444444444444444,
             "#bd3786"
            ],
            [
             0.5555555555555556,
             "#d8576b"
            ],
            [
             0.6666666666666666,
             "#ed7953"
            ],
            [
             0.7777777777777778,
             "#fb9f3a"
            ],
            [
             0.8888888888888888,
             "#fdca26"
            ],
            [
             1,
             "#f0f921"
            ]
           ],
           "sequentialminus": [
            [
             0,
             "#0d0887"
            ],
            [
             0.1111111111111111,
             "#46039f"
            ],
            [
             0.2222222222222222,
             "#7201a8"
            ],
            [
             0.3333333333333333,
             "#9c179e"
            ],
            [
             0.4444444444444444,
             "#bd3786"
            ],
            [
             0.5555555555555556,
             "#d8576b"
            ],
            [
             0.6666666666666666,
             "#ed7953"
            ],
            [
             0.7777777777777778,
             "#fb9f3a"
            ],
            [
             0.8888888888888888,
             "#fdca26"
            ],
            [
             1,
             "#f0f921"
            ]
           ]
          },
          "colorway": [
           "#636efa",
           "#EF553B",
           "#00cc96",
           "#ab63fa",
           "#FFA15A",
           "#19d3f3",
           "#FF6692",
           "#B6E880",
           "#FF97FF",
           "#FECB52"
          ],
          "font": {
           "color": "#2a3f5f"
          },
          "geo": {
           "bgcolor": "white",
           "lakecolor": "white",
           "landcolor": "#E5ECF6",
           "showlakes": true,
           "showland": true,
           "subunitcolor": "white"
          },
          "hoverlabel": {
           "align": "left"
          },
          "hovermode": "closest",
          "mapbox": {
           "style": "light"
          },
          "paper_bgcolor": "white",
          "plot_bgcolor": "#E5ECF6",
          "polar": {
           "angularaxis": {
            "gridcolor": "white",
            "linecolor": "white",
            "ticks": ""
           },
           "bgcolor": "#E5ECF6",
           "radialaxis": {
            "gridcolor": "white",
            "linecolor": "white",
            "ticks": ""
           }
          },
          "scene": {
           "xaxis": {
            "backgroundcolor": "#E5ECF6",
            "gridcolor": "white",
            "gridwidth": 2,
            "linecolor": "white",
            "showbackground": true,
            "ticks": "",
            "zerolinecolor": "white"
           },
           "yaxis": {
            "backgroundcolor": "#E5ECF6",
            "gridcolor": "white",
            "gridwidth": 2,
            "linecolor": "white",
            "showbackground": true,
            "ticks": "",
            "zerolinecolor": "white"
           },
           "zaxis": {
            "backgroundcolor": "#E5ECF6",
            "gridcolor": "white",
            "gridwidth": 2,
            "linecolor": "white",
            "showbackground": true,
            "ticks": "",
            "zerolinecolor": "white"
           }
          },
          "shapedefaults": {
           "line": {
            "color": "#2a3f5f"
           }
          },
          "ternary": {
           "aaxis": {
            "gridcolor": "white",
            "linecolor": "white",
            "ticks": ""
           },
           "baxis": {
            "gridcolor": "white",
            "linecolor": "white",
            "ticks": ""
           },
           "bgcolor": "#E5ECF6",
           "caxis": {
            "gridcolor": "white",
            "linecolor": "white",
            "ticks": ""
           }
          },
          "title": {
           "x": 0.05
          },
          "xaxis": {
           "automargin": true,
           "gridcolor": "white",
           "linecolor": "white",
           "ticks": "",
           "title": {
            "standoff": 15
           },
           "zerolinecolor": "white",
           "zerolinewidth": 2
          },
          "yaxis": {
           "automargin": true,
           "gridcolor": "white",
           "linecolor": "white",
           "ticks": "",
           "title": {
            "standoff": 15
           },
           "zerolinecolor": "white",
           "zerolinewidth": 2
          }
         }
        },
        "title": {
         "text": "Average Loss Percentage by Commodity and Food Supply Stage"
        },
        "xaxis": {
         "anchor": "y",
         "domain": [
          0,
          1
         ],
         "title": {
          "text": "Average Loss Percentage"
         }
        },
        "yaxis": {
         "anchor": "x",
         "domain": [
          0,
          1
         ],
         "title": {
          "text": "Commodity"
         }
        }
       }
      }
     },
     "metadata": {},
     "output_type": "display_data"
    }
   ],
   "source": [
    "# Bar plot for average loss percentage by commodity and stage\n",
    "fig = px.bar(filtered_df, x='loss_percentage', y='commodity', color='food_supply_stage', barmode='group',\n",
    "             title='Average Loss Percentage by Commodity and Food Supply Stage',\n",
    "             labels={'loss_percentage': 'Average Loss Percentage', 'commodity': 'Commodity', 'food_supply_stage': 'Food Supply Stage'})\n",
    "fig.show()"
   ]
  },
  {
   "cell_type": "code",
   "execution_count": 21,
   "metadata": {},
   "outputs": [
    {
     "data": {
      "application/vnd.plotly.v1+json": {
       "config": {
        "plotlyServerURL": "https://plot.ly"
       },
       "data": [
        {
         "coloraxis": "coloraxis",
         "histfunc": "sum",
         "hovertemplate": "Commodity=%{x}<br>Food Supply Stage=%{y}<br>sum of Average Loss Percentage=%{z}<extra></extra>",
         "name": "",
         "type": "histogram2d",
         "x": [
          "Apricots",
          "Apricots",
          "Apricots",
          "Apricots",
          "Plums and sloes",
          "Plums and sloes",
          "Plums and sloes",
          "Plums and sloes",
          "Pumpkins, squash and gourds",
          "Pumpkins, squash and gourds",
          "Pumpkins, squash and gourds",
          "Pumpkins, squash and gourds",
          "Sweet corn, frozen",
          "Sweet corn, frozen",
          "Sweet corn, frozen",
          "Sweet corn, frozen",
          "Watermelons",
          "Watermelons",
          "Watermelons",
          "Watermelons"
         ],
         "xaxis": "x",
         "xbingroup": "x",
         "y": [
          "Households",
          "Retail, wholesale and market",
          "Shelling and processing",
          "Transport",
          "Households",
          "Retail, wholesale and market",
          "Shelling and processing",
          "Transport",
          "Households",
          "Retail, wholesale and market",
          "Shelling and processing",
          "Transport",
          "Households",
          "Retail, wholesale and market",
          "Shelling and processing",
          "Transport",
          "Households",
          "Retail, wholesale and market",
          "Shelling and processing",
          "Transport"
         ],
         "yaxis": "y",
         "ybingroup": "y",
         "z": [
          null,
          30,
          null,
          null,
          null,
          21.5,
          null,
          null,
          null,
          20.6,
          null,
          55,
          27,
          null,
          38.5,
          null,
          null,
          25.4,
          null,
          null
         ]
        }
       ],
       "layout": {
        "coloraxis": {
         "colorbar": {
          "title": {
           "text": "sum of Average Loss Percentage"
          }
         },
         "colorscale": [
          [
           0,
           "#440154"
          ],
          [
           0.1111111111111111,
           "#482878"
          ],
          [
           0.2222222222222222,
           "#3e4989"
          ],
          [
           0.3333333333333333,
           "#31688e"
          ],
          [
           0.4444444444444444,
           "#26828e"
          ],
          [
           0.5555555555555556,
           "#1f9e89"
          ],
          [
           0.6666666666666666,
           "#35b779"
          ],
          [
           0.7777777777777778,
           "#6ece58"
          ],
          [
           0.8888888888888888,
           "#b5de2b"
          ],
          [
           1,
           "#fde725"
          ]
         ]
        },
        "legend": {
         "tracegroupgap": 0
        },
        "template": {
         "data": {
          "bar": [
           {
            "error_x": {
             "color": "#2a3f5f"
            },
            "error_y": {
             "color": "#2a3f5f"
            },
            "marker": {
             "line": {
              "color": "#E5ECF6",
              "width": 0.5
             },
             "pattern": {
              "fillmode": "overlay",
              "size": 10,
              "solidity": 0.2
             }
            },
            "type": "bar"
           }
          ],
          "barpolar": [
           {
            "marker": {
             "line": {
              "color": "#E5ECF6",
              "width": 0.5
             },
             "pattern": {
              "fillmode": "overlay",
              "size": 10,
              "solidity": 0.2
             }
            },
            "type": "barpolar"
           }
          ],
          "carpet": [
           {
            "aaxis": {
             "endlinecolor": "#2a3f5f",
             "gridcolor": "white",
             "linecolor": "white",
             "minorgridcolor": "white",
             "startlinecolor": "#2a3f5f"
            },
            "baxis": {
             "endlinecolor": "#2a3f5f",
             "gridcolor": "white",
             "linecolor": "white",
             "minorgridcolor": "white",
             "startlinecolor": "#2a3f5f"
            },
            "type": "carpet"
           }
          ],
          "choropleth": [
           {
            "colorbar": {
             "outlinewidth": 0,
             "ticks": ""
            },
            "type": "choropleth"
           }
          ],
          "contour": [
           {
            "colorbar": {
             "outlinewidth": 0,
             "ticks": ""
            },
            "colorscale": [
             [
              0,
              "#0d0887"
             ],
             [
              0.1111111111111111,
              "#46039f"
             ],
             [
              0.2222222222222222,
              "#7201a8"
             ],
             [
              0.3333333333333333,
              "#9c179e"
             ],
             [
              0.4444444444444444,
              "#bd3786"
             ],
             [
              0.5555555555555556,
              "#d8576b"
             ],
             [
              0.6666666666666666,
              "#ed7953"
             ],
             [
              0.7777777777777778,
              "#fb9f3a"
             ],
             [
              0.8888888888888888,
              "#fdca26"
             ],
             [
              1,
              "#f0f921"
             ]
            ],
            "type": "contour"
           }
          ],
          "contourcarpet": [
           {
            "colorbar": {
             "outlinewidth": 0,
             "ticks": ""
            },
            "type": "contourcarpet"
           }
          ],
          "heatmap": [
           {
            "colorbar": {
             "outlinewidth": 0,
             "ticks": ""
            },
            "colorscale": [
             [
              0,
              "#0d0887"
             ],
             [
              0.1111111111111111,
              "#46039f"
             ],
             [
              0.2222222222222222,
              "#7201a8"
             ],
             [
              0.3333333333333333,
              "#9c179e"
             ],
             [
              0.4444444444444444,
              "#bd3786"
             ],
             [
              0.5555555555555556,
              "#d8576b"
             ],
             [
              0.6666666666666666,
              "#ed7953"
             ],
             [
              0.7777777777777778,
              "#fb9f3a"
             ],
             [
              0.8888888888888888,
              "#fdca26"
             ],
             [
              1,
              "#f0f921"
             ]
            ],
            "type": "heatmap"
           }
          ],
          "heatmapgl": [
           {
            "colorbar": {
             "outlinewidth": 0,
             "ticks": ""
            },
            "colorscale": [
             [
              0,
              "#0d0887"
             ],
             [
              0.1111111111111111,
              "#46039f"
             ],
             [
              0.2222222222222222,
              "#7201a8"
             ],
             [
              0.3333333333333333,
              "#9c179e"
             ],
             [
              0.4444444444444444,
              "#bd3786"
             ],
             [
              0.5555555555555556,
              "#d8576b"
             ],
             [
              0.6666666666666666,
              "#ed7953"
             ],
             [
              0.7777777777777778,
              "#fb9f3a"
             ],
             [
              0.8888888888888888,
              "#fdca26"
             ],
             [
              1,
              "#f0f921"
             ]
            ],
            "type": "heatmapgl"
           }
          ],
          "histogram": [
           {
            "marker": {
             "pattern": {
              "fillmode": "overlay",
              "size": 10,
              "solidity": 0.2
             }
            },
            "type": "histogram"
           }
          ],
          "histogram2d": [
           {
            "colorbar": {
             "outlinewidth": 0,
             "ticks": ""
            },
            "colorscale": [
             [
              0,
              "#0d0887"
             ],
             [
              0.1111111111111111,
              "#46039f"
             ],
             [
              0.2222222222222222,
              "#7201a8"
             ],
             [
              0.3333333333333333,
              "#9c179e"
             ],
             [
              0.4444444444444444,
              "#bd3786"
             ],
             [
              0.5555555555555556,
              "#d8576b"
             ],
             [
              0.6666666666666666,
              "#ed7953"
             ],
             [
              0.7777777777777778,
              "#fb9f3a"
             ],
             [
              0.8888888888888888,
              "#fdca26"
             ],
             [
              1,
              "#f0f921"
             ]
            ],
            "type": "histogram2d"
           }
          ],
          "histogram2dcontour": [
           {
            "colorbar": {
             "outlinewidth": 0,
             "ticks": ""
            },
            "colorscale": [
             [
              0,
              "#0d0887"
             ],
             [
              0.1111111111111111,
              "#46039f"
             ],
             [
              0.2222222222222222,
              "#7201a8"
             ],
             [
              0.3333333333333333,
              "#9c179e"
             ],
             [
              0.4444444444444444,
              "#bd3786"
             ],
             [
              0.5555555555555556,
              "#d8576b"
             ],
             [
              0.6666666666666666,
              "#ed7953"
             ],
             [
              0.7777777777777778,
              "#fb9f3a"
             ],
             [
              0.8888888888888888,
              "#fdca26"
             ],
             [
              1,
              "#f0f921"
             ]
            ],
            "type": "histogram2dcontour"
           }
          ],
          "mesh3d": [
           {
            "colorbar": {
             "outlinewidth": 0,
             "ticks": ""
            },
            "type": "mesh3d"
           }
          ],
          "parcoords": [
           {
            "line": {
             "colorbar": {
              "outlinewidth": 0,
              "ticks": ""
             }
            },
            "type": "parcoords"
           }
          ],
          "pie": [
           {
            "automargin": true,
            "type": "pie"
           }
          ],
          "scatter": [
           {
            "fillpattern": {
             "fillmode": "overlay",
             "size": 10,
             "solidity": 0.2
            },
            "type": "scatter"
           }
          ],
          "scatter3d": [
           {
            "line": {
             "colorbar": {
              "outlinewidth": 0,
              "ticks": ""
             }
            },
            "marker": {
             "colorbar": {
              "outlinewidth": 0,
              "ticks": ""
             }
            },
            "type": "scatter3d"
           }
          ],
          "scattercarpet": [
           {
            "marker": {
             "colorbar": {
              "outlinewidth": 0,
              "ticks": ""
             }
            },
            "type": "scattercarpet"
           }
          ],
          "scattergeo": [
           {
            "marker": {
             "colorbar": {
              "outlinewidth": 0,
              "ticks": ""
             }
            },
            "type": "scattergeo"
           }
          ],
          "scattergl": [
           {
            "marker": {
             "colorbar": {
              "outlinewidth": 0,
              "ticks": ""
             }
            },
            "type": "scattergl"
           }
          ],
          "scattermapbox": [
           {
            "marker": {
             "colorbar": {
              "outlinewidth": 0,
              "ticks": ""
             }
            },
            "type": "scattermapbox"
           }
          ],
          "scatterpolar": [
           {
            "marker": {
             "colorbar": {
              "outlinewidth": 0,
              "ticks": ""
             }
            },
            "type": "scatterpolar"
           }
          ],
          "scatterpolargl": [
           {
            "marker": {
             "colorbar": {
              "outlinewidth": 0,
              "ticks": ""
             }
            },
            "type": "scatterpolargl"
           }
          ],
          "scatterternary": [
           {
            "marker": {
             "colorbar": {
              "outlinewidth": 0,
              "ticks": ""
             }
            },
            "type": "scatterternary"
           }
          ],
          "surface": [
           {
            "colorbar": {
             "outlinewidth": 0,
             "ticks": ""
            },
            "colorscale": [
             [
              0,
              "#0d0887"
             ],
             [
              0.1111111111111111,
              "#46039f"
             ],
             [
              0.2222222222222222,
              "#7201a8"
             ],
             [
              0.3333333333333333,
              "#9c179e"
             ],
             [
              0.4444444444444444,
              "#bd3786"
             ],
             [
              0.5555555555555556,
              "#d8576b"
             ],
             [
              0.6666666666666666,
              "#ed7953"
             ],
             [
              0.7777777777777778,
              "#fb9f3a"
             ],
             [
              0.8888888888888888,
              "#fdca26"
             ],
             [
              1,
              "#f0f921"
             ]
            ],
            "type": "surface"
           }
          ],
          "table": [
           {
            "cells": {
             "fill": {
              "color": "#EBF0F8"
             },
             "line": {
              "color": "white"
             }
            },
            "header": {
             "fill": {
              "color": "#C8D4E3"
             },
             "line": {
              "color": "white"
             }
            },
            "type": "table"
           }
          ]
         },
         "layout": {
          "annotationdefaults": {
           "arrowcolor": "#2a3f5f",
           "arrowhead": 0,
           "arrowwidth": 1
          },
          "autotypenumbers": "strict",
          "coloraxis": {
           "colorbar": {
            "outlinewidth": 0,
            "ticks": ""
           }
          },
          "colorscale": {
           "diverging": [
            [
             0,
             "#8e0152"
            ],
            [
             0.1,
             "#c51b7d"
            ],
            [
             0.2,
             "#de77ae"
            ],
            [
             0.3,
             "#f1b6da"
            ],
            [
             0.4,
             "#fde0ef"
            ],
            [
             0.5,
             "#f7f7f7"
            ],
            [
             0.6,
             "#e6f5d0"
            ],
            [
             0.7,
             "#b8e186"
            ],
            [
             0.8,
             "#7fbc41"
            ],
            [
             0.9,
             "#4d9221"
            ],
            [
             1,
             "#276419"
            ]
           ],
           "sequential": [
            [
             0,
             "#0d0887"
            ],
            [
             0.1111111111111111,
             "#46039f"
            ],
            [
             0.2222222222222222,
             "#7201a8"
            ],
            [
             0.3333333333333333,
             "#9c179e"
            ],
            [
             0.4444444444444444,
             "#bd3786"
            ],
            [
             0.5555555555555556,
             "#d8576b"
            ],
            [
             0.6666666666666666,
             "#ed7953"
            ],
            [
             0.7777777777777778,
             "#fb9f3a"
            ],
            [
             0.8888888888888888,
             "#fdca26"
            ],
            [
             1,
             "#f0f921"
            ]
           ],
           "sequentialminus": [
            [
             0,
             "#0d0887"
            ],
            [
             0.1111111111111111,
             "#46039f"
            ],
            [
             0.2222222222222222,
             "#7201a8"
            ],
            [
             0.3333333333333333,
             "#9c179e"
            ],
            [
             0.4444444444444444,
             "#bd3786"
            ],
            [
             0.5555555555555556,
             "#d8576b"
            ],
            [
             0.6666666666666666,
             "#ed7953"
            ],
            [
             0.7777777777777778,
             "#fb9f3a"
            ],
            [
             0.8888888888888888,
             "#fdca26"
            ],
            [
             1,
             "#f0f921"
            ]
           ]
          },
          "colorway": [
           "#636efa",
           "#EF553B",
           "#00cc96",
           "#ab63fa",
           "#FFA15A",
           "#19d3f3",
           "#FF6692",
           "#B6E880",
           "#FF97FF",
           "#FECB52"
          ],
          "font": {
           "color": "#2a3f5f"
          },
          "geo": {
           "bgcolor": "white",
           "lakecolor": "white",
           "landcolor": "#E5ECF6",
           "showlakes": true,
           "showland": true,
           "subunitcolor": "white"
          },
          "hoverlabel": {
           "align": "left"
          },
          "hovermode": "closest",
          "mapbox": {
           "style": "light"
          },
          "paper_bgcolor": "white",
          "plot_bgcolor": "#E5ECF6",
          "polar": {
           "angularaxis": {
            "gridcolor": "white",
            "linecolor": "white",
            "ticks": ""
           },
           "bgcolor": "#E5ECF6",
           "radialaxis": {
            "gridcolor": "white",
            "linecolor": "white",
            "ticks": ""
           }
          },
          "scene": {
           "xaxis": {
            "backgroundcolor": "#E5ECF6",
            "gridcolor": "white",
            "gridwidth": 2,
            "linecolor": "white",
            "showbackground": true,
            "ticks": "",
            "zerolinecolor": "white"
           },
           "yaxis": {
            "backgroundcolor": "#E5ECF6",
            "gridcolor": "white",
            "gridwidth": 2,
            "linecolor": "white",
            "showbackground": true,
            "ticks": "",
            "zerolinecolor": "white"
           },
           "zaxis": {
            "backgroundcolor": "#E5ECF6",
            "gridcolor": "white",
            "gridwidth": 2,
            "linecolor": "white",
            "showbackground": true,
            "ticks": "",
            "zerolinecolor": "white"
           }
          },
          "shapedefaults": {
           "line": {
            "color": "#2a3f5f"
           }
          },
          "ternary": {
           "aaxis": {
            "gridcolor": "white",
            "linecolor": "white",
            "ticks": ""
           },
           "baxis": {
            "gridcolor": "white",
            "linecolor": "white",
            "ticks": ""
           },
           "bgcolor": "#E5ECF6",
           "caxis": {
            "gridcolor": "white",
            "linecolor": "white",
            "ticks": ""
           }
          },
          "title": {
           "x": 0.05
          },
          "xaxis": {
           "automargin": true,
           "gridcolor": "white",
           "linecolor": "white",
           "ticks": "",
           "title": {
            "standoff": 15
           },
           "zerolinecolor": "white",
           "zerolinewidth": 2
          },
          "yaxis": {
           "automargin": true,
           "gridcolor": "white",
           "linecolor": "white",
           "ticks": "",
           "title": {
            "standoff": 15
           },
           "zerolinecolor": "white",
           "zerolinewidth": 2
          }
         }
        },
        "title": {
         "text": "Heatmap of Average Loss Percentage by Commodity and Food Supply Stage"
        },
        "xaxis": {
         "anchor": "y",
         "domain": [
          0,
          1
         ],
         "title": {
          "text": "Commodity"
         }
        },
        "yaxis": {
         "anchor": "x",
         "domain": [
          0,
          1
         ],
         "title": {
          "text": "Food Supply Stage"
         }
        }
       }
      }
     },
     "metadata": {},
     "output_type": "display_data"
    }
   ],
   "source": [
    "# Pivot table for average loss percentage by commodity and stage\n",
    "pivot_table_loss_percentage = filtered_df.pivot_table(index='food_supply_stage', columns='commodity', values='loss_percentage', aggfunc='mean').round(2).reset_index()\n",
    "\n",
    "# Melt the pivot table to long format for plotly express\n",
    "melted_pivot = pivot_table_loss_percentage.melt(id_vars='food_supply_stage', var_name='commodity', value_name='loss_percentage')\n",
    "\n",
    "# Heatmap for average loss percentage by commodity and stage\n",
    "fig = px.density_heatmap(melted_pivot, x='commodity', y='food_supply_stage', z='loss_percentage', color_continuous_scale='Viridis',\n",
    "                         title='Heatmap of Average Loss Percentage by Commodity and Food Supply Stage',\n",
    "                         labels={'commodity': 'Commodity', 'food_supply_stage': 'Food Supply Stage', 'loss_percentage': 'Average Loss Percentage'})\n",
    "fig.show()"
   ]
  },
  {
   "cell_type": "code",
   "execution_count": 22,
   "metadata": {},
   "outputs": [
    {
     "data": {
      "application/vnd.plotly.v1+json": {
       "config": {
        "plotlyServerURL": "https://plot.ly"
       },
       "data": [
        {
         "coloraxis": "coloraxis",
         "histfunc": "sum",
         "hovertemplate": "Commodity: %{x}<br>Stage: %{y}<br>Loss Percentage: %{z:.2f}",
         "name": "",
         "textfont": {
          "color": "black",
          "size": 12
         },
         "texttemplate": "%{z:.2f}",
         "type": "histogram2d",
         "x": [
          "Apricots",
          "Apricots",
          "Apricots",
          "Apricots",
          "Plums and sloes",
          "Plums and sloes",
          "Plums and sloes",
          "Plums and sloes",
          "Pumpkins, squash and gourds",
          "Pumpkins, squash and gourds",
          "Pumpkins, squash and gourds",
          "Pumpkins, squash and gourds",
          "Sweet corn, frozen",
          "Sweet corn, frozen",
          "Sweet corn, frozen",
          "Sweet corn, frozen",
          "Watermelons",
          "Watermelons",
          "Watermelons",
          "Watermelons"
         ],
         "xaxis": "x",
         "xbingroup": "x",
         "y": [
          "Households",
          "Retail, wholesale and market",
          "Shelling and processing",
          "Transport",
          "Households",
          "Retail, wholesale and market",
          "Shelling and processing",
          "Transport",
          "Households",
          "Retail, wholesale and market",
          "Shelling and processing",
          "Transport",
          "Households",
          "Retail, wholesale and market",
          "Shelling and processing",
          "Transport",
          "Households",
          "Retail, wholesale and market",
          "Shelling and processing",
          "Transport"
         ],
         "yaxis": "y",
         "ybingroup": "y",
         "z": [
          null,
          30,
          null,
          null,
          null,
          21.5,
          null,
          null,
          null,
          20.6,
          null,
          55,
          27,
          null,
          38.5,
          null,
          null,
          25.4,
          null,
          null
         ]
        }
       ],
       "layout": {
        "coloraxis": {
         "colorbar": {
          "title": {
           "text": "Loss Percentage"
          }
         },
         "colorscale": [
          [
           0,
           "rgb(247,251,255)"
          ],
          [
           0.125,
           "rgb(222,235,247)"
          ],
          [
           0.25,
           "rgb(198,219,239)"
          ],
          [
           0.375,
           "rgb(158,202,225)"
          ],
          [
           0.5,
           "rgb(107,174,214)"
          ],
          [
           0.625,
           "rgb(66,146,198)"
          ],
          [
           0.75,
           "rgb(33,113,181)"
          ],
          [
           0.875,
           "rgb(8,81,156)"
          ],
          [
           1,
           "rgb(8,48,107)"
          ]
         ]
        },
        "legend": {
         "tracegroupgap": 0
        },
        "template": {
         "data": {
          "bar": [
           {
            "error_x": {
             "color": "#2a3f5f"
            },
            "error_y": {
             "color": "#2a3f5f"
            },
            "marker": {
             "line": {
              "color": "#E5ECF6",
              "width": 0.5
             },
             "pattern": {
              "fillmode": "overlay",
              "size": 10,
              "solidity": 0.2
             }
            },
            "type": "bar"
           }
          ],
          "barpolar": [
           {
            "marker": {
             "line": {
              "color": "#E5ECF6",
              "width": 0.5
             },
             "pattern": {
              "fillmode": "overlay",
              "size": 10,
              "solidity": 0.2
             }
            },
            "type": "barpolar"
           }
          ],
          "carpet": [
           {
            "aaxis": {
             "endlinecolor": "#2a3f5f",
             "gridcolor": "white",
             "linecolor": "white",
             "minorgridcolor": "white",
             "startlinecolor": "#2a3f5f"
            },
            "baxis": {
             "endlinecolor": "#2a3f5f",
             "gridcolor": "white",
             "linecolor": "white",
             "minorgridcolor": "white",
             "startlinecolor": "#2a3f5f"
            },
            "type": "carpet"
           }
          ],
          "choropleth": [
           {
            "colorbar": {
             "outlinewidth": 0,
             "ticks": ""
            },
            "type": "choropleth"
           }
          ],
          "contour": [
           {
            "colorbar": {
             "outlinewidth": 0,
             "ticks": ""
            },
            "colorscale": [
             [
              0,
              "#0d0887"
             ],
             [
              0.1111111111111111,
              "#46039f"
             ],
             [
              0.2222222222222222,
              "#7201a8"
             ],
             [
              0.3333333333333333,
              "#9c179e"
             ],
             [
              0.4444444444444444,
              "#bd3786"
             ],
             [
              0.5555555555555556,
              "#d8576b"
             ],
             [
              0.6666666666666666,
              "#ed7953"
             ],
             [
              0.7777777777777778,
              "#fb9f3a"
             ],
             [
              0.8888888888888888,
              "#fdca26"
             ],
             [
              1,
              "#f0f921"
             ]
            ],
            "type": "contour"
           }
          ],
          "contourcarpet": [
           {
            "colorbar": {
             "outlinewidth": 0,
             "ticks": ""
            },
            "type": "contourcarpet"
           }
          ],
          "heatmap": [
           {
            "colorbar": {
             "outlinewidth": 0,
             "ticks": ""
            },
            "colorscale": [
             [
              0,
              "#0d0887"
             ],
             [
              0.1111111111111111,
              "#46039f"
             ],
             [
              0.2222222222222222,
              "#7201a8"
             ],
             [
              0.3333333333333333,
              "#9c179e"
             ],
             [
              0.4444444444444444,
              "#bd3786"
             ],
             [
              0.5555555555555556,
              "#d8576b"
             ],
             [
              0.6666666666666666,
              "#ed7953"
             ],
             [
              0.7777777777777778,
              "#fb9f3a"
             ],
             [
              0.8888888888888888,
              "#fdca26"
             ],
             [
              1,
              "#f0f921"
             ]
            ],
            "type": "heatmap"
           }
          ],
          "heatmapgl": [
           {
            "colorbar": {
             "outlinewidth": 0,
             "ticks": ""
            },
            "colorscale": [
             [
              0,
              "#0d0887"
             ],
             [
              0.1111111111111111,
              "#46039f"
             ],
             [
              0.2222222222222222,
              "#7201a8"
             ],
             [
              0.3333333333333333,
              "#9c179e"
             ],
             [
              0.4444444444444444,
              "#bd3786"
             ],
             [
              0.5555555555555556,
              "#d8576b"
             ],
             [
              0.6666666666666666,
              "#ed7953"
             ],
             [
              0.7777777777777778,
              "#fb9f3a"
             ],
             [
              0.8888888888888888,
              "#fdca26"
             ],
             [
              1,
              "#f0f921"
             ]
            ],
            "type": "heatmapgl"
           }
          ],
          "histogram": [
           {
            "marker": {
             "pattern": {
              "fillmode": "overlay",
              "size": 10,
              "solidity": 0.2
             }
            },
            "type": "histogram"
           }
          ],
          "histogram2d": [
           {
            "colorbar": {
             "outlinewidth": 0,
             "ticks": ""
            },
            "colorscale": [
             [
              0,
              "#0d0887"
             ],
             [
              0.1111111111111111,
              "#46039f"
             ],
             [
              0.2222222222222222,
              "#7201a8"
             ],
             [
              0.3333333333333333,
              "#9c179e"
             ],
             [
              0.4444444444444444,
              "#bd3786"
             ],
             [
              0.5555555555555556,
              "#d8576b"
             ],
             [
              0.6666666666666666,
              "#ed7953"
             ],
             [
              0.7777777777777778,
              "#fb9f3a"
             ],
             [
              0.8888888888888888,
              "#fdca26"
             ],
             [
              1,
              "#f0f921"
             ]
            ],
            "type": "histogram2d"
           }
          ],
          "histogram2dcontour": [
           {
            "colorbar": {
             "outlinewidth": 0,
             "ticks": ""
            },
            "colorscale": [
             [
              0,
              "#0d0887"
             ],
             [
              0.1111111111111111,
              "#46039f"
             ],
             [
              0.2222222222222222,
              "#7201a8"
             ],
             [
              0.3333333333333333,
              "#9c179e"
             ],
             [
              0.4444444444444444,
              "#bd3786"
             ],
             [
              0.5555555555555556,
              "#d8576b"
             ],
             [
              0.6666666666666666,
              "#ed7953"
             ],
             [
              0.7777777777777778,
              "#fb9f3a"
             ],
             [
              0.8888888888888888,
              "#fdca26"
             ],
             [
              1,
              "#f0f921"
             ]
            ],
            "type": "histogram2dcontour"
           }
          ],
          "mesh3d": [
           {
            "colorbar": {
             "outlinewidth": 0,
             "ticks": ""
            },
            "type": "mesh3d"
           }
          ],
          "parcoords": [
           {
            "line": {
             "colorbar": {
              "outlinewidth": 0,
              "ticks": ""
             }
            },
            "type": "parcoords"
           }
          ],
          "pie": [
           {
            "automargin": true,
            "type": "pie"
           }
          ],
          "scatter": [
           {
            "fillpattern": {
             "fillmode": "overlay",
             "size": 10,
             "solidity": 0.2
            },
            "type": "scatter"
           }
          ],
          "scatter3d": [
           {
            "line": {
             "colorbar": {
              "outlinewidth": 0,
              "ticks": ""
             }
            },
            "marker": {
             "colorbar": {
              "outlinewidth": 0,
              "ticks": ""
             }
            },
            "type": "scatter3d"
           }
          ],
          "scattercarpet": [
           {
            "marker": {
             "colorbar": {
              "outlinewidth": 0,
              "ticks": ""
             }
            },
            "type": "scattercarpet"
           }
          ],
          "scattergeo": [
           {
            "marker": {
             "colorbar": {
              "outlinewidth": 0,
              "ticks": ""
             }
            },
            "type": "scattergeo"
           }
          ],
          "scattergl": [
           {
            "marker": {
             "colorbar": {
              "outlinewidth": 0,
              "ticks": ""
             }
            },
            "type": "scattergl"
           }
          ],
          "scattermapbox": [
           {
            "marker": {
             "colorbar": {
              "outlinewidth": 0,
              "ticks": ""
             }
            },
            "type": "scattermapbox"
           }
          ],
          "scatterpolar": [
           {
            "marker": {
             "colorbar": {
              "outlinewidth": 0,
              "ticks": ""
             }
            },
            "type": "scatterpolar"
           }
          ],
          "scatterpolargl": [
           {
            "marker": {
             "colorbar": {
              "outlinewidth": 0,
              "ticks": ""
             }
            },
            "type": "scatterpolargl"
           }
          ],
          "scatterternary": [
           {
            "marker": {
             "colorbar": {
              "outlinewidth": 0,
              "ticks": ""
             }
            },
            "type": "scatterternary"
           }
          ],
          "surface": [
           {
            "colorbar": {
             "outlinewidth": 0,
             "ticks": ""
            },
            "colorscale": [
             [
              0,
              "#0d0887"
             ],
             [
              0.1111111111111111,
              "#46039f"
             ],
             [
              0.2222222222222222,
              "#7201a8"
             ],
             [
              0.3333333333333333,
              "#9c179e"
             ],
             [
              0.4444444444444444,
              "#bd3786"
             ],
             [
              0.5555555555555556,
              "#d8576b"
             ],
             [
              0.6666666666666666,
              "#ed7953"
             ],
             [
              0.7777777777777778,
              "#fb9f3a"
             ],
             [
              0.8888888888888888,
              "#fdca26"
             ],
             [
              1,
              "#f0f921"
             ]
            ],
            "type": "surface"
           }
          ],
          "table": [
           {
            "cells": {
             "fill": {
              "color": "#EBF0F8"
             },
             "line": {
              "color": "white"
             }
            },
            "header": {
             "fill": {
              "color": "#C8D4E3"
             },
             "line": {
              "color": "white"
             }
            },
            "type": "table"
           }
          ]
         },
         "layout": {
          "annotationdefaults": {
           "arrowcolor": "#2a3f5f",
           "arrowhead": 0,
           "arrowwidth": 1
          },
          "autotypenumbers": "strict",
          "coloraxis": {
           "colorbar": {
            "outlinewidth": 0,
            "ticks": ""
           }
          },
          "colorscale": {
           "diverging": [
            [
             0,
             "#8e0152"
            ],
            [
             0.1,
             "#c51b7d"
            ],
            [
             0.2,
             "#de77ae"
            ],
            [
             0.3,
             "#f1b6da"
            ],
            [
             0.4,
             "#fde0ef"
            ],
            [
             0.5,
             "#f7f7f7"
            ],
            [
             0.6,
             "#e6f5d0"
            ],
            [
             0.7,
             "#b8e186"
            ],
            [
             0.8,
             "#7fbc41"
            ],
            [
             0.9,
             "#4d9221"
            ],
            [
             1,
             "#276419"
            ]
           ],
           "sequential": [
            [
             0,
             "#0d0887"
            ],
            [
             0.1111111111111111,
             "#46039f"
            ],
            [
             0.2222222222222222,
             "#7201a8"
            ],
            [
             0.3333333333333333,
             "#9c179e"
            ],
            [
             0.4444444444444444,
             "#bd3786"
            ],
            [
             0.5555555555555556,
             "#d8576b"
            ],
            [
             0.6666666666666666,
             "#ed7953"
            ],
            [
             0.7777777777777778,
             "#fb9f3a"
            ],
            [
             0.8888888888888888,
             "#fdca26"
            ],
            [
             1,
             "#f0f921"
            ]
           ],
           "sequentialminus": [
            [
             0,
             "#0d0887"
            ],
            [
             0.1111111111111111,
             "#46039f"
            ],
            [
             0.2222222222222222,
             "#7201a8"
            ],
            [
             0.3333333333333333,
             "#9c179e"
            ],
            [
             0.4444444444444444,
             "#bd3786"
            ],
            [
             0.5555555555555556,
             "#d8576b"
            ],
            [
             0.6666666666666666,
             "#ed7953"
            ],
            [
             0.7777777777777778,
             "#fb9f3a"
            ],
            [
             0.8888888888888888,
             "#fdca26"
            ],
            [
             1,
             "#f0f921"
            ]
           ]
          },
          "colorway": [
           "#636efa",
           "#EF553B",
           "#00cc96",
           "#ab63fa",
           "#FFA15A",
           "#19d3f3",
           "#FF6692",
           "#B6E880",
           "#FF97FF",
           "#FECB52"
          ],
          "font": {
           "color": "#2a3f5f"
          },
          "geo": {
           "bgcolor": "white",
           "lakecolor": "white",
           "landcolor": "#E5ECF6",
           "showlakes": true,
           "showland": true,
           "subunitcolor": "white"
          },
          "hoverlabel": {
           "align": "left"
          },
          "hovermode": "closest",
          "mapbox": {
           "style": "light"
          },
          "paper_bgcolor": "white",
          "plot_bgcolor": "#E5ECF6",
          "polar": {
           "angularaxis": {
            "gridcolor": "white",
            "linecolor": "white",
            "ticks": ""
           },
           "bgcolor": "#E5ECF6",
           "radialaxis": {
            "gridcolor": "white",
            "linecolor": "white",
            "ticks": ""
           }
          },
          "scene": {
           "xaxis": {
            "backgroundcolor": "#E5ECF6",
            "gridcolor": "white",
            "gridwidth": 2,
            "linecolor": "white",
            "showbackground": true,
            "ticks": "",
            "zerolinecolor": "white"
           },
           "yaxis": {
            "backgroundcolor": "#E5ECF6",
            "gridcolor": "white",
            "gridwidth": 2,
            "linecolor": "white",
            "showbackground": true,
            "ticks": "",
            "zerolinecolor": "white"
           },
           "zaxis": {
            "backgroundcolor": "#E5ECF6",
            "gridcolor": "white",
            "gridwidth": 2,
            "linecolor": "white",
            "showbackground": true,
            "ticks": "",
            "zerolinecolor": "white"
           }
          },
          "shapedefaults": {
           "line": {
            "color": "#2a3f5f"
           }
          },
          "ternary": {
           "aaxis": {
            "gridcolor": "white",
            "linecolor": "white",
            "ticks": ""
           },
           "baxis": {
            "gridcolor": "white",
            "linecolor": "white",
            "ticks": ""
           },
           "bgcolor": "#E5ECF6",
           "caxis": {
            "gridcolor": "white",
            "linecolor": "white",
            "ticks": ""
           }
          },
          "title": {
           "x": 0.05
          },
          "xaxis": {
           "automargin": true,
           "gridcolor": "white",
           "linecolor": "white",
           "ticks": "",
           "title": {
            "standoff": 15
           },
           "zerolinecolor": "white",
           "zerolinewidth": 2
          },
          "yaxis": {
           "automargin": true,
           "gridcolor": "white",
           "linecolor": "white",
           "ticks": "",
           "title": {
            "standoff": 15
           },
           "zerolinecolor": "white",
           "zerolinewidth": 2
          }
         }
        },
        "title": {
         "text": "Heatmap of Average Loss Percentage by Commodity and Food Supply Stage"
        },
        "xaxis": {
         "anchor": "y",
         "domain": [
          0,
          1
         ],
         "title": {
          "text": "Commodity"
         }
        },
        "yaxis": {
         "anchor": "x",
         "domain": [
          0,
          1
         ],
         "title": {
          "text": "Food Supply Stage"
         }
        }
       }
      }
     },
     "metadata": {},
     "output_type": "display_data"
    }
   ],
   "source": [
    "# Heatmap for average loss percentage by commodity and stage with lighter colors and values\n",
    "fig = px.density_heatmap(melted_pivot, x='commodity', y='food_supply_stage', z='loss_percentage',\n",
    "                         color_continuous_scale='Blues', title='Heatmap of Average Loss Percentage by Commodity and Food Supply Stage',\n",
    "                         labels={'commodity': 'Commodity', 'food_supply_stage': 'Food Supply Stage', 'loss_percentage': 'Average Loss Percentage'})\n",
    "\n",
    "# Update layout for lighter colors and add annotations\n",
    "fig.update_layout(coloraxis_colorbar=dict(title='Loss Percentage'))\n",
    "fig.update_traces(texttemplate='%{z:.2f}', textfont_size=12, textfont_color='black', hovertemplate='Commodity: %{x}<br>Stage: %{y}<br>Loss Percentage: %{z:.2f}')\n",
    "\n",
    "fig.show()"
   ]
  },
  {
   "cell_type": "code",
   "execution_count": 23,
   "metadata": {},
   "outputs": [
    {
     "data": {
      "application/vnd.plotly.v1+json": {
       "config": {
        "plotlyServerURL": "https://plot.ly"
       },
       "data": [
        {
         "branchvalues": "total",
         "domain": {
          "x": [
           0,
           1
          ],
          "y": [
           0,
           1
          ]
         },
         "hovertemplate": "labels=%{label}<br>Average Loss Percentage=%{value}<br>parent=%{parent}<br>id=%{id}<extra></extra>",
         "ids": [
          "Retail, wholesale and market/Apricots",
          "Retail, wholesale and market/Plums and sloes",
          "Retail, wholesale and market/Pumpkins, squash and gourds",
          "Transport/Pumpkins, squash and gourds",
          "Households/Sweet corn, frozen",
          "Shelling and processing/Sweet corn, frozen",
          "Retail, wholesale and market/Watermelons",
          "Households",
          "Retail, wholesale and market",
          "Shelling and processing",
          "Transport"
         ],
         "labels": [
          "Apricots",
          "Plums and sloes",
          "Pumpkins, squash and gourds",
          "Pumpkins, squash and gourds",
          "Sweet corn, frozen",
          "Sweet corn, frozen",
          "Watermelons",
          "Households",
          "Retail, wholesale and market",
          "Shelling and processing",
          "Transport"
         ],
         "name": "",
         "parents": [
          "Retail, wholesale and market",
          "Retail, wholesale and market",
          "Retail, wholesale and market",
          "Transport",
          "Households",
          "Shelling and processing",
          "Retail, wholesale and market",
          "",
          "",
          "",
          ""
         ],
         "type": "sunburst",
         "values": [
          90,
          64.5,
          61.800000000000004,
          165,
          81,
          115.5,
          76.19999999999999,
          81,
          292.5,
          115.5,
          165
         ]
        }
       ],
       "layout": {
        "legend": {
         "tracegroupgap": 0
        },
        "template": {
         "data": {
          "bar": [
           {
            "error_x": {
             "color": "#2a3f5f"
            },
            "error_y": {
             "color": "#2a3f5f"
            },
            "marker": {
             "line": {
              "color": "#E5ECF6",
              "width": 0.5
             },
             "pattern": {
              "fillmode": "overlay",
              "size": 10,
              "solidity": 0.2
             }
            },
            "type": "bar"
           }
          ],
          "barpolar": [
           {
            "marker": {
             "line": {
              "color": "#E5ECF6",
              "width": 0.5
             },
             "pattern": {
              "fillmode": "overlay",
              "size": 10,
              "solidity": 0.2
             }
            },
            "type": "barpolar"
           }
          ],
          "carpet": [
           {
            "aaxis": {
             "endlinecolor": "#2a3f5f",
             "gridcolor": "white",
             "linecolor": "white",
             "minorgridcolor": "white",
             "startlinecolor": "#2a3f5f"
            },
            "baxis": {
             "endlinecolor": "#2a3f5f",
             "gridcolor": "white",
             "linecolor": "white",
             "minorgridcolor": "white",
             "startlinecolor": "#2a3f5f"
            },
            "type": "carpet"
           }
          ],
          "choropleth": [
           {
            "colorbar": {
             "outlinewidth": 0,
             "ticks": ""
            },
            "type": "choropleth"
           }
          ],
          "contour": [
           {
            "colorbar": {
             "outlinewidth": 0,
             "ticks": ""
            },
            "colorscale": [
             [
              0,
              "#0d0887"
             ],
             [
              0.1111111111111111,
              "#46039f"
             ],
             [
              0.2222222222222222,
              "#7201a8"
             ],
             [
              0.3333333333333333,
              "#9c179e"
             ],
             [
              0.4444444444444444,
              "#bd3786"
             ],
             [
              0.5555555555555556,
              "#d8576b"
             ],
             [
              0.6666666666666666,
              "#ed7953"
             ],
             [
              0.7777777777777778,
              "#fb9f3a"
             ],
             [
              0.8888888888888888,
              "#fdca26"
             ],
             [
              1,
              "#f0f921"
             ]
            ],
            "type": "contour"
           }
          ],
          "contourcarpet": [
           {
            "colorbar": {
             "outlinewidth": 0,
             "ticks": ""
            },
            "type": "contourcarpet"
           }
          ],
          "heatmap": [
           {
            "colorbar": {
             "outlinewidth": 0,
             "ticks": ""
            },
            "colorscale": [
             [
              0,
              "#0d0887"
             ],
             [
              0.1111111111111111,
              "#46039f"
             ],
             [
              0.2222222222222222,
              "#7201a8"
             ],
             [
              0.3333333333333333,
              "#9c179e"
             ],
             [
              0.4444444444444444,
              "#bd3786"
             ],
             [
              0.5555555555555556,
              "#d8576b"
             ],
             [
              0.6666666666666666,
              "#ed7953"
             ],
             [
              0.7777777777777778,
              "#fb9f3a"
             ],
             [
              0.8888888888888888,
              "#fdca26"
             ],
             [
              1,
              "#f0f921"
             ]
            ],
            "type": "heatmap"
           }
          ],
          "heatmapgl": [
           {
            "colorbar": {
             "outlinewidth": 0,
             "ticks": ""
            },
            "colorscale": [
             [
              0,
              "#0d0887"
             ],
             [
              0.1111111111111111,
              "#46039f"
             ],
             [
              0.2222222222222222,
              "#7201a8"
             ],
             [
              0.3333333333333333,
              "#9c179e"
             ],
             [
              0.4444444444444444,
              "#bd3786"
             ],
             [
              0.5555555555555556,
              "#d8576b"
             ],
             [
              0.6666666666666666,
              "#ed7953"
             ],
             [
              0.7777777777777778,
              "#fb9f3a"
             ],
             [
              0.8888888888888888,
              "#fdca26"
             ],
             [
              1,
              "#f0f921"
             ]
            ],
            "type": "heatmapgl"
           }
          ],
          "histogram": [
           {
            "marker": {
             "pattern": {
              "fillmode": "overlay",
              "size": 10,
              "solidity": 0.2
             }
            },
            "type": "histogram"
           }
          ],
          "histogram2d": [
           {
            "colorbar": {
             "outlinewidth": 0,
             "ticks": ""
            },
            "colorscale": [
             [
              0,
              "#0d0887"
             ],
             [
              0.1111111111111111,
              "#46039f"
             ],
             [
              0.2222222222222222,
              "#7201a8"
             ],
             [
              0.3333333333333333,
              "#9c179e"
             ],
             [
              0.4444444444444444,
              "#bd3786"
             ],
             [
              0.5555555555555556,
              "#d8576b"
             ],
             [
              0.6666666666666666,
              "#ed7953"
             ],
             [
              0.7777777777777778,
              "#fb9f3a"
             ],
             [
              0.8888888888888888,
              "#fdca26"
             ],
             [
              1,
              "#f0f921"
             ]
            ],
            "type": "histogram2d"
           }
          ],
          "histogram2dcontour": [
           {
            "colorbar": {
             "outlinewidth": 0,
             "ticks": ""
            },
            "colorscale": [
             [
              0,
              "#0d0887"
             ],
             [
              0.1111111111111111,
              "#46039f"
             ],
             [
              0.2222222222222222,
              "#7201a8"
             ],
             [
              0.3333333333333333,
              "#9c179e"
             ],
             [
              0.4444444444444444,
              "#bd3786"
             ],
             [
              0.5555555555555556,
              "#d8576b"
             ],
             [
              0.6666666666666666,
              "#ed7953"
             ],
             [
              0.7777777777777778,
              "#fb9f3a"
             ],
             [
              0.8888888888888888,
              "#fdca26"
             ],
             [
              1,
              "#f0f921"
             ]
            ],
            "type": "histogram2dcontour"
           }
          ],
          "mesh3d": [
           {
            "colorbar": {
             "outlinewidth": 0,
             "ticks": ""
            },
            "type": "mesh3d"
           }
          ],
          "parcoords": [
           {
            "line": {
             "colorbar": {
              "outlinewidth": 0,
              "ticks": ""
             }
            },
            "type": "parcoords"
           }
          ],
          "pie": [
           {
            "automargin": true,
            "type": "pie"
           }
          ],
          "scatter": [
           {
            "fillpattern": {
             "fillmode": "overlay",
             "size": 10,
             "solidity": 0.2
            },
            "type": "scatter"
           }
          ],
          "scatter3d": [
           {
            "line": {
             "colorbar": {
              "outlinewidth": 0,
              "ticks": ""
             }
            },
            "marker": {
             "colorbar": {
              "outlinewidth": 0,
              "ticks": ""
             }
            },
            "type": "scatter3d"
           }
          ],
          "scattercarpet": [
           {
            "marker": {
             "colorbar": {
              "outlinewidth": 0,
              "ticks": ""
             }
            },
            "type": "scattercarpet"
           }
          ],
          "scattergeo": [
           {
            "marker": {
             "colorbar": {
              "outlinewidth": 0,
              "ticks": ""
             }
            },
            "type": "scattergeo"
           }
          ],
          "scattergl": [
           {
            "marker": {
             "colorbar": {
              "outlinewidth": 0,
              "ticks": ""
             }
            },
            "type": "scattergl"
           }
          ],
          "scattermapbox": [
           {
            "marker": {
             "colorbar": {
              "outlinewidth": 0,
              "ticks": ""
             }
            },
            "type": "scattermapbox"
           }
          ],
          "scatterpolar": [
           {
            "marker": {
             "colorbar": {
              "outlinewidth": 0,
              "ticks": ""
             }
            },
            "type": "scatterpolar"
           }
          ],
          "scatterpolargl": [
           {
            "marker": {
             "colorbar": {
              "outlinewidth": 0,
              "ticks": ""
             }
            },
            "type": "scatterpolargl"
           }
          ],
          "scatterternary": [
           {
            "marker": {
             "colorbar": {
              "outlinewidth": 0,
              "ticks": ""
             }
            },
            "type": "scatterternary"
           }
          ],
          "surface": [
           {
            "colorbar": {
             "outlinewidth": 0,
             "ticks": ""
            },
            "colorscale": [
             [
              0,
              "#0d0887"
             ],
             [
              0.1111111111111111,
              "#46039f"
             ],
             [
              0.2222222222222222,
              "#7201a8"
             ],
             [
              0.3333333333333333,
              "#9c179e"
             ],
             [
              0.4444444444444444,
              "#bd3786"
             ],
             [
              0.5555555555555556,
              "#d8576b"
             ],
             [
              0.6666666666666666,
              "#ed7953"
             ],
             [
              0.7777777777777778,
              "#fb9f3a"
             ],
             [
              0.8888888888888888,
              "#fdca26"
             ],
             [
              1,
              "#f0f921"
             ]
            ],
            "type": "surface"
           }
          ],
          "table": [
           {
            "cells": {
             "fill": {
              "color": "#EBF0F8"
             },
             "line": {
              "color": "white"
             }
            },
            "header": {
             "fill": {
              "color": "#C8D4E3"
             },
             "line": {
              "color": "white"
             }
            },
            "type": "table"
           }
          ]
         },
         "layout": {
          "annotationdefaults": {
           "arrowcolor": "#2a3f5f",
           "arrowhead": 0,
           "arrowwidth": 1
          },
          "autotypenumbers": "strict",
          "coloraxis": {
           "colorbar": {
            "outlinewidth": 0,
            "ticks": ""
           }
          },
          "colorscale": {
           "diverging": [
            [
             0,
             "#8e0152"
            ],
            [
             0.1,
             "#c51b7d"
            ],
            [
             0.2,
             "#de77ae"
            ],
            [
             0.3,
             "#f1b6da"
            ],
            [
             0.4,
             "#fde0ef"
            ],
            [
             0.5,
             "#f7f7f7"
            ],
            [
             0.6,
             "#e6f5d0"
            ],
            [
             0.7,
             "#b8e186"
            ],
            [
             0.8,
             "#7fbc41"
            ],
            [
             0.9,
             "#4d9221"
            ],
            [
             1,
             "#276419"
            ]
           ],
           "sequential": [
            [
             0,
             "#0d0887"
            ],
            [
             0.1111111111111111,
             "#46039f"
            ],
            [
             0.2222222222222222,
             "#7201a8"
            ],
            [
             0.3333333333333333,
             "#9c179e"
            ],
            [
             0.4444444444444444,
             "#bd3786"
            ],
            [
             0.5555555555555556,
             "#d8576b"
            ],
            [
             0.6666666666666666,
             "#ed7953"
            ],
            [
             0.7777777777777778,
             "#fb9f3a"
            ],
            [
             0.8888888888888888,
             "#fdca26"
            ],
            [
             1,
             "#f0f921"
            ]
           ],
           "sequentialminus": [
            [
             0,
             "#0d0887"
            ],
            [
             0.1111111111111111,
             "#46039f"
            ],
            [
             0.2222222222222222,
             "#7201a8"
            ],
            [
             0.3333333333333333,
             "#9c179e"
            ],
            [
             0.4444444444444444,
             "#bd3786"
            ],
            [
             0.5555555555555556,
             "#d8576b"
            ],
            [
             0.6666666666666666,
             "#ed7953"
            ],
            [
             0.7777777777777778,
             "#fb9f3a"
            ],
            [
             0.8888888888888888,
             "#fdca26"
            ],
            [
             1,
             "#f0f921"
            ]
           ]
          },
          "colorway": [
           "#636efa",
           "#EF553B",
           "#00cc96",
           "#ab63fa",
           "#FFA15A",
           "#19d3f3",
           "#FF6692",
           "#B6E880",
           "#FF97FF",
           "#FECB52"
          ],
          "font": {
           "color": "#2a3f5f"
          },
          "geo": {
           "bgcolor": "white",
           "lakecolor": "white",
           "landcolor": "#E5ECF6",
           "showlakes": true,
           "showland": true,
           "subunitcolor": "white"
          },
          "hoverlabel": {
           "align": "left"
          },
          "hovermode": "closest",
          "mapbox": {
           "style": "light"
          },
          "paper_bgcolor": "white",
          "plot_bgcolor": "#E5ECF6",
          "polar": {
           "angularaxis": {
            "gridcolor": "white",
            "linecolor": "white",
            "ticks": ""
           },
           "bgcolor": "#E5ECF6",
           "radialaxis": {
            "gridcolor": "white",
            "linecolor": "white",
            "ticks": ""
           }
          },
          "scene": {
           "xaxis": {
            "backgroundcolor": "#E5ECF6",
            "gridcolor": "white",
            "gridwidth": 2,
            "linecolor": "white",
            "showbackground": true,
            "ticks": "",
            "zerolinecolor": "white"
           },
           "yaxis": {
            "backgroundcolor": "#E5ECF6",
            "gridcolor": "white",
            "gridwidth": 2,
            "linecolor": "white",
            "showbackground": true,
            "ticks": "",
            "zerolinecolor": "white"
           },
           "zaxis": {
            "backgroundcolor": "#E5ECF6",
            "gridcolor": "white",
            "gridwidth": 2,
            "linecolor": "white",
            "showbackground": true,
            "ticks": "",
            "zerolinecolor": "white"
           }
          },
          "shapedefaults": {
           "line": {
            "color": "#2a3f5f"
           }
          },
          "ternary": {
           "aaxis": {
            "gridcolor": "white",
            "linecolor": "white",
            "ticks": ""
           },
           "baxis": {
            "gridcolor": "white",
            "linecolor": "white",
            "ticks": ""
           },
           "bgcolor": "#E5ECF6",
           "caxis": {
            "gridcolor": "white",
            "linecolor": "white",
            "ticks": ""
           }
          },
          "title": {
           "x": 0.05
          },
          "xaxis": {
           "automargin": true,
           "gridcolor": "white",
           "linecolor": "white",
           "ticks": "",
           "title": {
            "standoff": 15
           },
           "zerolinecolor": "white",
           "zerolinewidth": 2
          },
          "yaxis": {
           "automargin": true,
           "gridcolor": "white",
           "linecolor": "white",
           "ticks": "",
           "title": {
            "standoff": 15
           },
           "zerolinecolor": "white",
           "zerolinewidth": 2
          }
         }
        },
        "title": {
         "text": "Sunburst Chart of Loss Percentage by Food Supply Stage and Commodity"
        }
       }
      }
     },
     "metadata": {},
     "output_type": "display_data"
    }
   ],
   "source": [
    "# Sunburst chart for hierarchical data\n",
    "fig = px.sunburst(filtered_df, path=['food_supply_stage', 'commodity'], values='loss_percentage',\n",
    "                  title='Sunburst Chart of Loss Percentage by Food Supply Stage and Commodity',\n",
    "                  labels={'loss_percentage': 'Average Loss Percentage', 'commodity': 'Commodity', 'food_supply_stage': 'Food Supply Stage'})\n",
    "fig.show()"
   ]
  },
  {
   "cell_type": "markdown",
   "metadata": {},
   "source": [
    "Hypothesis3"
   ]
  },
  {
   "cell_type": "markdown",
   "metadata": {},
   "source": [
    "IMPORTANT STOP"
   ]
  },
  {
   "cell_type": "code",
   "execution_count": 24,
   "metadata": {},
   "outputs": [
    {
     "data": {
      "text/html": [
       "<div>\n",
       "<style scoped>\n",
       "    .dataframe tbody tr th:only-of-type {\n",
       "        vertical-align: middle;\n",
       "    }\n",
       "\n",
       "    .dataframe tbody tr th {\n",
       "        vertical-align: top;\n",
       "    }\n",
       "\n",
       "    .dataframe thead th {\n",
       "        text-align: right;\n",
       "    }\n",
       "</style>\n",
       "<table border=\"1\" class=\"dataframe\">\n",
       "  <thead>\n",
       "    <tr style=\"text-align: right;\">\n",
       "      <th></th>\n",
       "      <th>country</th>\n",
       "      <th>average_annual_emissions</th>\n",
       "    </tr>\n",
       "  </thead>\n",
       "  <tbody>\n",
       "    <tr>\n",
       "      <th>0</th>\n",
       "      <td>Angola</td>\n",
       "      <td>3682.222727</td>\n",
       "    </tr>\n",
       "    <tr>\n",
       "      <th>1</th>\n",
       "      <td>Armenia</td>\n",
       "      <td>2667.800000</td>\n",
       "    </tr>\n",
       "    <tr>\n",
       "      <th>2</th>\n",
       "      <td>Australia</td>\n",
       "      <td>35839.810000</td>\n",
       "    </tr>\n",
       "    <tr>\n",
       "      <th>3</th>\n",
       "      <td>Bangladesh</td>\n",
       "      <td>152726.777500</td>\n",
       "    </tr>\n",
       "    <tr>\n",
       "      <th>4</th>\n",
       "      <td>Benin</td>\n",
       "      <td>2372.670000</td>\n",
       "    </tr>\n",
       "    <tr>\n",
       "      <th>...</th>\n",
       "      <td>...</td>\n",
       "      <td>...</td>\n",
       "    </tr>\n",
       "    <tr>\n",
       "      <th>85</th>\n",
       "      <td>United States of America</td>\n",
       "      <td>581648.986667</td>\n",
       "    </tr>\n",
       "    <tr>\n",
       "      <th>86</th>\n",
       "      <td>Venezuela (Bolivarian Republic of)</td>\n",
       "      <td>3089.980000</td>\n",
       "    </tr>\n",
       "    <tr>\n",
       "      <th>87</th>\n",
       "      <td>Viet Nam</td>\n",
       "      <td>12095.960000</td>\n",
       "    </tr>\n",
       "    <tr>\n",
       "      <th>88</th>\n",
       "      <td>Zambia</td>\n",
       "      <td>6489.521818</td>\n",
       "    </tr>\n",
       "    <tr>\n",
       "      <th>89</th>\n",
       "      <td>Zimbabwe</td>\n",
       "      <td>1949.195455</td>\n",
       "    </tr>\n",
       "  </tbody>\n",
       "</table>\n",
       "<p>90 rows × 2 columns</p>\n",
       "</div>"
      ],
      "text/plain": [
       "                               country  average_annual_emissions\n",
       "0                               Angola               3682.222727\n",
       "1                              Armenia               2667.800000\n",
       "2                            Australia              35839.810000\n",
       "3                           Bangladesh             152726.777500\n",
       "4                                Benin               2372.670000\n",
       "..                                 ...                       ...\n",
       "85            United States of America             581648.986667\n",
       "86  Venezuela (Bolivarian Republic of)               3089.980000\n",
       "87                            Viet Nam              12095.960000\n",
       "88                              Zambia               6489.521818\n",
       "89                            Zimbabwe               1949.195455\n",
       "\n",
       "[90 rows x 2 columns]"
      ]
     },
     "execution_count": 24,
     "metadata": {},
     "output_type": "execute_result"
    }
   ],
   "source": [
    "# Calculate annual emissions per country\n",
    "annual_emissions_per_country = merged_df.groupby(['country', 'year'])['value'].sum().reset_index()\n",
    "\n",
    "# Calculate the average annual emissions for each country over the available years\n",
    "average_annual_emissions_per_country = annual_emissions_per_country.groupby('country')['value'].mean().reset_index()\n",
    "average_annual_emissions_per_country.columns = ['country', 'average_annual_emissions']\n",
    "\n",
    "# Display the average annual emissions per country\n",
    "average_annual_emissions_per_country"
   ]
  },
  {
   "cell_type": "code",
   "execution_count": 25,
   "metadata": {},
   "outputs": [
    {
     "data": {
      "text/html": [
       "<div>\n",
       "<style scoped>\n",
       "    .dataframe tbody tr th:only-of-type {\n",
       "        vertical-align: middle;\n",
       "    }\n",
       "\n",
       "    .dataframe tbody tr th {\n",
       "        vertical-align: top;\n",
       "    }\n",
       "\n",
       "    .dataframe thead th {\n",
       "        text-align: right;\n",
       "    }\n",
       "</style>\n",
       "<table border=\"1\" class=\"dataframe\">\n",
       "  <thead>\n",
       "    <tr style=\"text-align: right;\">\n",
       "      <th></th>\n",
       "      <th>country</th>\n",
       "      <th>average_annual_emissions</th>\n",
       "    </tr>\n",
       "  </thead>\n",
       "  <tbody>\n",
       "    <tr>\n",
       "      <th>38</th>\n",
       "      <td>India</td>\n",
       "      <td>4.147356e+06</td>\n",
       "    </tr>\n",
       "    <tr>\n",
       "      <th>85</th>\n",
       "      <td>United States of America</td>\n",
       "      <td>5.816490e+05</td>\n",
       "    </tr>\n",
       "    <tr>\n",
       "      <th>14</th>\n",
       "      <td>China</td>\n",
       "      <td>5.377577e+05</td>\n",
       "    </tr>\n",
       "    <tr>\n",
       "      <th>3</th>\n",
       "      <td>Bangladesh</td>\n",
       "      <td>1.527268e+05</td>\n",
       "    </tr>\n",
       "    <tr>\n",
       "      <th>83</th>\n",
       "      <td>United Kingdom of Great Britain and Northern I...</td>\n",
       "      <td>1.055910e+05</td>\n",
       "    </tr>\n",
       "    <tr>\n",
       "      <th>59</th>\n",
       "      <td>Nigeria</td>\n",
       "      <td>7.304955e+04</td>\n",
       "    </tr>\n",
       "    <tr>\n",
       "      <th>29</th>\n",
       "      <td>France</td>\n",
       "      <td>6.799227e+04</td>\n",
       "    </tr>\n",
       "    <tr>\n",
       "      <th>39</th>\n",
       "      <td>Indonesia</td>\n",
       "      <td>6.191384e+04</td>\n",
       "    </tr>\n",
       "    <tr>\n",
       "      <th>65</th>\n",
       "      <td>Republic of Korea</td>\n",
       "      <td>5.860816e+04</td>\n",
       "    </tr>\n",
       "    <tr>\n",
       "      <th>64</th>\n",
       "      <td>Philippines</td>\n",
       "      <td>5.434119e+04</td>\n",
       "    </tr>\n",
       "  </tbody>\n",
       "</table>\n",
       "</div>"
      ],
      "text/plain": [
       "                                              country  \\\n",
       "38                                              India   \n",
       "85                           United States of America   \n",
       "14                                              China   \n",
       "3                                          Bangladesh   \n",
       "83  United Kingdom of Great Britain and Northern I...   \n",
       "59                                            Nigeria   \n",
       "29                                             France   \n",
       "39                                          Indonesia   \n",
       "65                                  Republic of Korea   \n",
       "64                                        Philippines   \n",
       "\n",
       "    average_annual_emissions  \n",
       "38              4.147356e+06  \n",
       "85              5.816490e+05  \n",
       "14              5.377577e+05  \n",
       "3               1.527268e+05  \n",
       "83              1.055910e+05  \n",
       "59              7.304955e+04  \n",
       "29              6.799227e+04  \n",
       "39              6.191384e+04  \n",
       "65              5.860816e+04  \n",
       "64              5.434119e+04  "
      ]
     },
     "execution_count": 25,
     "metadata": {},
     "output_type": "execute_result"
    }
   ],
   "source": [
    "# Determine the top 10 countries by average annual emissions\n",
    "top_10_countries = average_annual_emissions_per_country.nlargest(10, 'average_annual_emissions')\n",
    "top_10_countries"
   ]
  },
  {
   "cell_type": "code",
   "execution_count": 26,
   "metadata": {},
   "outputs": [
    {
     "data": {
      "text/html": [
       "<div>\n",
       "<style scoped>\n",
       "    .dataframe tbody tr th:only-of-type {\n",
       "        vertical-align: middle;\n",
       "    }\n",
       "\n",
       "    .dataframe tbody tr th {\n",
       "        vertical-align: top;\n",
       "    }\n",
       "\n",
       "    .dataframe thead th {\n",
       "        text-align: right;\n",
       "    }\n",
       "</style>\n",
       "<table border=\"1\" class=\"dataframe\">\n",
       "  <thead>\n",
       "    <tr style=\"text-align: right;\">\n",
       "      <th></th>\n",
       "      <th>country</th>\n",
       "      <th>food_supply_stage</th>\n",
       "      <th>value</th>\n",
       "    </tr>\n",
       "  </thead>\n",
       "  <tbody>\n",
       "    <tr>\n",
       "      <th>0</th>\n",
       "      <td>Bangladesh</td>\n",
       "      <td>Farm</td>\n",
       "      <td>7168.969167</td>\n",
       "    </tr>\n",
       "    <tr>\n",
       "      <th>4</th>\n",
       "      <td>China</td>\n",
       "      <td>Farm</td>\n",
       "      <td>59752.211111</td>\n",
       "    </tr>\n",
       "    <tr>\n",
       "      <th>8</th>\n",
       "      <td>France</td>\n",
       "      <td>Shelling and processing</td>\n",
       "      <td>5924.820000</td>\n",
       "    </tr>\n",
       "    <tr>\n",
       "      <th>10</th>\n",
       "      <td>India</td>\n",
       "      <td>Farm</td>\n",
       "      <td>41316.153416</td>\n",
       "    </tr>\n",
       "    <tr>\n",
       "      <th>13</th>\n",
       "      <td>Indonesia</td>\n",
       "      <td>Farm</td>\n",
       "      <td>15317.794167</td>\n",
       "    </tr>\n",
       "    <tr>\n",
       "      <th>15</th>\n",
       "      <td>Nigeria</td>\n",
       "      <td>Farm</td>\n",
       "      <td>2334.163515</td>\n",
       "    </tr>\n",
       "    <tr>\n",
       "      <th>19</th>\n",
       "      <td>Philippines</td>\n",
       "      <td>Farm</td>\n",
       "      <td>8521.349167</td>\n",
       "    </tr>\n",
       "    <tr>\n",
       "      <th>25</th>\n",
       "      <td>Republic of Korea</td>\n",
       "      <td>Transport</td>\n",
       "      <td>1384.360000</td>\n",
       "    </tr>\n",
       "    <tr>\n",
       "      <th>26</th>\n",
       "      <td>United Kingdom of Great Britain and Northern I...</td>\n",
       "      <td>Farm</td>\n",
       "      <td>1757.127105</td>\n",
       "    </tr>\n",
       "    <tr>\n",
       "      <th>30</th>\n",
       "      <td>United States of America</td>\n",
       "      <td>Farm</td>\n",
       "      <td>17321.080000</td>\n",
       "    </tr>\n",
       "  </tbody>\n",
       "</table>\n",
       "</div>"
      ],
      "text/plain": [
       "                                              country  \\\n",
       "0                                          Bangladesh   \n",
       "4                                               China   \n",
       "8                                              France   \n",
       "10                                              India   \n",
       "13                                          Indonesia   \n",
       "15                                            Nigeria   \n",
       "19                                        Philippines   \n",
       "25                                  Republic of Korea   \n",
       "26  United Kingdom of Great Britain and Northern I...   \n",
       "30                           United States of America   \n",
       "\n",
       "          food_supply_stage         value  \n",
       "0                      Farm   7168.969167  \n",
       "4                      Farm  59752.211111  \n",
       "8   Shelling and processing   5924.820000  \n",
       "10                     Farm  41316.153416  \n",
       "13                     Farm  15317.794167  \n",
       "15                     Farm   2334.163515  \n",
       "19                     Farm   8521.349167  \n",
       "25                Transport   1384.360000  \n",
       "26                     Farm   1757.127105  \n",
       "30                     Farm  17321.080000  "
      ]
     },
     "execution_count": 26,
     "metadata": {},
     "output_type": "execute_result"
    }
   ],
   "source": [
    "# Filter the dataset to include only the top 10 countries\n",
    "filtered_df = merged_df[merged_df['country'].isin(top_10_countries['country'])]\n",
    "\n",
    "# Calculate the average annual emissions per stage for each country\n",
    "average_emissions_per_stage = filtered_df.groupby(['country', 'food_supply_stage'])['value'].mean().reset_index()\n",
    "\n",
    "# Identify the crucial stage with the highest average annual emissions for each country\n",
    "crucial_stages = average_emissions_per_stage.loc[average_emissions_per_stage.groupby('country')['value'].idxmax()]\n",
    "crucial_stages"
   ]
  },
  {
   "cell_type": "code",
   "execution_count": 27,
   "metadata": {},
   "outputs": [
    {
     "data": {
      "text/html": [
       "<div>\n",
       "<style scoped>\n",
       "    .dataframe tbody tr th:only-of-type {\n",
       "        vertical-align: middle;\n",
       "    }\n",
       "\n",
       "    .dataframe tbody tr th {\n",
       "        vertical-align: top;\n",
       "    }\n",
       "\n",
       "    .dataframe thead th {\n",
       "        text-align: right;\n",
       "    }\n",
       "</style>\n",
       "<table border=\"1\" class=\"dataframe\">\n",
       "  <thead>\n",
       "    <tr style=\"text-align: right;\">\n",
       "      <th></th>\n",
       "      <th>food_supply_stage</th>\n",
       "      <th>mean_emissions</th>\n",
       "    </tr>\n",
       "  </thead>\n",
       "  <tbody>\n",
       "    <tr>\n",
       "      <th>0</th>\n",
       "      <td>Farm</td>\n",
       "      <td>2288.067402</td>\n",
       "    </tr>\n",
       "    <tr>\n",
       "      <th>1</th>\n",
       "      <td>Households</td>\n",
       "      <td>2681.071071</td>\n",
       "    </tr>\n",
       "    <tr>\n",
       "      <th>2</th>\n",
       "      <td>Packing</td>\n",
       "      <td>376.404744</td>\n",
       "    </tr>\n",
       "    <tr>\n",
       "      <th>3</th>\n",
       "      <td>Retail, wholesale and market</td>\n",
       "      <td>3278.143919</td>\n",
       "    </tr>\n",
       "    <tr>\n",
       "      <th>4</th>\n",
       "      <td>Shelling and processing</td>\n",
       "      <td>160.107997</td>\n",
       "    </tr>\n",
       "    <tr>\n",
       "      <th>5</th>\n",
       "      <td>Transport</td>\n",
       "      <td>254.914488</td>\n",
       "    </tr>\n",
       "  </tbody>\n",
       "</table>\n",
       "</div>"
      ],
      "text/plain": [
       "              food_supply_stage  mean_emissions\n",
       "0                          Farm     2288.067402\n",
       "1                    Households     2681.071071\n",
       "2                       Packing      376.404744\n",
       "3  Retail, wholesale and market     3278.143919\n",
       "4       Shelling and processing      160.107997\n",
       "5                     Transport      254.914488"
      ]
     },
     "execution_count": 27,
     "metadata": {},
     "output_type": "execute_result"
    }
   ],
   "source": [
    "# Calculate the mean emissions for each crucial stage across all countries\n",
    "mean_emissions_crucial_stages = merged_df.groupby('food_supply_stage')['value'].mean().reset_index()\n",
    "mean_emissions_crucial_stages.columns = ['food_supply_stage', 'mean_emissions']\n",
    "mean_emissions_crucial_stages"
   ]
  },
  {
   "cell_type": "code",
   "execution_count": 29,
   "metadata": {},
   "outputs": [
    {
     "data": {
      "image/png": "[encoded data removed]",
      "text/plain": [
       "<Figure size 1400x800 with 1 Axes>"
      ]
     },
     "metadata": {},
     "output_type": "display_data"
    },
    {
     "data": {
      "text/html": [
       "<div>\n",
       "<style scoped>\n",
       "    .dataframe tbody tr th:only-of-type {\n",
       "        vertical-align: middle;\n",
       "    }\n",
       "\n",
       "    .dataframe tbody tr th {\n",
       "        vertical-align: top;\n",
       "    }\n",
       "\n",
       "    .dataframe thead th {\n",
       "        text-align: right;\n",
       "    }\n",
       "</style>\n",
       "<table border=\"1\" class=\"dataframe\">\n",
       "  <thead>\n",
       "    <tr style=\"text-align: right;\">\n",
       "      <th></th>\n",
       "      <th>food_supply_stage</th>\n",
       "      <th>mean_emissions</th>\n",
       "    </tr>\n",
       "  </thead>\n",
       "  <tbody>\n",
       "    <tr>\n",
       "      <th>0</th>\n",
       "      <td>Farm</td>\n",
       "      <td>2288.067402</td>\n",
       "    </tr>\n",
       "    <tr>\n",
       "      <th>1</th>\n",
       "      <td>Shelling and processing</td>\n",
       "      <td>160.107997</td>\n",
       "    </tr>\n",
       "    <tr>\n",
       "      <th>2</th>\n",
       "      <td>Transport</td>\n",
       "      <td>254.914488</td>\n",
       "    </tr>\n",
       "  </tbody>\n",
       "</table>\n",
       "</div>"
      ],
      "text/plain": [
       "         food_supply_stage  mean_emissions\n",
       "0                     Farm     2288.067402\n",
       "1  Shelling and processing      160.107997\n",
       "2                Transport      254.914488"
      ]
     },
     "execution_count": 29,
     "metadata": {},
     "output_type": "execute_result"
    }
   ],
   "source": [
    "#Can we put the mean emissions values in the legend?\n",
    "\n",
    "# Create a bar plot\n",
    "\n",
    "plt.figure(figsize=(14, 8))\n",
    "sns.barplot(x='value', y='country', hue='food_supply_stage', data=merged_crucial_stages, palette='viridis', dodge=False)\n",
    "for index, row in merged_crucial_stages.iterrows():\n",
    "    plt.text(row['value'], index, round(row['value'], 2), color='black', ha=\"center\")\n",
    "\n",
    "# Define colors for each stage\n",
    "stage_colors = sns.color_palette('husl', len(mean_emissions_crucial_stages))\n",
    "\n",
    "# Add a horizontal line for the mean emissions with different colors\n",
    "\n",
    "for idx, stage in enumerate(merged_crucial_stages['food_supply_stage'].unique()):\n",
    "    mean_val = mean_emissions_crucial_stages[mean_emissions_crucial_stages['food_supply_stage'] == stage]['mean_emissions'].values[0]\n",
    "    plt.axvline(mean_val, color=stage_colors[idx], linestyle='--', label=f'Mean {stage}')\n",
    "\n",
    "# Add a legend for the mean emissions\n",
    "\n",
    "plt.legend(title='Mean Emissions', bbox_to_anchor=(1.05, 1), loc='upper left')\n",
    "plt.title('Crucial Stages Contributing to Emissions in Top 10 Countries Compared to Mean Emissions')\n",
    "\n",
    "plt.xlabel('Emissions (kt)')\n",
    "plt.ylabel('Country')\n",
    "plt.tight_layout()\n",
    "plt.show()\n",
    "\n",
    "# From the mean_emissions_crucial_stages DataFrame, we extract just the stages in the graph (farm, transport, shell and processing)\n",
    "\n",
    "mean_emissions_crucial_stages = mean_emissions_crucial_stages[mean_emissions_crucial_stages['food_supply_stage'].isin(['Farm', 'Transport', 'Shelling and processing'])].reset_index(drop=True)\n",
    "\n",
    "mean_emissions_crucial_stages"
   ]
  }
 ],
 "metadata": {
  "kernelspec": {
   "display_name": "Python 3",
   "language": "python",
   "name": "python3"
  },
  "language_info": {
   "codemirror_mode": {
    "name": "ipython",
    "version": 3
   },
   "file_extension": ".py",
   "mimetype": "text/x-python",
   "name": "python",
   "nbconvert_exporter": "python",
   "pygments_lexer": "ipython3",
   "version": "3.11.7"
  }
 },
 "nbformat": 4,
 "nbformat_minor": 2
}
